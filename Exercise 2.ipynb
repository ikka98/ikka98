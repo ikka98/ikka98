{
 "cells": [
  {
   "cell_type": "markdown",
   "id": "850619ff",
   "metadata": {},
   "source": [
    "# Exercise 2"
   ]
  },
  {
   "cell_type": "markdown",
   "id": "95a8ad58",
   "metadata": {},
   "source": [
    "1. Write a python program to check whether a given string/number is a Palindrome or not"
   ]
  },
  {
   "cell_type": "code",
   "execution_count": 2,
   "id": "99f8c199",
   "metadata": {},
   "outputs": [
    {
     "name": "stdout",
     "output_type": "stream",
     "text": [
      "Yes\n"
     ]
    }
   ],
   "source": [
    "def isPalindrome(s):\n",
    "    return s == s[::-1]\n",
    " \n",
    " \n",
    "\n",
    "s = \"mom\"\n",
    "ans = isPalindrome(s)\n",
    " \n",
    "if ans:\n",
    "    print(\"Yes\")\n",
    "else:\n",
    "    print(\"No\")"
   ]
  },
  {
   "cell_type": "markdown",
   "id": "b96ddb35",
   "metadata": {},
   "source": [
    "2. Write a program to implement the insertion sort algorithm"
   ]
  },
  {
   "cell_type": "code",
   "execution_count": 1,
   "id": "269a31c1",
   "metadata": {},
   "outputs": [
    {
     "name": "stdout",
     "output_type": "stream",
     "text": [
      "Sorted array is:\n",
      "5\n",
      "6\n",
      "11\n",
      "12\n",
      "13\n"
     ]
    }
   ],
   "source": [
    "\n",
    "def insertionSort(arr):\n",
    "  \n",
    "   \n",
    "    for i in range(1, len(arr)):\n",
    "  \n",
    "        key = arr[i]\n",
    "  \n",
    "        \n",
    "        j = i-1\n",
    "        while j >=0 and key < arr[j] :\n",
    "                arr[j+1] = arr[j]\n",
    "                j -= 1\n",
    "        arr[j+1] = key\n",
    "  \n",
    "\n",
    "arr = [12, 11, 13, 5, 6]\n",
    "insertionSort(arr)\n",
    "print (\"Sorted array is:\")\n",
    "for i in range(len(arr)):\n",
    "    print (\"%d\" %arr[i])\n",
    "  "
   ]
  },
  {
   "cell_type": "markdown",
   "id": "f3a402e2",
   "metadata": {},
   "source": [
    "3. Write a program to implement the merge sort algorithm"
   ]
  },
  {
   "cell_type": "code",
   "execution_count": 2,
   "id": "a4f53fcd",
   "metadata": {},
   "outputs": [
    {
     "name": "stdout",
     "output_type": "stream",
     "text": [
      "Given array is\n",
      "12 11 13 5 6 7 \n",
      "\n",
      "Sorted array is\n",
      "5 6 7 11 12 13 "
     ]
    }
   ],
   "source": [
    "\n",
    " \n",
    " \n",
    "def merge(arr, l, m, r):\n",
    "    n1 = m - l + 1\n",
    "    n2 = r - m\n",
    " \n",
    "   \n",
    "    L = [0] * (n1)\n",
    "    R = [0] * (n2)\n",
    " \n",
    "   \n",
    "    for i in range(0, n1):\n",
    "        L[i] = arr[l + i]\n",
    " \n",
    "    for j in range(0, n2):\n",
    "        R[j] = arr[m + 1 + j]\n",
    " \n",
    "    \n",
    "    i = 0     \n",
    "    j = 0     \n",
    "    k = l     \n",
    " \n",
    "    while i < n1 and j < n2:\n",
    "        if L[i] <= R[j]:\n",
    "            arr[k] = L[i]\n",
    "            i += 1\n",
    "        else:\n",
    "            arr[k] = R[j]\n",
    "            j += 1\n",
    "        k += 1\n",
    " \n",
    "    \n",
    "    while i < n1:\n",
    "        arr[k] = L[i]\n",
    "        i += 1\n",
    "        k += 1\n",
    " \n",
    "    \n",
    "    while j < n2:\n",
    "        arr[k] = R[j]\n",
    "        j += 1\n",
    "        k += 1\n",
    " \n",
    "\n",
    "\n",
    " \n",
    " \n",
    "def mergeSort(arr, l, r):\n",
    "    if l < r:\n",
    " \n",
    "      \n",
    "        m = l+(r-l)//2\n",
    " \n",
    "     \n",
    "        mergeSort(arr, l, m)\n",
    "        mergeSort(arr, m+1, r)\n",
    "        merge(arr, l, m, r)\n",
    " \n",
    " \n",
    "\n",
    "arr = [12, 11, 13, 5, 6, 7]\n",
    "n = len(arr)\n",
    "print(\"Given array is\")\n",
    "for i in range(n):\n",
    "    print(\"%d\" % arr[i],end=\" \")\n",
    " \n",
    "mergeSort(arr, 0, n-1)\n",
    "print(\"\\n\\nSorted array is\")\n",
    "for i in range(n):\n",
    "    print(\"%d\" % arr[i],end=\" \")\n",
    " "
   ]
  },
  {
   "cell_type": "markdown",
   "id": "f11b173d",
   "metadata": {},
   "source": [
    "4.  Write a program to find triplets in the array whose sum is zero."
   ]
  },
  {
   "cell_type": "code",
   "execution_count": 3,
   "id": "5cac1617",
   "metadata": {},
   "outputs": [
    {
     "name": "stdout",
     "output_type": "stream",
     "text": [
      "0 -1 1\n",
      "2 -3 1\n"
     ]
    }
   ],
   "source": [
    "def findTriplets(arr, n):\n",
    "  \n",
    "    found = False\n",
    "    for i in range(0, n-2):\n",
    "      \n",
    "        for j in range(i+1, n-1):\n",
    "          \n",
    "            for k in range(j+1, n):\n",
    "              \n",
    "                if (arr[i] + arr[j] + arr[k] == 0):\n",
    "                    print(arr[i], arr[j], arr[k])\n",
    "                    found = True\n",
    "      \n",
    "              \n",
    "   \n",
    "    if (found == False):\n",
    "        print(\" not exist \")\n",
    "  \n",
    "\n",
    "arr = [0, -1, 2, -3, 1]\n",
    "n = len(arr)\n",
    "findTriplets(arr, n)\n",
    "  "
   ]
  },
  {
   "cell_type": "markdown",
   "id": "1ee288b0",
   "metadata": {},
   "source": [
    "5.  Write a Python Program to Concatenate Two Lists and display the results"
   ]
  },
  {
   "cell_type": "code",
   "execution_count": 13,
   "id": "a39a919e",
   "metadata": {},
   "outputs": [
    {
     "name": "stdout",
     "output_type": "stream",
     "text": [
      "Concatenated list : [1, 4, 5, 6, 5, 3, 5, 7, 2, 5]\n"
     ]
    }
   ],
   "source": [
    "test1 = [1, 4, 5, 6, 5]\n",
    "test2 = [3, 5, 7, 2, 5]\n",
    "  \n",
    "\n",
    "for i in test2 :\n",
    "    test1.append(i)\n",
    "  \n",
    "print (\"Concatenated list : \" \n",
    "                              + str(test1))"
   ]
  },
  {
   "cell_type": "markdown",
   "id": "93d0e605",
   "metadata": {},
   "source": [
    "6. Write a Python Program to Convert Two Lists into a Dictionary"
   ]
  },
  {
   "cell_type": "code",
   "execution_count": 12,
   "id": "3e52d5b2",
   "metadata": {},
   "outputs": [
    {
     "name": "stdout",
     "output_type": "stream",
     "text": [
      "Original key : ['kiran', 'abhi', 'juwel']\n",
      "Original value : [1, 4, 5]\n",
      "Resultant dictionary : {'kiran': 1, 'abhi': 4, 'juwel': 5}\n"
     ]
    }
   ],
   "source": [
    "\n",
    "\n",
    "  \n",
    "\n",
    "test_keys = [\"kiran\", \"abhi\", \"juwel\"]\n",
    "test_values = [1, 4, 5]\n",
    "  \n",
    "\n",
    "print (\"Original key : \" + str(test_keys))\n",
    "print (\"Original value : \" + str(test_values))\n",
    "  \n",
    "\n",
    "\n",
    "res = dict(zip(test_keys, test_values))\n",
    "  \n",
    "\n",
    "print (\"Resultant dictionary : \" +  str(res))"
   ]
  },
  {
   "cell_type": "markdown",
   "id": "ac8206fa",
   "metadata": {},
   "source": [
    "7. Write a Python Program to Add Two Matrices"
   ]
  },
  {
   "cell_type": "code",
   "execution_count": 4,
   "id": "12590618",
   "metadata": {},
   "outputs": [
    {
     "name": "stdout",
     "output_type": "stream",
     "text": [
      "[10, 10, 10]\n",
      "[10, 10, 10]\n",
      "[10, 10, 10]\n"
     ]
    }
   ],
   "source": [
    "X = [[1,2,3],\n",
    "    [4 ,5,6],\n",
    "    [7 ,8,9]]\n",
    " \n",
    "Y = [[9,8,7],\n",
    "    [6,5,4],\n",
    "    [3,2,1]]\n",
    " \n",
    " \n",
    "r = [[0,0,0],\n",
    "        [0,0,0],\n",
    "        [0,0,0]]\n",
    " \n",
    "\n",
    "for i in range(len(X)):  \n",
    "\n",
    "    for j in range(len(X[0])):\n",
    "        r[i][j] = X[i][j] + Y[i][j]\n",
    "\n",
    "for k in r:\n",
    "    print(k)"
   ]
  },
  {
   "cell_type": "markdown",
   "id": "4b31aa4a",
   "metadata": {},
   "source": [
    "8. Write a Python program to create a Balanced Binary Search Tree (BST) using an array (given) elements where array elements are sorted in ascending order."
   ]
  },
  {
   "cell_type": "code",
   "execution_count": 5,
   "id": "5c4d4272",
   "metadata": {},
   "outputs": [
    {
     "name": "stdout",
     "output_type": "stream",
     "text": [
      "4\n",
      "2\n",
      "1\n",
      "3\n",
      "6\n",
      "5\n",
      "7\n"
     ]
    }
   ],
   "source": [
    "class TreeNode(object):\n",
    "    def __init__(self, x):\n",
    "        self.val = x\n",
    "        self.left = None\n",
    "        self.right = None\n",
    "\n",
    "def sorted_array_to_bst(nums):\n",
    "    \n",
    "    if not nums:\n",
    "        return None\n",
    "    mid_val = len(nums)//2\n",
    "    node = TreeNode(nums[mid_val])\n",
    "    node.left = sorted_array_to_bst(nums[:mid_val])\n",
    "    node.right = sorted_array_to_bst(nums[mid_val+1:])\n",
    "    return node\n",
    "\n",
    "def preOrder(node): \n",
    "    if not node: \n",
    "        return      \n",
    "    print(node.val)\n",
    "    preOrder(node.left) \n",
    "    preOrder(node.right)   \n",
    "    \n",
    "result = sorted_array_to_bst([1, 2, 3, 4, 5, 6, 7])\n",
    "preOrder(result)"
   ]
  },
  {
   "cell_type": "markdown",
   "id": "92939850",
   "metadata": {},
   "source": [
    "9. Write a Python program to delete a node with the given key in a given Binary search tree (BST)."
   ]
  },
  {
   "cell_type": "code",
   "execution_count": 6,
   "id": "c30e1257",
   "metadata": {},
   "outputs": [
    {
     "name": "stdout",
     "output_type": "stream",
     "text": [
      "Inorder traversal of the given tree\n",
      "20 30 40 50 60 70 80 \n",
      "Delete 20\n",
      "Inorder traversal of the modified tree\n",
      "30 40 50 60 70 80 \n",
      "Delete 30\n",
      "Inorder traversal of the modified tree\n",
      "40 50 60 70 80 \n",
      "Delete 50\n",
      "Inorder traversal of the modified tree\n",
      "40 60 70 80 "
     ]
    }
   ],
   "source": [
    "\n",
    " \n",
    " \n",
    "class Node:\n",
    " \n",
    "    \n",
    "    def __init__(self, key):\n",
    "        self.key = key\n",
    "        self.left = None\n",
    "        self.right = None\n",
    " \n",
    " \n",
    "\n",
    "def inorder(root):\n",
    "    if root is not None:\n",
    "        inorder(root.left)\n",
    "        print (root.key,end=\" \")\n",
    "        inorder(root.right)\n",
    " \n",
    " \n",
    "\n",
    "def insert(node, key):\n",
    " \n",
    "    \n",
    "    if node is None:\n",
    "        return Node(key)\n",
    " \n",
    "    \n",
    "    if key < node.key:\n",
    "        node.left = insert(node.left, key)\n",
    "    else:\n",
    "        node.right = insert(node.right, key)\n",
    " \n",
    "  \n",
    "    return node\n",
    " \n",
    "\n",
    " \n",
    "def minValueNode(node):\n",
    "    current = node\n",
    " \n",
    "    \n",
    "    while(current.left is not None):\n",
    "        current = current.left\n",
    " \n",
    "    return current\n",
    " \n",
    "\n",
    " \n",
    " \n",
    "def deleteNode(root, key):\n",
    " \n",
    "    # Base Case\n",
    "    if root is None:\n",
    "        return root\n",
    " \n",
    "   \n",
    "    if key < root.key:\n",
    "        root.left = deleteNode(root.left, key)\n",
    " \n",
    "\n",
    "    elif(key > root.key):\n",
    "        root.right = deleteNode(root.right, key)\n",
    " \n",
    "\n",
    "    else:\n",
    " \n",
    "\n",
    "        if root.left is None:\n",
    "            temp = root.right\n",
    "            root = None\n",
    "            return temp\n",
    " \n",
    "        elif root.right is None:\n",
    "            temp = root.left\n",
    "            root = None\n",
    "            return temp\n",
    " \n",
    "\n",
    "        temp = minValueNode(root.right)\n",
    " \n",
    "\n",
    "        root.key = temp.key\n",
    " \n",
    "\n",
    "        root.right = deleteNode(root.right, temp.key)\n",
    " \n",
    "    return root\n",
    " \n",
    " \n",
    "\n",
    " \n",
    "root = None\n",
    "root = insert(root, 50)\n",
    "root = insert(root, 30)\n",
    "root = insert(root, 20)\n",
    "root = insert(root, 40)\n",
    "root = insert(root, 70)\n",
    "root = insert(root, 60)\n",
    "root = insert(root, 80)\n",
    " \n",
    "print (\"Inorder traversal of the given tree\")\n",
    "inorder(root)\n",
    " \n",
    "print (\"\\nDelete 20\")\n",
    "root = deleteNode(root, 20)\n",
    "print (\"Inorder traversal of the modified tree\")\n",
    "inorder(root)\n",
    " \n",
    "print (\"\\nDelete 30\")\n",
    "root = deleteNode(root, 30)\n",
    "print (\"Inorder traversal of the modified tree\")\n",
    "inorder(root)\n",
    " \n",
    "print (\"\\nDelete 50\")\n",
    "root = deleteNode(root, 50)\n",
    "print (\"Inorder traversal of the modified tree\")\n",
    "inorder(root)\n",
    " "
   ]
  },
  {
   "cell_type": "markdown",
   "id": "87dbe36d",
   "metadata": {},
   "source": [
    "10. Write a Python program to load a CSV file and display its contents."
   ]
  },
  {
   "cell_type": "code",
   "execution_count": 9,
   "id": "e346b1bb",
   "metadata": {},
   "outputs": [
    {
     "data": {
      "text/html": [
       "<div>\n",
       "<style scoped>\n",
       "    .dataframe tbody tr th:only-of-type {\n",
       "        vertical-align: middle;\n",
       "    }\n",
       "\n",
       "    .dataframe tbody tr th {\n",
       "        vertical-align: top;\n",
       "    }\n",
       "\n",
       "    .dataframe thead th {\n",
       "        text-align: right;\n",
       "    }\n",
       "</style>\n",
       "<table border=\"1\" class=\"dataframe\">\n",
       "  <thead>\n",
       "    <tr style=\"text-align: right;\">\n",
       "      <th></th>\n",
       "      <th>Date</th>\n",
       "      <th>Price</th>\n",
       "    </tr>\n",
       "  </thead>\n",
       "  <tbody>\n",
       "    <tr>\n",
       "      <th>0</th>\n",
       "      <td>May 20, 1987</td>\n",
       "      <td>18.63</td>\n",
       "    </tr>\n",
       "    <tr>\n",
       "      <th>1</th>\n",
       "      <td>May 21, 1987</td>\n",
       "      <td>18.45</td>\n",
       "    </tr>\n",
       "    <tr>\n",
       "      <th>2</th>\n",
       "      <td>May 22, 1987</td>\n",
       "      <td>18.55</td>\n",
       "    </tr>\n",
       "    <tr>\n",
       "      <th>3</th>\n",
       "      <td>May 25, 1987</td>\n",
       "      <td>18.60</td>\n",
       "    </tr>\n",
       "    <tr>\n",
       "      <th>4</th>\n",
       "      <td>May 26, 1987</td>\n",
       "      <td>18.63</td>\n",
       "    </tr>\n",
       "    <tr>\n",
       "      <th>...</th>\n",
       "      <td>...</td>\n",
       "      <td>...</td>\n",
       "    </tr>\n",
       "    <tr>\n",
       "      <th>8211</th>\n",
       "      <td>Sep 24, 2019</td>\n",
       "      <td>64.13</td>\n",
       "    </tr>\n",
       "    <tr>\n",
       "      <th>8212</th>\n",
       "      <td>Sep 25, 2019</td>\n",
       "      <td>62.41</td>\n",
       "    </tr>\n",
       "    <tr>\n",
       "      <th>8213</th>\n",
       "      <td>Sep 26, 2019</td>\n",
       "      <td>62.08</td>\n",
       "    </tr>\n",
       "    <tr>\n",
       "      <th>8214</th>\n",
       "      <td>Sep 27, 2019</td>\n",
       "      <td>62.48</td>\n",
       "    </tr>\n",
       "    <tr>\n",
       "      <th>8215</th>\n",
       "      <td>Sep 30, 2019</td>\n",
       "      <td>60.99</td>\n",
       "    </tr>\n",
       "  </tbody>\n",
       "</table>\n",
       "<p>8216 rows × 2 columns</p>\n",
       "</div>"
      ],
      "text/plain": [
       "              Date  Price\n",
       "0     May 20, 1987  18.63\n",
       "1     May 21, 1987  18.45\n",
       "2     May 22, 1987  18.55\n",
       "3     May 25, 1987  18.60\n",
       "4     May 26, 1987  18.63\n",
       "...            ...    ...\n",
       "8211  Sep 24, 2019  64.13\n",
       "8212  Sep 25, 2019  62.41\n",
       "8213  Sep 26, 2019  62.08\n",
       "8214  Sep 27, 2019  62.48\n",
       "8215  Sep 30, 2019  60.99\n",
       "\n",
       "[8216 rows x 2 columns]"
      ]
     },
     "execution_count": 9,
     "metadata": {},
     "output_type": "execute_result"
    }
   ],
   "source": [
    "import pandas as pd\n",
    "a =pd.read_csv('BrentOilPrices (1).csv')\n",
    "a"
   ]
  }
 ],
 "metadata": {
  "kernelspec": {
   "display_name": "Python 3 (ipykernel)",
   "language": "python",
   "name": "python3"
  },
  "language_info": {
   "codemirror_mode": {
    "name": "ipython",
    "version": 3
   },
   "file_extension": ".py",
   "mimetype": "text/x-python",
   "name": "python",
   "nbconvert_exporter": "python",
   "pygments_lexer": "ipython3",
   "version": "3.9.7"
  }
 },
 "nbformat": 4,
 "nbformat_minor": 5
}
