{
  "nbformat": 4,
  "nbformat_minor": 0,
  "metadata": {
    "colab": {
      "name": "Health insurance prediction(ML).ipynb",
      "provenance": []
    },
    "kernelspec": {
      "name": "python3",
      "display_name": "Python 3"
    }
  },
  "cells": [
    {
      "cell_type": "code",
      "metadata": {
        "colab": {
          "base_uri": "https://localhost:8080/"
        },
        "id": "Q49mtuXMLv2I",
        "outputId": "c9f9fdd0-035e-4aff-95ec-b272186dfe5d"
      },
      "source": [
        "from google.colab import drive\n",
        "drive.mount('/content/drive')"
      ],
      "execution_count": 1,
      "outputs": [
        {
          "output_type": "stream",
          "text": [
            "Drive already mounted at /content/drive; to attempt to forcibly remount, call drive.mount(\"/content/drive\", force_remount=True).\n"
          ],
          "name": "stdout"
        }
      ]
    },
    {
      "cell_type": "code",
      "metadata": {
        "id": "5boI5TAWP0C1"
      },
      "source": [
        "import pandas as pd\n",
        "import numpy as np"
      ],
      "execution_count": 2,
      "outputs": []
    },
    {
      "cell_type": "code",
      "metadata": {
        "id": "9sdcwS4FP0OM"
      },
      "source": [
        "train=pd.read_csv('/content/drive/MyDrive/train.csv')"
      ],
      "execution_count": 3,
      "outputs": []
    },
    {
      "cell_type": "code",
      "metadata": {
        "id": "HfA380HtP0QX"
      },
      "source": [
        "test=pd.read_csv('/content/drive/MyDrive/test.csv')"
      ],
      "execution_count": 4,
      "outputs": []
    },
    {
      "cell_type": "code",
      "metadata": {
        "colab": {
          "base_uri": "https://localhost:8080/",
          "height": 222
        },
        "id": "1Ntgk6PtP0S0",
        "outputId": "b123d4b4-ae86-4368-ec94-2f4dfc6cd189"
      },
      "source": [
        "train.head()"
      ],
      "execution_count": null,
      "outputs": [
        {
          "output_type": "execute_result",
          "data": {
            "text/html": [
              "<div>\n",
              "<style scoped>\n",
              "    .dataframe tbody tr th:only-of-type {\n",
              "        vertical-align: middle;\n",
              "    }\n",
              "\n",
              "    .dataframe tbody tr th {\n",
              "        vertical-align: top;\n",
              "    }\n",
              "\n",
              "    .dataframe thead th {\n",
              "        text-align: right;\n",
              "    }\n",
              "</style>\n",
              "<table border=\"1\" class=\"dataframe\">\n",
              "  <thead>\n",
              "    <tr style=\"text-align: right;\">\n",
              "      <th></th>\n",
              "      <th>id</th>\n",
              "      <th>Gender</th>\n",
              "      <th>Age</th>\n",
              "      <th>Driving_License</th>\n",
              "      <th>Region_Code</th>\n",
              "      <th>Previously_Insured</th>\n",
              "      <th>Vehicle_Age</th>\n",
              "      <th>Vehicle_Damage</th>\n",
              "      <th>Annual_Premium</th>\n",
              "      <th>Policy_Sales_Channel</th>\n",
              "      <th>Vintage</th>\n",
              "      <th>Response</th>\n",
              "    </tr>\n",
              "  </thead>\n",
              "  <tbody>\n",
              "    <tr>\n",
              "      <th>0</th>\n",
              "      <td>1</td>\n",
              "      <td>Male</td>\n",
              "      <td>44</td>\n",
              "      <td>1</td>\n",
              "      <td>28.0</td>\n",
              "      <td>0</td>\n",
              "      <td>&gt; 2 Years</td>\n",
              "      <td>Yes</td>\n",
              "      <td>40454.0</td>\n",
              "      <td>26.0</td>\n",
              "      <td>217</td>\n",
              "      <td>1</td>\n",
              "    </tr>\n",
              "    <tr>\n",
              "      <th>1</th>\n",
              "      <td>2</td>\n",
              "      <td>Male</td>\n",
              "      <td>76</td>\n",
              "      <td>1</td>\n",
              "      <td>3.0</td>\n",
              "      <td>0</td>\n",
              "      <td>1-2 Year</td>\n",
              "      <td>No</td>\n",
              "      <td>33536.0</td>\n",
              "      <td>26.0</td>\n",
              "      <td>183</td>\n",
              "      <td>0</td>\n",
              "    </tr>\n",
              "    <tr>\n",
              "      <th>2</th>\n",
              "      <td>3</td>\n",
              "      <td>Male</td>\n",
              "      <td>47</td>\n",
              "      <td>1</td>\n",
              "      <td>28.0</td>\n",
              "      <td>0</td>\n",
              "      <td>&gt; 2 Years</td>\n",
              "      <td>Yes</td>\n",
              "      <td>38294.0</td>\n",
              "      <td>26.0</td>\n",
              "      <td>27</td>\n",
              "      <td>1</td>\n",
              "    </tr>\n",
              "    <tr>\n",
              "      <th>3</th>\n",
              "      <td>4</td>\n",
              "      <td>Male</td>\n",
              "      <td>21</td>\n",
              "      <td>1</td>\n",
              "      <td>11.0</td>\n",
              "      <td>1</td>\n",
              "      <td>&lt; 1 Year</td>\n",
              "      <td>No</td>\n",
              "      <td>28619.0</td>\n",
              "      <td>152.0</td>\n",
              "      <td>203</td>\n",
              "      <td>0</td>\n",
              "    </tr>\n",
              "    <tr>\n",
              "      <th>4</th>\n",
              "      <td>5</td>\n",
              "      <td>Female</td>\n",
              "      <td>29</td>\n",
              "      <td>1</td>\n",
              "      <td>41.0</td>\n",
              "      <td>1</td>\n",
              "      <td>&lt; 1 Year</td>\n",
              "      <td>No</td>\n",
              "      <td>27496.0</td>\n",
              "      <td>152.0</td>\n",
              "      <td>39</td>\n",
              "      <td>0</td>\n",
              "    </tr>\n",
              "  </tbody>\n",
              "</table>\n",
              "</div>"
            ],
            "text/plain": [
              "   id  Gender  Age  ...  Policy_Sales_Channel  Vintage  Response\n",
              "0   1    Male   44  ...                  26.0      217         1\n",
              "1   2    Male   76  ...                  26.0      183         0\n",
              "2   3    Male   47  ...                  26.0       27         1\n",
              "3   4    Male   21  ...                 152.0      203         0\n",
              "4   5  Female   29  ...                 152.0       39         0\n",
              "\n",
              "[5 rows x 12 columns]"
            ]
          },
          "metadata": {
            "tags": []
          },
          "execution_count": 5
        }
      ]
    },
    {
      "cell_type": "code",
      "metadata": {
        "colab": {
          "base_uri": "https://localhost:8080/",
          "height": 222
        },
        "id": "2nLVzVgCP0U8",
        "outputId": "62d71900-de04-4edc-e442-2ff5688cf012"
      },
      "source": [
        "train.head()"
      ],
      "execution_count": null,
      "outputs": [
        {
          "output_type": "execute_result",
          "data": {
            "text/html": [
              "<div>\n",
              "<style scoped>\n",
              "    .dataframe tbody tr th:only-of-type {\n",
              "        vertical-align: middle;\n",
              "    }\n",
              "\n",
              "    .dataframe tbody tr th {\n",
              "        vertical-align: top;\n",
              "    }\n",
              "\n",
              "    .dataframe thead th {\n",
              "        text-align: right;\n",
              "    }\n",
              "</style>\n",
              "<table border=\"1\" class=\"dataframe\">\n",
              "  <thead>\n",
              "    <tr style=\"text-align: right;\">\n",
              "      <th></th>\n",
              "      <th>id</th>\n",
              "      <th>Gender</th>\n",
              "      <th>Age</th>\n",
              "      <th>Driving_License</th>\n",
              "      <th>Region_Code</th>\n",
              "      <th>Previously_Insured</th>\n",
              "      <th>Vehicle_Age</th>\n",
              "      <th>Vehicle_Damage</th>\n",
              "      <th>Annual_Premium</th>\n",
              "      <th>Policy_Sales_Channel</th>\n",
              "      <th>Vintage</th>\n",
              "      <th>Response</th>\n",
              "    </tr>\n",
              "  </thead>\n",
              "  <tbody>\n",
              "    <tr>\n",
              "      <th>0</th>\n",
              "      <td>1</td>\n",
              "      <td>Male</td>\n",
              "      <td>44</td>\n",
              "      <td>1</td>\n",
              "      <td>28.0</td>\n",
              "      <td>0</td>\n",
              "      <td>&gt; 2 Years</td>\n",
              "      <td>Yes</td>\n",
              "      <td>40454.0</td>\n",
              "      <td>26.0</td>\n",
              "      <td>217</td>\n",
              "      <td>1</td>\n",
              "    </tr>\n",
              "    <tr>\n",
              "      <th>1</th>\n",
              "      <td>2</td>\n",
              "      <td>Male</td>\n",
              "      <td>76</td>\n",
              "      <td>1</td>\n",
              "      <td>3.0</td>\n",
              "      <td>0</td>\n",
              "      <td>1-2 Year</td>\n",
              "      <td>No</td>\n",
              "      <td>33536.0</td>\n",
              "      <td>26.0</td>\n",
              "      <td>183</td>\n",
              "      <td>0</td>\n",
              "    </tr>\n",
              "    <tr>\n",
              "      <th>2</th>\n",
              "      <td>3</td>\n",
              "      <td>Male</td>\n",
              "      <td>47</td>\n",
              "      <td>1</td>\n",
              "      <td>28.0</td>\n",
              "      <td>0</td>\n",
              "      <td>&gt; 2 Years</td>\n",
              "      <td>Yes</td>\n",
              "      <td>38294.0</td>\n",
              "      <td>26.0</td>\n",
              "      <td>27</td>\n",
              "      <td>1</td>\n",
              "    </tr>\n",
              "    <tr>\n",
              "      <th>3</th>\n",
              "      <td>4</td>\n",
              "      <td>Male</td>\n",
              "      <td>21</td>\n",
              "      <td>1</td>\n",
              "      <td>11.0</td>\n",
              "      <td>1</td>\n",
              "      <td>&lt; 1 Year</td>\n",
              "      <td>No</td>\n",
              "      <td>28619.0</td>\n",
              "      <td>152.0</td>\n",
              "      <td>203</td>\n",
              "      <td>0</td>\n",
              "    </tr>\n",
              "    <tr>\n",
              "      <th>4</th>\n",
              "      <td>5</td>\n",
              "      <td>Female</td>\n",
              "      <td>29</td>\n",
              "      <td>1</td>\n",
              "      <td>41.0</td>\n",
              "      <td>1</td>\n",
              "      <td>&lt; 1 Year</td>\n",
              "      <td>No</td>\n",
              "      <td>27496.0</td>\n",
              "      <td>152.0</td>\n",
              "      <td>39</td>\n",
              "      <td>0</td>\n",
              "    </tr>\n",
              "  </tbody>\n",
              "</table>\n",
              "</div>"
            ],
            "text/plain": [
              "   id  Gender  Age  ...  Policy_Sales_Channel  Vintage  Response\n",
              "0   1    Male   44  ...                  26.0      217         1\n",
              "1   2    Male   76  ...                  26.0      183         0\n",
              "2   3    Male   47  ...                  26.0       27         1\n",
              "3   4    Male   21  ...                 152.0      203         0\n",
              "4   5  Female   29  ...                 152.0       39         0\n",
              "\n",
              "[5 rows x 12 columns]"
            ]
          },
          "metadata": {
            "tags": []
          },
          "execution_count": 6
        }
      ]
    },
    {
      "cell_type": "code",
      "metadata": {
        "id": "Jve5ykE6P0XN"
      },
      "source": [
        "import matplotlib.pyplot as plt\n",
        "import matplotlib\n",
        "import seaborn as sns\n",
        "%matplotlib inline\n",
        "matplotlib.style.use('ggplot')"
      ],
      "execution_count": 5,
      "outputs": []
    },
    {
      "cell_type": "code",
      "metadata": {
        "colab": {
          "base_uri": "https://localhost:8080/"
        },
        "id": "VTHNM-LoP0ZY",
        "outputId": "d9f22339-1f54-4edc-d478-2654e3f8bc6e"
      },
      "source": [
        "test.info()"
      ],
      "execution_count": null,
      "outputs": [
        {
          "output_type": "stream",
          "text": [
            "<class 'pandas.core.frame.DataFrame'>\n",
            "RangeIndex: 127037 entries, 0 to 127036\n",
            "Data columns (total 11 columns):\n",
            " #   Column                Non-Null Count   Dtype  \n",
            "---  ------                --------------   -----  \n",
            " 0   id                    127037 non-null  int64  \n",
            " 1   Gender                127037 non-null  object \n",
            " 2   Age                   127037 non-null  int64  \n",
            " 3   Driving_License       127037 non-null  int64  \n",
            " 4   Region_Code           127037 non-null  float64\n",
            " 5   Previously_Insured    127037 non-null  int64  \n",
            " 6   Vehicle_Age           127037 non-null  object \n",
            " 7   Vehicle_Damage        127037 non-null  object \n",
            " 8   Annual_Premium        127037 non-null  float64\n",
            " 9   Policy_Sales_Channel  127037 non-null  float64\n",
            " 10  Vintage               127037 non-null  int64  \n",
            "dtypes: float64(3), int64(5), object(3)\n",
            "memory usage: 10.7+ MB\n"
          ],
          "name": "stdout"
        }
      ]
    },
    {
      "cell_type": "code",
      "metadata": {
        "colab": {
          "base_uri": "https://localhost:8080/"
        },
        "id": "0WIWssDnP0ct",
        "outputId": "cc0c60f7-749c-4434-9339-e49fa305a02b"
      },
      "source": [
        "train.info()"
      ],
      "execution_count": null,
      "outputs": [
        {
          "output_type": "stream",
          "text": [
            "<class 'pandas.core.frame.DataFrame'>\n",
            "RangeIndex: 381109 entries, 0 to 381108\n",
            "Data columns (total 12 columns):\n",
            " #   Column                Non-Null Count   Dtype  \n",
            "---  ------                --------------   -----  \n",
            " 0   id                    381109 non-null  int64  \n",
            " 1   Gender                381109 non-null  object \n",
            " 2   Age                   381109 non-null  int64  \n",
            " 3   Driving_License       381109 non-null  int64  \n",
            " 4   Region_Code           381109 non-null  float64\n",
            " 5   Previously_Insured    381109 non-null  int64  \n",
            " 6   Vehicle_Age           381109 non-null  object \n",
            " 7   Vehicle_Damage        381109 non-null  object \n",
            " 8   Annual_Premium        381109 non-null  float64\n",
            " 9   Policy_Sales_Channel  381109 non-null  float64\n",
            " 10  Vintage               381109 non-null  int64  \n",
            " 11  Response              381109 non-null  int64  \n",
            "dtypes: float64(3), int64(6), object(3)\n",
            "memory usage: 34.9+ MB\n"
          ],
          "name": "stdout"
        }
      ]
    },
    {
      "cell_type": "code",
      "metadata": {
        "colab": {
          "base_uri": "https://localhost:8080/"
        },
        "id": "rtb3yy6UQ6NT",
        "outputId": "d71c41e5-a6e8-4a97-faef-15bdb8bff6bd"
      },
      "source": [
        "test.shape"
      ],
      "execution_count": null,
      "outputs": [
        {
          "output_type": "execute_result",
          "data": {
            "text/plain": [
              "(127037, 11)"
            ]
          },
          "metadata": {
            "tags": []
          },
          "execution_count": 10
        }
      ]
    },
    {
      "cell_type": "code",
      "metadata": {
        "colab": {
          "base_uri": "https://localhost:8080/"
        },
        "id": "onZ8WhipQ6Pa",
        "outputId": "e716e9fe-2f82-47fe-c3eb-681b505baff1"
      },
      "source": [
        "train.shape"
      ],
      "execution_count": null,
      "outputs": [
        {
          "output_type": "execute_result",
          "data": {
            "text/plain": [
              "(381109, 12)"
            ]
          },
          "metadata": {
            "tags": []
          },
          "execution_count": 11
        }
      ]
    },
    {
      "cell_type": "code",
      "metadata": {
        "colab": {
          "base_uri": "https://localhost:8080/"
        },
        "id": "gvM69CsIQ6Re",
        "outputId": "b11bfa34-ed1b-4a55-8b12-042efe010f00"
      },
      "source": [
        "train.isnull().sum()"
      ],
      "execution_count": null,
      "outputs": [
        {
          "output_type": "execute_result",
          "data": {
            "text/plain": [
              "id                      0\n",
              "Gender                  0\n",
              "Age                     0\n",
              "Driving_License         0\n",
              "Region_Code             0\n",
              "Previously_Insured      0\n",
              "Vehicle_Age             0\n",
              "Vehicle_Damage          0\n",
              "Annual_Premium          0\n",
              "Policy_Sales_Channel    0\n",
              "Vintage                 0\n",
              "Response                0\n",
              "dtype: int64"
            ]
          },
          "metadata": {
            "tags": []
          },
          "execution_count": 12
        }
      ]
    },
    {
      "cell_type": "code",
      "metadata": {
        "colab": {
          "base_uri": "https://localhost:8080/"
        },
        "id": "cR3HePIvQ6UG",
        "outputId": "49fd56cc-74c0-480f-b6f2-dd4beaf8d089"
      },
      "source": [
        "test.isnull().sum()"
      ],
      "execution_count": null,
      "outputs": [
        {
          "output_type": "execute_result",
          "data": {
            "text/plain": [
              "id                      0\n",
              "Gender                  0\n",
              "Age                     0\n",
              "Driving_License         0\n",
              "Region_Code             0\n",
              "Previously_Insured      0\n",
              "Vehicle_Age             0\n",
              "Vehicle_Damage          0\n",
              "Annual_Premium          0\n",
              "Policy_Sales_Channel    0\n",
              "Vintage                 0\n",
              "dtype: int64"
            ]
          },
          "metadata": {
            "tags": []
          },
          "execution_count": 13
        }
      ]
    },
    {
      "cell_type": "code",
      "metadata": {
        "colab": {
          "base_uri": "https://localhost:8080/",
          "height": 314
        },
        "id": "GJ4n21wHQ6XP",
        "outputId": "c3c43d48-9b75-414d-ba72-7cf501e63128"
      },
      "source": [
        "train.describe()"
      ],
      "execution_count": null,
      "outputs": [
        {
          "output_type": "execute_result",
          "data": {
            "text/html": [
              "<div>\n",
              "<style scoped>\n",
              "    .dataframe tbody tr th:only-of-type {\n",
              "        vertical-align: middle;\n",
              "    }\n",
              "\n",
              "    .dataframe tbody tr th {\n",
              "        vertical-align: top;\n",
              "    }\n",
              "\n",
              "    .dataframe thead th {\n",
              "        text-align: right;\n",
              "    }\n",
              "</style>\n",
              "<table border=\"1\" class=\"dataframe\">\n",
              "  <thead>\n",
              "    <tr style=\"text-align: right;\">\n",
              "      <th></th>\n",
              "      <th>id</th>\n",
              "      <th>Age</th>\n",
              "      <th>Driving_License</th>\n",
              "      <th>Region_Code</th>\n",
              "      <th>Previously_Insured</th>\n",
              "      <th>Annual_Premium</th>\n",
              "      <th>Policy_Sales_Channel</th>\n",
              "      <th>Vintage</th>\n",
              "      <th>Response</th>\n",
              "    </tr>\n",
              "  </thead>\n",
              "  <tbody>\n",
              "    <tr>\n",
              "      <th>count</th>\n",
              "      <td>381109.000000</td>\n",
              "      <td>381109.000000</td>\n",
              "      <td>381109.000000</td>\n",
              "      <td>381109.000000</td>\n",
              "      <td>381109.000000</td>\n",
              "      <td>381109.000000</td>\n",
              "      <td>381109.000000</td>\n",
              "      <td>381109.000000</td>\n",
              "      <td>381109.000000</td>\n",
              "    </tr>\n",
              "    <tr>\n",
              "      <th>mean</th>\n",
              "      <td>190555.000000</td>\n",
              "      <td>38.822584</td>\n",
              "      <td>0.997869</td>\n",
              "      <td>26.388807</td>\n",
              "      <td>0.458210</td>\n",
              "      <td>30564.389581</td>\n",
              "      <td>112.034295</td>\n",
              "      <td>154.347397</td>\n",
              "      <td>0.122563</td>\n",
              "    </tr>\n",
              "    <tr>\n",
              "      <th>std</th>\n",
              "      <td>110016.836208</td>\n",
              "      <td>15.511611</td>\n",
              "      <td>0.046110</td>\n",
              "      <td>13.229888</td>\n",
              "      <td>0.498251</td>\n",
              "      <td>17213.155057</td>\n",
              "      <td>54.203995</td>\n",
              "      <td>83.671304</td>\n",
              "      <td>0.327936</td>\n",
              "    </tr>\n",
              "    <tr>\n",
              "      <th>min</th>\n",
              "      <td>1.000000</td>\n",
              "      <td>20.000000</td>\n",
              "      <td>0.000000</td>\n",
              "      <td>0.000000</td>\n",
              "      <td>0.000000</td>\n",
              "      <td>2630.000000</td>\n",
              "      <td>1.000000</td>\n",
              "      <td>10.000000</td>\n",
              "      <td>0.000000</td>\n",
              "    </tr>\n",
              "    <tr>\n",
              "      <th>25%</th>\n",
              "      <td>95278.000000</td>\n",
              "      <td>25.000000</td>\n",
              "      <td>1.000000</td>\n",
              "      <td>15.000000</td>\n",
              "      <td>0.000000</td>\n",
              "      <td>24405.000000</td>\n",
              "      <td>29.000000</td>\n",
              "      <td>82.000000</td>\n",
              "      <td>0.000000</td>\n",
              "    </tr>\n",
              "    <tr>\n",
              "      <th>50%</th>\n",
              "      <td>190555.000000</td>\n",
              "      <td>36.000000</td>\n",
              "      <td>1.000000</td>\n",
              "      <td>28.000000</td>\n",
              "      <td>0.000000</td>\n",
              "      <td>31669.000000</td>\n",
              "      <td>133.000000</td>\n",
              "      <td>154.000000</td>\n",
              "      <td>0.000000</td>\n",
              "    </tr>\n",
              "    <tr>\n",
              "      <th>75%</th>\n",
              "      <td>285832.000000</td>\n",
              "      <td>49.000000</td>\n",
              "      <td>1.000000</td>\n",
              "      <td>35.000000</td>\n",
              "      <td>1.000000</td>\n",
              "      <td>39400.000000</td>\n",
              "      <td>152.000000</td>\n",
              "      <td>227.000000</td>\n",
              "      <td>0.000000</td>\n",
              "    </tr>\n",
              "    <tr>\n",
              "      <th>max</th>\n",
              "      <td>381109.000000</td>\n",
              "      <td>85.000000</td>\n",
              "      <td>1.000000</td>\n",
              "      <td>52.000000</td>\n",
              "      <td>1.000000</td>\n",
              "      <td>540165.000000</td>\n",
              "      <td>163.000000</td>\n",
              "      <td>299.000000</td>\n",
              "      <td>1.000000</td>\n",
              "    </tr>\n",
              "  </tbody>\n",
              "</table>\n",
              "</div>"
            ],
            "text/plain": [
              "                  id            Age  ...        Vintage       Response\n",
              "count  381109.000000  381109.000000  ...  381109.000000  381109.000000\n",
              "mean   190555.000000      38.822584  ...     154.347397       0.122563\n",
              "std    110016.836208      15.511611  ...      83.671304       0.327936\n",
              "min         1.000000      20.000000  ...      10.000000       0.000000\n",
              "25%     95278.000000      25.000000  ...      82.000000       0.000000\n",
              "50%    190555.000000      36.000000  ...     154.000000       0.000000\n",
              "75%    285832.000000      49.000000  ...     227.000000       0.000000\n",
              "max    381109.000000      85.000000  ...     299.000000       1.000000\n",
              "\n",
              "[8 rows x 9 columns]"
            ]
          },
          "metadata": {
            "tags": []
          },
          "execution_count": 14
        }
      ]
    },
    {
      "cell_type": "code",
      "metadata": {
        "colab": {
          "base_uri": "https://localhost:8080/",
          "height": 314
        },
        "id": "QlSwQA0eQ6Yy",
        "outputId": "bc1c6db0-3b30-4427-83cf-84705d5f4377"
      },
      "source": [
        "test.describe()"
      ],
      "execution_count": null,
      "outputs": [
        {
          "output_type": "execute_result",
          "data": {
            "text/html": [
              "<div>\n",
              "<style scoped>\n",
              "    .dataframe tbody tr th:only-of-type {\n",
              "        vertical-align: middle;\n",
              "    }\n",
              "\n",
              "    .dataframe tbody tr th {\n",
              "        vertical-align: top;\n",
              "    }\n",
              "\n",
              "    .dataframe thead th {\n",
              "        text-align: right;\n",
              "    }\n",
              "</style>\n",
              "<table border=\"1\" class=\"dataframe\">\n",
              "  <thead>\n",
              "    <tr style=\"text-align: right;\">\n",
              "      <th></th>\n",
              "      <th>id</th>\n",
              "      <th>Age</th>\n",
              "      <th>Driving_License</th>\n",
              "      <th>Region_Code</th>\n",
              "      <th>Previously_Insured</th>\n",
              "      <th>Annual_Premium</th>\n",
              "      <th>Policy_Sales_Channel</th>\n",
              "      <th>Vintage</th>\n",
              "    </tr>\n",
              "  </thead>\n",
              "  <tbody>\n",
              "    <tr>\n",
              "      <th>count</th>\n",
              "      <td>127037.000000</td>\n",
              "      <td>127037.000000</td>\n",
              "      <td>127037.000000</td>\n",
              "      <td>127037.000000</td>\n",
              "      <td>127037.000000</td>\n",
              "      <td>127037.000000</td>\n",
              "      <td>127037.000000</td>\n",
              "      <td>127037.000000</td>\n",
              "    </tr>\n",
              "    <tr>\n",
              "      <th>mean</th>\n",
              "      <td>444628.000000</td>\n",
              "      <td>38.765903</td>\n",
              "      <td>0.998134</td>\n",
              "      <td>26.459866</td>\n",
              "      <td>0.460039</td>\n",
              "      <td>30524.643576</td>\n",
              "      <td>111.800468</td>\n",
              "      <td>154.318301</td>\n",
              "    </tr>\n",
              "    <tr>\n",
              "      <th>std</th>\n",
              "      <td>36672.567411</td>\n",
              "      <td>15.465814</td>\n",
              "      <td>0.043152</td>\n",
              "      <td>13.209916</td>\n",
              "      <td>0.498403</td>\n",
              "      <td>16945.297103</td>\n",
              "      <td>54.371765</td>\n",
              "      <td>83.661588</td>\n",
              "    </tr>\n",
              "    <tr>\n",
              "      <th>min</th>\n",
              "      <td>381110.000000</td>\n",
              "      <td>20.000000</td>\n",
              "      <td>0.000000</td>\n",
              "      <td>0.000000</td>\n",
              "      <td>0.000000</td>\n",
              "      <td>2630.000000</td>\n",
              "      <td>1.000000</td>\n",
              "      <td>10.000000</td>\n",
              "    </tr>\n",
              "    <tr>\n",
              "      <th>25%</th>\n",
              "      <td>412869.000000</td>\n",
              "      <td>25.000000</td>\n",
              "      <td>1.000000</td>\n",
              "      <td>15.000000</td>\n",
              "      <td>0.000000</td>\n",
              "      <td>24325.000000</td>\n",
              "      <td>26.000000</td>\n",
              "      <td>82.000000</td>\n",
              "    </tr>\n",
              "    <tr>\n",
              "      <th>50%</th>\n",
              "      <td>444628.000000</td>\n",
              "      <td>36.000000</td>\n",
              "      <td>1.000000</td>\n",
              "      <td>28.000000</td>\n",
              "      <td>0.000000</td>\n",
              "      <td>31642.000000</td>\n",
              "      <td>135.000000</td>\n",
              "      <td>154.000000</td>\n",
              "    </tr>\n",
              "    <tr>\n",
              "      <th>75%</th>\n",
              "      <td>476387.000000</td>\n",
              "      <td>49.000000</td>\n",
              "      <td>1.000000</td>\n",
              "      <td>35.000000</td>\n",
              "      <td>1.000000</td>\n",
              "      <td>39408.000000</td>\n",
              "      <td>152.000000</td>\n",
              "      <td>227.000000</td>\n",
              "    </tr>\n",
              "    <tr>\n",
              "      <th>max</th>\n",
              "      <td>508146.000000</td>\n",
              "      <td>85.000000</td>\n",
              "      <td>1.000000</td>\n",
              "      <td>52.000000</td>\n",
              "      <td>1.000000</td>\n",
              "      <td>472042.000000</td>\n",
              "      <td>163.000000</td>\n",
              "      <td>299.000000</td>\n",
              "    </tr>\n",
              "  </tbody>\n",
              "</table>\n",
              "</div>"
            ],
            "text/plain": [
              "                  id            Age  ...  Policy_Sales_Channel        Vintage\n",
              "count  127037.000000  127037.000000  ...         127037.000000  127037.000000\n",
              "mean   444628.000000      38.765903  ...            111.800468     154.318301\n",
              "std     36672.567411      15.465814  ...             54.371765      83.661588\n",
              "min    381110.000000      20.000000  ...              1.000000      10.000000\n",
              "25%    412869.000000      25.000000  ...             26.000000      82.000000\n",
              "50%    444628.000000      36.000000  ...            135.000000     154.000000\n",
              "75%    476387.000000      49.000000  ...            152.000000     227.000000\n",
              "max    508146.000000      85.000000  ...            163.000000     299.000000\n",
              "\n",
              "[8 rows x 8 columns]"
            ]
          },
          "metadata": {
            "tags": []
          },
          "execution_count": 15
        }
      ]
    },
    {
      "cell_type": "code",
      "metadata": {
        "colab": {
          "base_uri": "https://localhost:8080/",
          "height": 480
        },
        "id": "XT0k0KmKQ6bQ",
        "outputId": "c536a637-1b1a-4529-db37-19a63146eb57"
      },
      "source": [
        "plt.figure(figsize=(8,6))\n",
        "sns.countplot(train['Response'])\n",
        "plt.title('Response Count for Training Data')\n",
        "plt.xlabel('Response')\n",
        "plt.ylabel('Count')"
      ],
      "execution_count": null,
      "outputs": [
        {
          "output_type": "stream",
          "text": [
            "/usr/local/lib/python3.6/dist-packages/seaborn/_decorators.py:43: FutureWarning: Pass the following variable as a keyword arg: x. From version 0.12, the only valid positional argument will be `data`, and passing other arguments without an explicit keyword will result in an error or misinterpretation.\n",
            "  FutureWarning\n"
          ],
          "name": "stderr"
        },
        {
          "output_type": "execute_result",
          "data": {
            "text/plain": [
              "Text(0, 0.5, 'Count')"
            ]
          },
          "metadata": {
            "tags": []
          },
          "execution_count": 16
        },
        {
          "output_type": "display_data",
          "data": {
            "image/png": "[encoded data removed]",
            "text/plain": [
              "<Figure size 576x432 with 1 Axes>"
            ]
          },
          "metadata": {
            "tags": []
          }
        }
      ]
    },
    {
      "cell_type": "code",
      "metadata": {
        "id": "6-g4XKEFQ6dH"
      },
      "source": [
        "train['Gender']=train['Gender'].map({'Male':1,'Female':0})\n",
        "train['Vehicle_Age']=train['Vehicle_Age'].map({'< 1 Year':0,'1-2 Year':1,'> 2 Years':2})\n",
        "train['Vehicle_Damage']=train['Vehicle_Damage'].map({'Yes':1,'No':0})"
      ],
      "execution_count": 6,
      "outputs": []
    },
    {
      "cell_type": "code",
      "metadata": {
        "id": "gAOFYVzOQ6e-"
      },
      "source": [
        "test['Gender']=test['Gender'].map({'Male':1,'Female':0})\n",
        "test['Vehicle_Age']=test['Vehicle_Age'].map({'< 1 Year':0,'1-2 Year':1,'> 2 Years':2})\n",
        "test['Vehicle_Damage']=test['Vehicle_Damage'].map({'Yes':1,'No':0})"
      ],
      "execution_count": 7,
      "outputs": []
    },
    {
      "cell_type": "code",
      "metadata": {
        "colab": {
          "base_uri": "https://localhost:8080/"
        },
        "id": "WjQodYbUQ6hX",
        "outputId": "93b12111-e1ea-423e-d74a-07d1e91418c1"
      },
      "source": [
        "train.info()"
      ],
      "execution_count": null,
      "outputs": [
        {
          "output_type": "stream",
          "text": [
            "<class 'pandas.core.frame.DataFrame'>\n",
            "RangeIndex: 381109 entries, 0 to 381108\n",
            "Data columns (total 12 columns):\n",
            " #   Column                Non-Null Count   Dtype  \n",
            "---  ------                --------------   -----  \n",
            " 0   id                    381109 non-null  int64  \n",
            " 1   Gender                381109 non-null  int64  \n",
            " 2   Age                   381109 non-null  int64  \n",
            " 3   Driving_License       381109 non-null  int64  \n",
            " 4   Region_Code           381109 non-null  float64\n",
            " 5   Previously_Insured    381109 non-null  int64  \n",
            " 6   Vehicle_Age           381109 non-null  int64  \n",
            " 7   Vehicle_Damage        381109 non-null  int64  \n",
            " 8   Annual_Premium        381109 non-null  float64\n",
            " 9   Policy_Sales_Channel  381109 non-null  float64\n",
            " 10  Vintage               381109 non-null  int64  \n",
            " 11  Response              381109 non-null  int64  \n",
            "dtypes: float64(3), int64(9)\n",
            "memory usage: 34.9 MB\n"
          ],
          "name": "stdout"
        }
      ]
    },
    {
      "cell_type": "code",
      "metadata": {
        "colab": {
          "base_uri": "https://localhost:8080/",
          "height": 709
        },
        "id": "xyVxfAJkQ6jq",
        "outputId": "7bc676c8-9517-4c2d-c905-868dacf3b198"
      },
      "source": [
        "plt.figure(figsize=(10,10))\n",
        "sns.heatmap(train.corr(),annot=True)"
      ],
      "execution_count": null,
      "outputs": [
        {
          "output_type": "execute_result",
          "data": {
            "text/plain": [
              "<matplotlib.axes._subplots.AxesSubplot at 0x7ff1cc218cf8>"
            ]
          },
          "metadata": {
            "tags": []
          },
          "execution_count": 11
        },
        {
          "output_type": "display_data",
          "data": {
            "image/png": "[encoded data removed]",
            "text/plain": [
              "<Figure size 720x720 with 2 Axes>"
            ]
          },
          "metadata": {
            "tags": []
          }
        }
      ]
    },
    {
      "cell_type": "code",
      "metadata": {
        "id": "9PzE0YRqQ6l6"
      },
      "source": [
        "from sklearn.preprocessing import MinMaxScaler\n",
        "from sklearn.preprocessing import StandardScaler"
      ],
      "execution_count": 8,
      "outputs": []
    },
    {
      "cell_type": "code",
      "metadata": {
        "id": "oTNFpOFiQ6oU"
      },
      "source": [
        "scalar=MinMaxScaler()"
      ],
      "execution_count": 9,
      "outputs": []
    },
    {
      "cell_type": "code",
      "metadata": {
        "id": "BIYQPQP4Q6qd"
      },
      "source": [
        "train['Age']=scalar.fit_transform(train[['Age']])\n",
        "test['Age']=scalar.fit_transform(test[['Age']])"
      ],
      "execution_count": 10,
      "outputs": []
    },
    {
      "cell_type": "code",
      "metadata": {
        "id": "KKIJVUJ2Q6sg"
      },
      "source": [
        "train['Vintage']=scalar.fit_transform(train[['Vintage']])\n",
        "test['Vintage']=scalar.fit_transform(test[['Vintage']])"
      ],
      "execution_count": 11,
      "outputs": []
    },
    {
      "cell_type": "code",
      "metadata": {
        "colab": {
          "base_uri": "https://localhost:8080/",
          "height": 222
        },
        "id": "-8po_RLAQ6uz",
        "outputId": "004a6159-af47-4461-af8a-8568c1b8f48d"
      },
      "source": [
        "train.head()"
      ],
      "execution_count": null,
      "outputs": [
        {
          "output_type": "execute_result",
          "data": {
            "text/html": [
              "<div>\n",
              "<style scoped>\n",
              "    .dataframe tbody tr th:only-of-type {\n",
              "        vertical-align: middle;\n",
              "    }\n",
              "\n",
              "    .dataframe tbody tr th {\n",
              "        vertical-align: top;\n",
              "    }\n",
              "\n",
              "    .dataframe thead th {\n",
              "        text-align: right;\n",
              "    }\n",
              "</style>\n",
              "<table border=\"1\" class=\"dataframe\">\n",
              "  <thead>\n",
              "    <tr style=\"text-align: right;\">\n",
              "      <th></th>\n",
              "      <th>id</th>\n",
              "      <th>Gender</th>\n",
              "      <th>Age</th>\n",
              "      <th>Driving_License</th>\n",
              "      <th>Region_Code</th>\n",
              "      <th>Previously_Insured</th>\n",
              "      <th>Vehicle_Age</th>\n",
              "      <th>Vehicle_Damage</th>\n",
              "      <th>Annual_Premium</th>\n",
              "      <th>Policy_Sales_Channel</th>\n",
              "      <th>Vintage</th>\n",
              "      <th>Response</th>\n",
              "    </tr>\n",
              "  </thead>\n",
              "  <tbody>\n",
              "    <tr>\n",
              "      <th>0</th>\n",
              "      <td>1</td>\n",
              "      <td>1</td>\n",
              "      <td>0.369231</td>\n",
              "      <td>1</td>\n",
              "      <td>28.0</td>\n",
              "      <td>0</td>\n",
              "      <td>2</td>\n",
              "      <td>1</td>\n",
              "      <td>40454.0</td>\n",
              "      <td>26.0</td>\n",
              "      <td>0.716263</td>\n",
              "      <td>1</td>\n",
              "    </tr>\n",
              "    <tr>\n",
              "      <th>1</th>\n",
              "      <td>2</td>\n",
              "      <td>1</td>\n",
              "      <td>0.861538</td>\n",
              "      <td>1</td>\n",
              "      <td>3.0</td>\n",
              "      <td>0</td>\n",
              "      <td>1</td>\n",
              "      <td>0</td>\n",
              "      <td>33536.0</td>\n",
              "      <td>26.0</td>\n",
              "      <td>0.598616</td>\n",
              "      <td>0</td>\n",
              "    </tr>\n",
              "    <tr>\n",
              "      <th>2</th>\n",
              "      <td>3</td>\n",
              "      <td>1</td>\n",
              "      <td>0.415385</td>\n",
              "      <td>1</td>\n",
              "      <td>28.0</td>\n",
              "      <td>0</td>\n",
              "      <td>2</td>\n",
              "      <td>1</td>\n",
              "      <td>38294.0</td>\n",
              "      <td>26.0</td>\n",
              "      <td>0.058824</td>\n",
              "      <td>1</td>\n",
              "    </tr>\n",
              "    <tr>\n",
              "      <th>3</th>\n",
              "      <td>4</td>\n",
              "      <td>1</td>\n",
              "      <td>0.015385</td>\n",
              "      <td>1</td>\n",
              "      <td>11.0</td>\n",
              "      <td>1</td>\n",
              "      <td>0</td>\n",
              "      <td>0</td>\n",
              "      <td>28619.0</td>\n",
              "      <td>152.0</td>\n",
              "      <td>0.667820</td>\n",
              "      <td>0</td>\n",
              "    </tr>\n",
              "    <tr>\n",
              "      <th>4</th>\n",
              "      <td>5</td>\n",
              "      <td>0</td>\n",
              "      <td>0.138462</td>\n",
              "      <td>1</td>\n",
              "      <td>41.0</td>\n",
              "      <td>1</td>\n",
              "      <td>0</td>\n",
              "      <td>0</td>\n",
              "      <td>27496.0</td>\n",
              "      <td>152.0</td>\n",
              "      <td>0.100346</td>\n",
              "      <td>0</td>\n",
              "    </tr>\n",
              "  </tbody>\n",
              "</table>\n",
              "</div>"
            ],
            "text/plain": [
              "   id  Gender       Age  ...  Policy_Sales_Channel   Vintage  Response\n",
              "0   1       1  0.369231  ...                  26.0  0.716263         1\n",
              "1   2       1  0.861538  ...                  26.0  0.598616         0\n",
              "2   3       1  0.415385  ...                  26.0  0.058824         1\n",
              "3   4       1  0.015385  ...                 152.0  0.667820         0\n",
              "4   5       0  0.138462  ...                 152.0  0.100346         0\n",
              "\n",
              "[5 rows x 12 columns]"
            ]
          },
          "metadata": {
            "tags": []
          },
          "execution_count": 16
        }
      ]
    },
    {
      "cell_type": "code",
      "metadata": {
        "colab": {
          "base_uri": "https://localhost:8080/",
          "height": 222
        },
        "id": "5yL23CJnQ6xC",
        "outputId": "be3cdd5a-e4f5-491b-9b5c-b6c572eb2fbe"
      },
      "source": [
        "test.head()"
      ],
      "execution_count": null,
      "outputs": [
        {
          "output_type": "execute_result",
          "data": {
            "text/html": [
              "<div>\n",
              "<style scoped>\n",
              "    .dataframe tbody tr th:only-of-type {\n",
              "        vertical-align: middle;\n",
              "    }\n",
              "\n",
              "    .dataframe tbody tr th {\n",
              "        vertical-align: top;\n",
              "    }\n",
              "\n",
              "    .dataframe thead th {\n",
              "        text-align: right;\n",
              "    }\n",
              "</style>\n",
              "<table border=\"1\" class=\"dataframe\">\n",
              "  <thead>\n",
              "    <tr style=\"text-align: right;\">\n",
              "      <th></th>\n",
              "      <th>id</th>\n",
              "      <th>Gender</th>\n",
              "      <th>Age</th>\n",
              "      <th>Driving_License</th>\n",
              "      <th>Region_Code</th>\n",
              "      <th>Previously_Insured</th>\n",
              "      <th>Vehicle_Age</th>\n",
              "      <th>Vehicle_Damage</th>\n",
              "      <th>Annual_Premium</th>\n",
              "      <th>Policy_Sales_Channel</th>\n",
              "      <th>Vintage</th>\n",
              "    </tr>\n",
              "  </thead>\n",
              "  <tbody>\n",
              "    <tr>\n",
              "      <th>0</th>\n",
              "      <td>381110</td>\n",
              "      <td>1</td>\n",
              "      <td>0.076923</td>\n",
              "      <td>1</td>\n",
              "      <td>11.0</td>\n",
              "      <td>1</td>\n",
              "      <td>0</td>\n",
              "      <td>0</td>\n",
              "      <td>35786.0</td>\n",
              "      <td>152.0</td>\n",
              "      <td>0.148789</td>\n",
              "    </tr>\n",
              "    <tr>\n",
              "      <th>1</th>\n",
              "      <td>381111</td>\n",
              "      <td>1</td>\n",
              "      <td>0.307692</td>\n",
              "      <td>1</td>\n",
              "      <td>28.0</td>\n",
              "      <td>0</td>\n",
              "      <td>1</td>\n",
              "      <td>1</td>\n",
              "      <td>33762.0</td>\n",
              "      <td>7.0</td>\n",
              "      <td>0.349481</td>\n",
              "    </tr>\n",
              "    <tr>\n",
              "      <th>2</th>\n",
              "      <td>381112</td>\n",
              "      <td>1</td>\n",
              "      <td>0.415385</td>\n",
              "      <td>1</td>\n",
              "      <td>28.0</td>\n",
              "      <td>0</td>\n",
              "      <td>1</td>\n",
              "      <td>1</td>\n",
              "      <td>40050.0</td>\n",
              "      <td>124.0</td>\n",
              "      <td>0.653979</td>\n",
              "    </tr>\n",
              "    <tr>\n",
              "      <th>3</th>\n",
              "      <td>381113</td>\n",
              "      <td>1</td>\n",
              "      <td>0.061538</td>\n",
              "      <td>1</td>\n",
              "      <td>27.0</td>\n",
              "      <td>1</td>\n",
              "      <td>0</td>\n",
              "      <td>1</td>\n",
              "      <td>37356.0</td>\n",
              "      <td>152.0</td>\n",
              "      <td>0.612457</td>\n",
              "    </tr>\n",
              "    <tr>\n",
              "      <th>4</th>\n",
              "      <td>381114</td>\n",
              "      <td>1</td>\n",
              "      <td>0.107692</td>\n",
              "      <td>1</td>\n",
              "      <td>28.0</td>\n",
              "      <td>1</td>\n",
              "      <td>0</td>\n",
              "      <td>0</td>\n",
              "      <td>59097.0</td>\n",
              "      <td>152.0</td>\n",
              "      <td>0.993080</td>\n",
              "    </tr>\n",
              "  </tbody>\n",
              "</table>\n",
              "</div>"
            ],
            "text/plain": [
              "       id  Gender       Age  ...  Annual_Premium  Policy_Sales_Channel   Vintage\n",
              "0  381110       1  0.076923  ...         35786.0                 152.0  0.148789\n",
              "1  381111       1  0.307692  ...         33762.0                   7.0  0.349481\n",
              "2  381112       1  0.415385  ...         40050.0                 124.0  0.653979\n",
              "3  381113       1  0.061538  ...         37356.0                 152.0  0.612457\n",
              "4  381114       1  0.107692  ...         59097.0                 152.0  0.993080\n",
              "\n",
              "[5 rows x 11 columns]"
            ]
          },
          "metadata": {
            "tags": []
          },
          "execution_count": 26
        }
      ]
    },
    {
      "cell_type": "code",
      "metadata": {
        "id": "pgFkn_8JQ6z0"
      },
      "source": [
        "scalar=StandardScaler()"
      ],
      "execution_count": 12,
      "outputs": []
    },
    {
      "cell_type": "code",
      "metadata": {
        "id": "qQUZ8DWFQ619"
      },
      "source": [
        "train['Annual_Premium']=scalar.fit_transform(train[['Annual_Premium']])\n",
        "test['Annual_Premium']=scalar.fit_transform(test[['Annual_Premium']])"
      ],
      "execution_count": 13,
      "outputs": []
    },
    {
      "cell_type": "code",
      "metadata": {
        "id": "5NBVYHV6Q635"
      },
      "source": [
        "train=train.drop(['id'],axis=1)"
      ],
      "execution_count": 14,
      "outputs": []
    },
    {
      "cell_type": "markdown",
      "metadata": {
        "id": "OL4tbfucT3hT"
      },
      "source": [
        "# **Modeling**"
      ]
    },
    {
      "cell_type": "code",
      "metadata": {
        "id": "E991rXPdQ66X"
      },
      "source": [
        "X=train.drop(['Response'],axis=1)\n",
        "y=train['Response']"
      ],
      "execution_count": 15,
      "outputs": []
    },
    {
      "cell_type": "code",
      "metadata": {
        "colab": {
          "base_uri": "https://localhost:8080/"
        },
        "id": "9ZVWiyKBQ68f",
        "outputId": "141879d7-22e4-41be-e926-0c80428ee0a1"
      },
      "source": [
        "y.head()"
      ],
      "execution_count": 16,
      "outputs": [
        {
          "output_type": "execute_result",
          "data": {
            "text/plain": [
              "0    1\n",
              "1    0\n",
              "2    1\n",
              "3    0\n",
              "4    0\n",
              "Name: Response, dtype: int64"
            ]
          },
          "metadata": {
            "tags": []
          },
          "execution_count": 16
        }
      ]
    },
    {
      "cell_type": "markdown",
      "metadata": {
        "id": "4oWTMvpUUUES"
      },
      "source": [
        "**Handling imabalanced data**"
      ]
    },
    {
      "cell_type": "code",
      "metadata": {
        "colab": {
          "base_uri": "https://localhost:8080/"
        },
        "id": "AR7gh2PcQ6_n",
        "outputId": "f5b5c39d-7fe4-47d3-8a60-e2fd6bafcf5b"
      },
      "source": [
        "print(\"Before OverSampling, counts of label '1': {}\".format(sum(y == 1))) \n",
        "print(\"Before OverSampling, counts of label '0': {} \\n\".format(sum(y == 0)))"
      ],
      "execution_count": 17,
      "outputs": [
        {
          "output_type": "stream",
          "text": [
            "Before OverSampling, counts of label '1': 46710\n",
            "Before OverSampling, counts of label '0': 334399 \n",
            "\n"
          ],
          "name": "stdout"
        }
      ]
    },
    {
      "cell_type": "code",
      "metadata": {
        "colab": {
          "base_uri": "https://localhost:8080/"
        },
        "id": "WApIHpvCT1TK",
        "outputId": "770f382d-d5b2-4ba3-a824-92ba688d1f4f"
      },
      "source": [
        "from imblearn.over_sampling import SMOTE"
      ],
      "execution_count": 18,
      "outputs": [
        {
          "output_type": "stream",
          "text": [
            "/usr/local/lib/python3.6/dist-packages/sklearn/externals/six.py:31: FutureWarning: The module is deprecated in version 0.21 and will be removed in version 0.23 since we've dropped support for Python 2.7. Please rely on the official version of six (https://pypi.org/project/six/).\n",
            "  \"(https://pypi.org/project/six/).\", FutureWarning)\n",
            "/usr/local/lib/python3.6/dist-packages/sklearn/utils/deprecation.py:144: FutureWarning: The sklearn.neighbors.base module is  deprecated in version 0.22 and will be removed in version 0.24. The corresponding classes / functions should instead be imported from sklearn.neighbors. Anything that cannot be imported from sklearn.neighbors is now part of the private API.\n",
            "  warnings.warn(message, FutureWarning)\n"
          ],
          "name": "stderr"
        }
      ]
    },
    {
      "cell_type": "code",
      "metadata": {
        "colab": {
          "base_uri": "https://localhost:8080/"
        },
        "id": "h9TnAbAKT1Vg",
        "outputId": "8f00a1f2-643e-48a1-dec4-02430dfbf836"
      },
      "source": [
        "sm = SMOTE(random_state = 2) \n",
        "X, y = sm.fit_sample(X, y.ravel()) \n",
        "  \n",
        "print('After OverSampling, the shape of X: {}'.format(X.shape)) \n",
        "print('After OverSampling, the shape of y: {} \\n'.format(y.shape))"
      ],
      "execution_count": 19,
      "outputs": [
        {
          "output_type": "stream",
          "text": [
            "/usr/local/lib/python3.6/dist-packages/sklearn/utils/deprecation.py:87: FutureWarning: Function safe_indexing is deprecated; safe_indexing is deprecated in version 0.22 and will be removed in version 0.24.\n",
            "  warnings.warn(msg, category=FutureWarning)\n"
          ],
          "name": "stderr"
        },
        {
          "output_type": "stream",
          "text": [
            "After OverSampling, the shape of X: (668798, 10)\n",
            "After OverSampling, the shape of y: (668798,) \n",
            "\n"
          ],
          "name": "stdout"
        }
      ]
    },
    {
      "cell_type": "code",
      "metadata": {
        "colab": {
          "base_uri": "https://localhost:8080/"
        },
        "id": "1D03Ge8WT1Xy",
        "outputId": "1e28c01b-c3be-4ece-cf50-9ee9f8d5713c"
      },
      "source": [
        "print(\"After OverSampling, counts of label '1': {}\".format(sum(y == 1))) \n",
        "print(\"After OverSampling, counts of label '0': {}\".format(sum(y == 0)))"
      ],
      "execution_count": 20,
      "outputs": [
        {
          "output_type": "stream",
          "text": [
            "After OverSampling, counts of label '1': 334399\n",
            "After OverSampling, counts of label '0': 334399\n"
          ],
          "name": "stdout"
        }
      ]
    },
    {
      "cell_type": "code",
      "metadata": {
        "id": "4f_wHTqnT1ae"
      },
      "source": [
        "from sklearn.model_selection import train_test_split"
      ],
      "execution_count": 21,
      "outputs": []
    },
    {
      "cell_type": "code",
      "metadata": {
        "id": "_NtkBdz6T1d-"
      },
      "source": [
        "X_train,X_test,y_train,y_test=train_test_split(X,y,test_size=0.2,random_state=101)"
      ],
      "execution_count": 22,
      "outputs": []
    },
    {
      "cell_type": "code",
      "metadata": {
        "id": "843adg1BT1fa"
      },
      "source": [
        "from sklearn.ensemble import RandomForestClassifier\n",
        "from sklearn.model_selection import RandomizedSearchCV\n",
        "from pprint import pprint\n",
        "from sklearn.metrics import mean_squared_error\n",
        "from sklearn.metrics import accuracy_score\n",
        "from sklearn.metrics import classification_report\n",
        "from sklearn.metrics import confusion_matrix\n",
        "from sklearn.metrics import plot_confusion_matrix,roc_auc_score"
      ],
      "execution_count": 23,
      "outputs": []
    },
    {
      "cell_type": "code",
      "metadata": {
        "id": "pFpXGPF4T1ki"
      },
      "source": [
        "def model_error(model,X_test,y_test):\n",
        "    predict = model.predict(X_test)\n",
        "    print(\"RMSE of model: \",np.sqrt(mean_squared_error(y_test, predict)))\n",
        "    print(\"\\nAccuracy: \",accuracy_score(y_test,predict))\n",
        "    print(\"\\nClassification Report: \",classification_report(y_test,predict))\n",
        "    print(\"\\nConfusion Matrix: \\n\",confusion_matrix(y_test,predict))\n",
        "    print(\"\\nROC_AUC_Score: \",roc_auc_score(y_test,predict))\n",
        "\n",
        "    fig, ax = plt.subplots(figsize=(10, 10))\n",
        "    plot_confusion_matrix(model, X_test, y_test,ax=ax,cmap='YlOrBr',normalize='all')\n",
        "    plt.title(\"Confusion Matrix\")\n",
        "    #skplt.metrics.plot_confusion_matrix(y_test, predict,figsize=(10,8),cmap='YlOrBr',text_fontsize='medium')\n",
        "    plt.show()"
      ],
      "execution_count": 25,
      "outputs": []
    },
    {
      "cell_type": "code",
      "metadata": {
        "colab": {
          "base_uri": "https://localhost:8080/"
        },
        "id": "2ZgZgRumT1qJ",
        "outputId": "1d8da73d-8e05-4eee-fd37-9c55fc2903a0"
      },
      "source": [
        "base_model = RandomForestClassifier(n_estimators = 10)\n",
        "base_model.fit(X_train, y_train)"
      ],
      "execution_count": 26,
      "outputs": [
        {
          "output_type": "execute_result",
          "data": {
            "text/plain": [
              "RandomForestClassifier(bootstrap=True, ccp_alpha=0.0, class_weight=None,\n",
              "                       criterion='gini', max_depth=None, max_features='auto',\n",
              "                       max_leaf_nodes=None, max_samples=None,\n",
              "                       min_impurity_decrease=0.0, min_impurity_split=None,\n",
              "                       min_samples_leaf=1, min_samples_split=2,\n",
              "                       min_weight_fraction_leaf=0.0, n_estimators=10,\n",
              "                       n_jobs=None, oob_score=False, random_state=None,\n",
              "                       verbose=0, warm_start=False)"
            ]
          },
          "metadata": {
            "tags": []
          },
          "execution_count": 26
        }
      ]
    },
    {
      "cell_type": "code",
      "metadata": {
        "colab": {
          "base_uri": "https://localhost:8080/",
          "height": 903
        },
        "id": "07uVd-GIYNI0",
        "outputId": "35a79878-1aaa-4d4d-80f5-274806be2fb5"
      },
      "source": [
        "model_error(base_model,X_test,y_test)"
      ],
      "execution_count": 27,
      "outputs": [
        {
          "output_type": "stream",
          "text": [
            "RMSE of model:  0.3178548388251991\n",
            "\n",
            "Accuracy:  0.8989683014354067\n",
            "\n",
            "Classification Report:                precision    recall  f1-score   support\n",
            "\n",
            "           0       0.91      0.89      0.90     67100\n",
            "           1       0.89      0.91      0.90     66660\n",
            "\n",
            "    accuracy                           0.90    133760\n",
            "   macro avg       0.90      0.90      0.90    133760\n",
            "weighted avg       0.90      0.90      0.90    133760\n",
            "\n",
            "\n",
            "Confusion Matrix: \n",
            " [[59527  7573]\n",
            " [ 5941 60719]]\n",
            "\n",
            "ROC_AUC_Score:  0.8990073433572866\n"
          ],
          "name": "stdout"
        },
        {
          "output_type": "display_data",
          "data": {
            "image/png": "[encoded data removed]",
            "text/plain": [
              "<Figure size 720x720 with 2 Axes>"
            ]
          },
          "metadata": {
            "tags": []
          }
        }
      ]
    },
    {
      "cell_type": "markdown",
      "metadata": {
        "id": "1bLKYY3HZwTR"
      },
      "source": [
        "**Cat Boost**"
      ]
    },
    {
      "cell_type": "markdown",
      "metadata": {
        "id": "SQJRUz0-Zu-G"
      },
      "source": [
        ""
      ]
    },
    {
      "cell_type": "code",
      "metadata": {
        "colab": {
          "base_uri": "https://localhost:8080/"
        },
        "id": "Im8KFO65ZuPB",
        "outputId": "6d172536-345f-47ed-9fa8-4f1cd958ec4f"
      },
      "source": [
        "!pip install catboost\n",
        "from catboost import CatBoostClassifier"
      ],
      "execution_count": null,
      "outputs": [
        {
          "output_type": "stream",
          "text": [
            "Collecting catboost\n",
            "\u001b[?25l  Downloading https://files.pythonhosted.org/packages/7e/c1/c1c4707013f9e2f8a96899dd3a87f66c9167d6d776a6dc8fe7ec8678d446/catboost-0.24.3-cp36-none-manylinux1_x86_64.whl (66.3MB)\n",
            "\u001b[K     |████████████████████████████████| 66.3MB 59kB/s \n",
            "\u001b[?25hRequirement already satisfied: plotly in /usr/local/lib/python3.6/dist-packages (from catboost) (4.4.1)\n",
            "Requirement already satisfied: numpy>=1.16.0 in /usr/local/lib/python3.6/dist-packages (from catboost) (1.18.5)\n",
            "Requirement already satisfied: matplotlib in /usr/local/lib/python3.6/dist-packages (from catboost) (3.2.2)\n",
            "Requirement already satisfied: pandas>=0.24.0 in /usr/local/lib/python3.6/dist-packages (from catboost) (1.1.5)\n",
            "Requirement already satisfied: graphviz in /usr/local/lib/python3.6/dist-packages (from catboost) (0.10.1)\n",
            "Requirement already satisfied: scipy in /usr/local/lib/python3.6/dist-packages (from catboost) (1.4.1)\n",
            "Requirement already satisfied: six in /usr/local/lib/python3.6/dist-packages (from catboost) (1.15.0)\n",
            "Requirement already satisfied: retrying>=1.3.3 in /usr/local/lib/python3.6/dist-packages (from plotly->catboost) (1.3.3)\n",
            "Requirement already satisfied: kiwisolver>=1.0.1 in /usr/local/lib/python3.6/dist-packages (from matplotlib->catboost) (1.3.1)\n",
            "Requirement already satisfied: pyparsing!=2.0.4,!=2.1.2,!=2.1.6,>=2.0.1 in /usr/local/lib/python3.6/dist-packages (from matplotlib->catboost) (2.4.7)\n",
            "Requirement already satisfied: python-dateutil>=2.1 in /usr/local/lib/python3.6/dist-packages (from matplotlib->catboost) (2.8.1)\n",
            "Requirement already satisfied: cycler>=0.10 in /usr/local/lib/python3.6/dist-packages (from matplotlib->catboost) (0.10.0)\n",
            "Requirement already satisfied: pytz>=2017.2 in /usr/local/lib/python3.6/dist-packages (from pandas>=0.24.0->catboost) (2018.9)\n",
            "Installing collected packages: catboost\n",
            "Successfully installed catboost-0.24.3\n"
          ],
          "name": "stdout"
        }
      ]
    },
    {
      "cell_type": "code",
      "metadata": {
        "id": "1OIAO4E5ZuJk"
      },
      "source": [
        "classifier=CatBoostClassifier()"
      ],
      "execution_count": null,
      "outputs": []
    },
    {
      "cell_type": "code",
      "metadata": {
        "colab": {
          "base_uri": "https://localhost:8080/"
        },
        "id": "JUFtENNlZuG_",
        "outputId": "6fcecdbd-b016-40d7-c3fd-245650c449fe"
      },
      "source": [
        "classifier.fit(X_train,y_train)"
      ],
      "execution_count": null,
      "outputs": [
        {
          "output_type": "stream",
          "text": [
            "Learning rate set to 0.150645\n",
            "0:\tlearn: 0.5619586\ttotal: 257ms\tremaining: 4m 16s\n",
            "1:\tlearn: 0.4984732\ttotal: 445ms\tremaining: 3m 41s\n",
            "2:\tlearn: 0.4620897\ttotal: 632ms\tremaining: 3m 29s\n",
            "3:\tlearn: 0.4399086\ttotal: 814ms\tremaining: 3m 22s\n",
            "4:\tlearn: 0.4255871\ttotal: 994ms\tremaining: 3m 17s\n",
            "5:\tlearn: 0.4158835\ttotal: 1.17s\tremaining: 3m 14s\n",
            "6:\tlearn: 0.4070071\ttotal: 1.37s\tremaining: 3m 14s\n",
            "7:\tlearn: 0.4005399\ttotal: 1.57s\tremaining: 3m 14s\n",
            "8:\tlearn: 0.3921009\ttotal: 1.75s\tremaining: 3m 13s\n",
            "9:\tlearn: 0.3838898\ttotal: 1.94s\tremaining: 3m 12s\n",
            "10:\tlearn: 0.3772426\ttotal: 2.13s\tremaining: 3m 11s\n",
            "11:\tlearn: 0.3684694\ttotal: 2.32s\tremaining: 3m 11s\n",
            "12:\tlearn: 0.3613052\ttotal: 2.54s\tremaining: 3m 12s\n",
            "13:\tlearn: 0.3566737\ttotal: 2.72s\tremaining: 3m 11s\n",
            "14:\tlearn: 0.3528450\ttotal: 2.91s\tremaining: 3m 11s\n",
            "15:\tlearn: 0.3462055\ttotal: 3.1s\tremaining: 3m 10s\n",
            "16:\tlearn: 0.3412190\ttotal: 3.29s\tremaining: 3m 9s\n",
            "17:\tlearn: 0.3395708\ttotal: 3.48s\tremaining: 3m 9s\n",
            "18:\tlearn: 0.3354954\ttotal: 3.68s\tremaining: 3m 9s\n",
            "19:\tlearn: 0.3327816\ttotal: 3.86s\tremaining: 3m 9s\n",
            "20:\tlearn: 0.3292594\ttotal: 4.05s\tremaining: 3m 8s\n",
            "21:\tlearn: 0.3270800\ttotal: 4.23s\tremaining: 3m 8s\n",
            "22:\tlearn: 0.3263535\ttotal: 4.41s\tremaining: 3m 7s\n",
            "23:\tlearn: 0.3244633\ttotal: 4.61s\tremaining: 3m 7s\n",
            "24:\tlearn: 0.3226775\ttotal: 4.79s\tremaining: 3m 6s\n",
            "25:\tlearn: 0.3212843\ttotal: 4.97s\tremaining: 3m 6s\n",
            "26:\tlearn: 0.3204748\ttotal: 5.15s\tremaining: 3m 5s\n",
            "27:\tlearn: 0.3191162\ttotal: 5.34s\tremaining: 3m 5s\n",
            "28:\tlearn: 0.3180581\ttotal: 5.53s\tremaining: 3m 5s\n",
            "29:\tlearn: 0.3166464\ttotal: 5.7s\tremaining: 3m 4s\n",
            "30:\tlearn: 0.3132483\ttotal: 5.88s\tremaining: 3m 3s\n",
            "31:\tlearn: 0.3117086\ttotal: 6.07s\tremaining: 3m 3s\n",
            "32:\tlearn: 0.3110997\ttotal: 6.26s\tremaining: 3m 3s\n",
            "33:\tlearn: 0.3048518\ttotal: 6.45s\tremaining: 3m 3s\n",
            "34:\tlearn: 0.3025733\ttotal: 6.64s\tremaining: 3m 3s\n",
            "35:\tlearn: 0.3013157\ttotal: 6.84s\tremaining: 3m 3s\n",
            "36:\tlearn: 0.3008619\ttotal: 7.02s\tremaining: 3m 2s\n",
            "37:\tlearn: 0.2987145\ttotal: 7.21s\tremaining: 3m 2s\n",
            "38:\tlearn: 0.2964611\ttotal: 7.41s\tremaining: 3m 2s\n",
            "39:\tlearn: 0.2921762\ttotal: 7.61s\tremaining: 3m 2s\n",
            "40:\tlearn: 0.2889989\ttotal: 7.8s\tremaining: 3m 2s\n",
            "41:\tlearn: 0.2854851\ttotal: 7.99s\tremaining: 3m 2s\n",
            "42:\tlearn: 0.2840411\ttotal: 8.18s\tremaining: 3m 2s\n",
            "43:\tlearn: 0.2823997\ttotal: 8.36s\tremaining: 3m 1s\n",
            "44:\tlearn: 0.2787571\ttotal: 8.56s\tremaining: 3m 1s\n",
            "45:\tlearn: 0.2731269\ttotal: 8.76s\tremaining: 3m 1s\n",
            "46:\tlearn: 0.2700868\ttotal: 8.95s\tremaining: 3m 1s\n",
            "47:\tlearn: 0.2665464\ttotal: 9.12s\tremaining: 3m\n",
            "48:\tlearn: 0.2640338\ttotal: 9.32s\tremaining: 3m\n",
            "49:\tlearn: 0.2629477\ttotal: 9.51s\tremaining: 3m\n",
            "50:\tlearn: 0.2611308\ttotal: 9.7s\tremaining: 3m\n",
            "51:\tlearn: 0.2596944\ttotal: 9.88s\tremaining: 3m\n",
            "52:\tlearn: 0.2582279\ttotal: 10.1s\tremaining: 2m 59s\n",
            "53:\tlearn: 0.2570950\ttotal: 10.3s\tremaining: 2m 59s\n",
            "54:\tlearn: 0.2565017\ttotal: 10.4s\tremaining: 2m 59s\n",
            "55:\tlearn: 0.2548624\ttotal: 10.6s\tremaining: 2m 59s\n",
            "56:\tlearn: 0.2533141\ttotal: 10.8s\tremaining: 2m 58s\n",
            "57:\tlearn: 0.2516416\ttotal: 11s\tremaining: 2m 58s\n",
            "58:\tlearn: 0.2507432\ttotal: 11.2s\tremaining: 2m 58s\n",
            "59:\tlearn: 0.2491895\ttotal: 11.4s\tremaining: 2m 58s\n",
            "60:\tlearn: 0.2479932\ttotal: 11.6s\tremaining: 2m 58s\n",
            "61:\tlearn: 0.2472116\ttotal: 11.8s\tremaining: 2m 57s\n",
            "62:\tlearn: 0.2456934\ttotal: 11.9s\tremaining: 2m 57s\n",
            "63:\tlearn: 0.2450545\ttotal: 12.1s\tremaining: 2m 57s\n",
            "64:\tlearn: 0.2442070\ttotal: 12.3s\tremaining: 2m 57s\n",
            "65:\tlearn: 0.2435774\ttotal: 12.5s\tremaining: 2m 56s\n",
            "66:\tlearn: 0.2433812\ttotal: 12.7s\tremaining: 2m 57s\n",
            "67:\tlearn: 0.2419900\ttotal: 12.9s\tremaining: 2m 56s\n",
            "68:\tlearn: 0.2417135\ttotal: 13.1s\tremaining: 2m 56s\n",
            "69:\tlearn: 0.2415895\ttotal: 13.3s\tremaining: 2m 56s\n",
            "70:\tlearn: 0.2412111\ttotal: 13.4s\tremaining: 2m 55s\n",
            "71:\tlearn: 0.2410206\ttotal: 13.6s\tremaining: 2m 55s\n",
            "72:\tlearn: 0.2397387\ttotal: 13.8s\tremaining: 2m 55s\n",
            "73:\tlearn: 0.2395022\ttotal: 14s\tremaining: 2m 55s\n",
            "74:\tlearn: 0.2393402\ttotal: 14.2s\tremaining: 2m 55s\n",
            "75:\tlearn: 0.2379518\ttotal: 14.4s\tremaining: 2m 54s\n",
            "76:\tlearn: 0.2373207\ttotal: 14.6s\tremaining: 2m 54s\n",
            "77:\tlearn: 0.2369564\ttotal: 14.8s\tremaining: 2m 54s\n",
            "78:\tlearn: 0.2364943\ttotal: 14.9s\tremaining: 2m 54s\n",
            "79:\tlearn: 0.2363925\ttotal: 15.1s\tremaining: 2m 53s\n",
            "80:\tlearn: 0.2353267\ttotal: 15.3s\tremaining: 2m 53s\n",
            "81:\tlearn: 0.2349036\ttotal: 15.5s\tremaining: 2m 53s\n",
            "82:\tlearn: 0.2343578\ttotal: 15.7s\tremaining: 2m 53s\n",
            "83:\tlearn: 0.2342649\ttotal: 15.9s\tremaining: 2m 52s\n",
            "84:\tlearn: 0.2334403\ttotal: 16.1s\tremaining: 2m 52s\n",
            "85:\tlearn: 0.2325583\ttotal: 16.2s\tremaining: 2m 52s\n",
            "86:\tlearn: 0.2319625\ttotal: 16.4s\tremaining: 2m 52s\n",
            "87:\tlearn: 0.2309329\ttotal: 16.6s\tremaining: 2m 52s\n",
            "88:\tlearn: 0.2302114\ttotal: 16.8s\tremaining: 2m 51s\n",
            "89:\tlearn: 0.2292329\ttotal: 17s\tremaining: 2m 51s\n",
            "90:\tlearn: 0.2288215\ttotal: 17.2s\tremaining: 2m 51s\n",
            "91:\tlearn: 0.2287168\ttotal: 17.4s\tremaining: 2m 51s\n",
            "92:\tlearn: 0.2279356\ttotal: 17.6s\tremaining: 2m 51s\n",
            "93:\tlearn: 0.2274183\ttotal: 17.8s\tremaining: 2m 51s\n",
            "94:\tlearn: 0.2263909\ttotal: 18s\tremaining: 2m 51s\n",
            "95:\tlearn: 0.2261261\ttotal: 18.1s\tremaining: 2m 50s\n",
            "96:\tlearn: 0.2259335\ttotal: 18.3s\tremaining: 2m 50s\n",
            "97:\tlearn: 0.2258112\ttotal: 18.5s\tremaining: 2m 50s\n",
            "98:\tlearn: 0.2257423\ttotal: 18.7s\tremaining: 2m 50s\n",
            "99:\tlearn: 0.2250326\ttotal: 18.9s\tremaining: 2m 49s\n",
            "100:\tlearn: 0.2249147\ttotal: 19.1s\tremaining: 2m 49s\n",
            "101:\tlearn: 0.2235603\ttotal: 19.2s\tremaining: 2m 49s\n",
            "102:\tlearn: 0.2234071\ttotal: 19.4s\tremaining: 2m 49s\n",
            "103:\tlearn: 0.2233064\ttotal: 19.6s\tremaining: 2m 48s\n",
            "104:\tlearn: 0.2231972\ttotal: 19.8s\tremaining: 2m 48s\n",
            "105:\tlearn: 0.2231156\ttotal: 20s\tremaining: 2m 48s\n",
            "106:\tlearn: 0.2229037\ttotal: 20.2s\tremaining: 2m 48s\n",
            "107:\tlearn: 0.2226074\ttotal: 20.3s\tremaining: 2m 48s\n",
            "108:\tlearn: 0.2215636\ttotal: 20.5s\tremaining: 2m 47s\n",
            "109:\tlearn: 0.2204631\ttotal: 20.7s\tremaining: 2m 47s\n",
            "110:\tlearn: 0.2197156\ttotal: 20.9s\tremaining: 2m 47s\n",
            "111:\tlearn: 0.2193890\ttotal: 21.1s\tremaining: 2m 47s\n",
            "112:\tlearn: 0.2188147\ttotal: 21.3s\tremaining: 2m 47s\n",
            "113:\tlearn: 0.2187292\ttotal: 21.5s\tremaining: 2m 46s\n",
            "114:\tlearn: 0.2184160\ttotal: 21.7s\tremaining: 2m 46s\n",
            "115:\tlearn: 0.2178493\ttotal: 21.9s\tremaining: 2m 46s\n",
            "116:\tlearn: 0.2173078\ttotal: 22s\tremaining: 2m 46s\n",
            "117:\tlearn: 0.2169328\ttotal: 22.2s\tremaining: 2m 46s\n",
            "118:\tlearn: 0.2166412\ttotal: 22.4s\tremaining: 2m 45s\n",
            "119:\tlearn: 0.2165556\ttotal: 22.6s\tremaining: 2m 45s\n",
            "120:\tlearn: 0.2162974\ttotal: 22.8s\tremaining: 2m 45s\n",
            "121:\tlearn: 0.2162178\ttotal: 23s\tremaining: 2m 45s\n",
            "122:\tlearn: 0.2161471\ttotal: 23.2s\tremaining: 2m 45s\n",
            "123:\tlearn: 0.2155105\ttotal: 23.4s\tremaining: 2m 45s\n",
            "124:\tlearn: 0.2152087\ttotal: 23.5s\tremaining: 2m 44s\n",
            "125:\tlearn: 0.2149446\ttotal: 23.7s\tremaining: 2m 44s\n",
            "126:\tlearn: 0.2145837\ttotal: 23.9s\tremaining: 2m 44s\n",
            "127:\tlearn: 0.2141692\ttotal: 24.1s\tremaining: 2m 44s\n",
            "128:\tlearn: 0.2137269\ttotal: 24.3s\tremaining: 2m 44s\n",
            "129:\tlearn: 0.2132671\ttotal: 24.5s\tremaining: 2m 43s\n",
            "130:\tlearn: 0.2127220\ttotal: 24.7s\tremaining: 2m 43s\n",
            "131:\tlearn: 0.2123119\ttotal: 24.9s\tremaining: 2m 43s\n",
            "132:\tlearn: 0.2118900\ttotal: 25.1s\tremaining: 2m 43s\n",
            "133:\tlearn: 0.2118383\ttotal: 25.2s\tremaining: 2m 43s\n",
            "134:\tlearn: 0.2114838\ttotal: 25.4s\tremaining: 2m 42s\n",
            "135:\tlearn: 0.2104139\ttotal: 25.6s\tremaining: 2m 42s\n",
            "136:\tlearn: 0.2102205\ttotal: 25.8s\tremaining: 2m 42s\n",
            "137:\tlearn: 0.2101412\ttotal: 26s\tremaining: 2m 42s\n",
            "138:\tlearn: 0.2097780\ttotal: 26.2s\tremaining: 2m 42s\n",
            "139:\tlearn: 0.2097399\ttotal: 26.3s\tremaining: 2m 41s\n",
            "140:\tlearn: 0.2096681\ttotal: 26.5s\tremaining: 2m 41s\n",
            "141:\tlearn: 0.2094230\ttotal: 26.7s\tremaining: 2m 41s\n",
            "142:\tlearn: 0.2093573\ttotal: 26.9s\tremaining: 2m 40s\n",
            "143:\tlearn: 0.2087572\ttotal: 27.1s\tremaining: 2m 40s\n",
            "144:\tlearn: 0.2086119\ttotal: 27.2s\tremaining: 2m 40s\n",
            "145:\tlearn: 0.2085368\ttotal: 27.4s\tremaining: 2m 40s\n",
            "146:\tlearn: 0.2085047\ttotal: 27.6s\tremaining: 2m 40s\n",
            "147:\tlearn: 0.2084520\ttotal: 27.8s\tremaining: 2m 40s\n",
            "148:\tlearn: 0.2081119\ttotal: 28s\tremaining: 2m 39s\n",
            "149:\tlearn: 0.2080761\ttotal: 28.2s\tremaining: 2m 39s\n",
            "150:\tlearn: 0.2079289\ttotal: 28.3s\tremaining: 2m 39s\n",
            "151:\tlearn: 0.2078607\ttotal: 28.5s\tremaining: 2m 39s\n",
            "152:\tlearn: 0.2077914\ttotal: 28.7s\tremaining: 2m 38s\n",
            "153:\tlearn: 0.2077297\ttotal: 28.9s\tremaining: 2m 38s\n",
            "154:\tlearn: 0.2076726\ttotal: 29.1s\tremaining: 2m 38s\n",
            "155:\tlearn: 0.2075214\ttotal: 29.3s\tremaining: 2m 38s\n",
            "156:\tlearn: 0.2074643\ttotal: 29.4s\tremaining: 2m 38s\n",
            "157:\tlearn: 0.2073318\ttotal: 29.6s\tremaining: 2m 37s\n",
            "158:\tlearn: 0.2072913\ttotal: 29.8s\tremaining: 2m 37s\n",
            "159:\tlearn: 0.2072373\ttotal: 30s\tremaining: 2m 37s\n",
            "160:\tlearn: 0.2070707\ttotal: 30.2s\tremaining: 2m 37s\n",
            "161:\tlearn: 0.2069409\ttotal: 30.4s\tremaining: 2m 37s\n",
            "162:\tlearn: 0.2069025\ttotal: 30.6s\tremaining: 2m 36s\n",
            "163:\tlearn: 0.2068588\ttotal: 30.7s\tremaining: 2m 36s\n",
            "164:\tlearn: 0.2068189\ttotal: 30.9s\tremaining: 2m 36s\n",
            "165:\tlearn: 0.2066517\ttotal: 31.1s\tremaining: 2m 36s\n",
            "166:\tlearn: 0.2063895\ttotal: 31.3s\tremaining: 2m 36s\n",
            "167:\tlearn: 0.2062902\ttotal: 31.5s\tremaining: 2m 35s\n",
            "168:\tlearn: 0.2062616\ttotal: 31.6s\tremaining: 2m 35s\n",
            "169:\tlearn: 0.2062234\ttotal: 31.8s\tremaining: 2m 35s\n",
            "170:\tlearn: 0.2061848\ttotal: 32s\tremaining: 2m 35s\n",
            "171:\tlearn: 0.2061441\ttotal: 32.2s\tremaining: 2m 35s\n",
            "172:\tlearn: 0.2059784\ttotal: 32.4s\tremaining: 2m 34s\n",
            "173:\tlearn: 0.2058757\ttotal: 32.6s\tremaining: 2m 34s\n",
            "174:\tlearn: 0.2058213\ttotal: 32.8s\tremaining: 2m 34s\n",
            "175:\tlearn: 0.2057814\ttotal: 33s\tremaining: 2m 34s\n",
            "176:\tlearn: 0.2057484\ttotal: 33.1s\tremaining: 2m 34s\n",
            "177:\tlearn: 0.2057150\ttotal: 33.3s\tremaining: 2m 33s\n",
            "178:\tlearn: 0.2056832\ttotal: 33.5s\tremaining: 2m 33s\n",
            "179:\tlearn: 0.2056596\ttotal: 33.7s\tremaining: 2m 33s\n",
            "180:\tlearn: 0.2056318\ttotal: 33.9s\tremaining: 2m 33s\n",
            "181:\tlearn: 0.2053591\ttotal: 34.1s\tremaining: 2m 33s\n",
            "182:\tlearn: 0.2053349\ttotal: 34.2s\tremaining: 2m 32s\n",
            "183:\tlearn: 0.2052048\ttotal: 34.4s\tremaining: 2m 32s\n",
            "184:\tlearn: 0.2050734\ttotal: 34.6s\tremaining: 2m 32s\n",
            "185:\tlearn: 0.2049694\ttotal: 34.8s\tremaining: 2m 32s\n",
            "186:\tlearn: 0.2049285\ttotal: 35s\tremaining: 2m 32s\n",
            "187:\tlearn: 0.2048951\ttotal: 35.2s\tremaining: 2m 31s\n",
            "188:\tlearn: 0.2048077\ttotal: 35.4s\tremaining: 2m 31s\n",
            "189:\tlearn: 0.2046599\ttotal: 35.5s\tremaining: 2m 31s\n",
            "190:\tlearn: 0.2045330\ttotal: 35.7s\tremaining: 2m 31s\n",
            "191:\tlearn: 0.2044114\ttotal: 35.9s\tremaining: 2m 31s\n",
            "192:\tlearn: 0.2043763\ttotal: 36.1s\tremaining: 2m 30s\n",
            "193:\tlearn: 0.2042944\ttotal: 36.3s\tremaining: 2m 30s\n",
            "194:\tlearn: 0.2042010\ttotal: 36.5s\tremaining: 2m 30s\n",
            "195:\tlearn: 0.2041586\ttotal: 36.6s\tremaining: 2m 30s\n",
            "196:\tlearn: 0.2040970\ttotal: 36.8s\tremaining: 2m 30s\n",
            "197:\tlearn: 0.2040487\ttotal: 37s\tremaining: 2m 29s\n",
            "198:\tlearn: 0.2040108\ttotal: 37.2s\tremaining: 2m 29s\n",
            "199:\tlearn: 0.2039004\ttotal: 37.4s\tremaining: 2m 29s\n",
            "200:\tlearn: 0.2038670\ttotal: 37.6s\tremaining: 2m 29s\n",
            "201:\tlearn: 0.2038479\ttotal: 37.8s\tremaining: 2m 29s\n",
            "202:\tlearn: 0.2038231\ttotal: 37.9s\tremaining: 2m 28s\n",
            "203:\tlearn: 0.2037666\ttotal: 38.1s\tremaining: 2m 28s\n",
            "204:\tlearn: 0.2036033\ttotal: 38.3s\tremaining: 2m 28s\n",
            "205:\tlearn: 0.2032067\ttotal: 38.5s\tremaining: 2m 28s\n",
            "206:\tlearn: 0.2031253\ttotal: 38.7s\tremaining: 2m 28s\n",
            "207:\tlearn: 0.2030905\ttotal: 38.9s\tremaining: 2m 28s\n",
            "208:\tlearn: 0.2030487\ttotal: 39.1s\tremaining: 2m 27s\n",
            "209:\tlearn: 0.2030264\ttotal: 39.2s\tremaining: 2m 27s\n",
            "210:\tlearn: 0.2029756\ttotal: 39.4s\tremaining: 2m 27s\n",
            "211:\tlearn: 0.2029382\ttotal: 39.6s\tremaining: 2m 27s\n",
            "212:\tlearn: 0.2028984\ttotal: 39.8s\tremaining: 2m 27s\n",
            "213:\tlearn: 0.2028622\ttotal: 40s\tremaining: 2m 26s\n",
            "214:\tlearn: 0.2028494\ttotal: 40.2s\tremaining: 2m 26s\n",
            "215:\tlearn: 0.2028213\ttotal: 40.4s\tremaining: 2m 26s\n",
            "216:\tlearn: 0.2027904\ttotal: 40.5s\tremaining: 2m 26s\n",
            "217:\tlearn: 0.2026319\ttotal: 40.7s\tremaining: 2m 26s\n",
            "218:\tlearn: 0.2026059\ttotal: 40.9s\tremaining: 2m 26s\n",
            "219:\tlearn: 0.2025356\ttotal: 41.1s\tremaining: 2m 25s\n",
            "220:\tlearn: 0.2024860\ttotal: 41.3s\tremaining: 2m 25s\n",
            "221:\tlearn: 0.2023559\ttotal: 41.5s\tremaining: 2m 25s\n",
            "222:\tlearn: 0.2023348\ttotal: 41.7s\tremaining: 2m 25s\n",
            "223:\tlearn: 0.2021960\ttotal: 41.9s\tremaining: 2m 25s\n",
            "224:\tlearn: 0.2021753\ttotal: 42.1s\tremaining: 2m 24s\n",
            "225:\tlearn: 0.2021382\ttotal: 42.2s\tremaining: 2m 24s\n",
            "226:\tlearn: 0.2020947\ttotal: 42.4s\tremaining: 2m 24s\n",
            "227:\tlearn: 0.2020592\ttotal: 42.6s\tremaining: 2m 24s\n",
            "228:\tlearn: 0.2020359\ttotal: 42.8s\tremaining: 2m 24s\n",
            "229:\tlearn: 0.2020136\ttotal: 43s\tremaining: 2m 23s\n",
            "230:\tlearn: 0.2018873\ttotal: 43.2s\tremaining: 2m 23s\n",
            "231:\tlearn: 0.2018447\ttotal: 43.3s\tremaining: 2m 23s\n",
            "232:\tlearn: 0.2018216\ttotal: 43.5s\tremaining: 2m 23s\n",
            "233:\tlearn: 0.2017067\ttotal: 43.7s\tremaining: 2m 23s\n",
            "234:\tlearn: 0.2016025\ttotal: 43.9s\tremaining: 2m 22s\n",
            "235:\tlearn: 0.2015726\ttotal: 44.1s\tremaining: 2m 22s\n",
            "236:\tlearn: 0.2015429\ttotal: 44.3s\tremaining: 2m 22s\n",
            "237:\tlearn: 0.2015169\ttotal: 44.5s\tremaining: 2m 22s\n",
            "238:\tlearn: 0.2014881\ttotal: 44.6s\tremaining: 2m 22s\n",
            "239:\tlearn: 0.2014670\ttotal: 44.8s\tremaining: 2m 21s\n",
            "240:\tlearn: 0.2014437\ttotal: 45s\tremaining: 2m 21s\n",
            "241:\tlearn: 0.2013744\ttotal: 45.2s\tremaining: 2m 21s\n",
            "242:\tlearn: 0.2013410\ttotal: 45.4s\tremaining: 2m 21s\n",
            "243:\tlearn: 0.2013121\ttotal: 45.6s\tremaining: 2m 21s\n",
            "244:\tlearn: 0.2012814\ttotal: 45.7s\tremaining: 2m 20s\n",
            "245:\tlearn: 0.2012567\ttotal: 45.9s\tremaining: 2m 20s\n",
            "246:\tlearn: 0.2011682\ttotal: 46.1s\tremaining: 2m 20s\n",
            "247:\tlearn: 0.2011500\ttotal: 46.3s\tremaining: 2m 20s\n",
            "248:\tlearn: 0.2011257\ttotal: 46.5s\tremaining: 2m 20s\n",
            "249:\tlearn: 0.2010898\ttotal: 46.7s\tremaining: 2m 20s\n",
            "250:\tlearn: 0.2010706\ttotal: 46.9s\tremaining: 2m 19s\n",
            "251:\tlearn: 0.2010560\ttotal: 47s\tremaining: 2m 19s\n",
            "252:\tlearn: 0.2010409\ttotal: 47.2s\tremaining: 2m 19s\n",
            "253:\tlearn: 0.2010180\ttotal: 47.4s\tremaining: 2m 19s\n",
            "254:\tlearn: 0.2009286\ttotal: 47.6s\tremaining: 2m 19s\n",
            "255:\tlearn: 0.2009107\ttotal: 47.8s\tremaining: 2m 18s\n",
            "256:\tlearn: 0.2008789\ttotal: 48s\tremaining: 2m 18s\n",
            "257:\tlearn: 0.2008612\ttotal: 48.2s\tremaining: 2m 18s\n",
            "258:\tlearn: 0.2008329\ttotal: 48.4s\tremaining: 2m 18s\n",
            "259:\tlearn: 0.2008041\ttotal: 48.5s\tremaining: 2m 18s\n",
            "260:\tlearn: 0.2007736\ttotal: 48.7s\tremaining: 2m 18s\n",
            "261:\tlearn: 0.2007031\ttotal: 48.9s\tremaining: 2m 17s\n",
            "262:\tlearn: 0.2004223\ttotal: 49.1s\tremaining: 2m 17s\n",
            "263:\tlearn: 0.2002869\ttotal: 49.3s\tremaining: 2m 17s\n",
            "264:\tlearn: 0.2000682\ttotal: 49.5s\tremaining: 2m 17s\n",
            "265:\tlearn: 0.2000439\ttotal: 49.7s\tremaining: 2m 17s\n",
            "266:\tlearn: 0.2000259\ttotal: 49.8s\tremaining: 2m 16s\n",
            "267:\tlearn: 0.1999983\ttotal: 50s\tremaining: 2m 16s\n",
            "268:\tlearn: 0.1999703\ttotal: 50.2s\tremaining: 2m 16s\n",
            "269:\tlearn: 0.1999385\ttotal: 50.4s\tremaining: 2m 16s\n",
            "270:\tlearn: 0.1999155\ttotal: 50.6s\tremaining: 2m 16s\n",
            "271:\tlearn: 0.1998868\ttotal: 50.8s\tremaining: 2m 15s\n",
            "272:\tlearn: 0.1998587\ttotal: 51s\tremaining: 2m 15s\n",
            "273:\tlearn: 0.1998050\ttotal: 51.2s\tremaining: 2m 15s\n",
            "274:\tlearn: 0.1997817\ttotal: 51.4s\tremaining: 2m 15s\n",
            "275:\tlearn: 0.1996166\ttotal: 51.6s\tremaining: 2m 15s\n",
            "276:\tlearn: 0.1995479\ttotal: 51.7s\tremaining: 2m 15s\n",
            "277:\tlearn: 0.1994925\ttotal: 51.9s\tremaining: 2m 14s\n",
            "278:\tlearn: 0.1994682\ttotal: 52.1s\tremaining: 2m 14s\n",
            "279:\tlearn: 0.1993846\ttotal: 52.3s\tremaining: 2m 14s\n",
            "280:\tlearn: 0.1993209\ttotal: 52.5s\tremaining: 2m 14s\n",
            "281:\tlearn: 0.1992788\ttotal: 52.7s\tremaining: 2m 14s\n",
            "282:\tlearn: 0.1992487\ttotal: 52.9s\tremaining: 2m 13s\n",
            "283:\tlearn: 0.1992040\ttotal: 53s\tremaining: 2m 13s\n",
            "284:\tlearn: 0.1991654\ttotal: 53.3s\tremaining: 2m 13s\n",
            "285:\tlearn: 0.1991376\ttotal: 53.4s\tremaining: 2m 13s\n",
            "286:\tlearn: 0.1991120\ttotal: 53.6s\tremaining: 2m 13s\n",
            "287:\tlearn: 0.1989244\ttotal: 53.8s\tremaining: 2m 13s\n",
            "288:\tlearn: 0.1988149\ttotal: 54s\tremaining: 2m 12s\n",
            "289:\tlearn: 0.1985930\ttotal: 54.2s\tremaining: 2m 12s\n",
            "290:\tlearn: 0.1984622\ttotal: 54.4s\tremaining: 2m 12s\n",
            "291:\tlearn: 0.1984391\ttotal: 54.6s\tremaining: 2m 12s\n",
            "292:\tlearn: 0.1982734\ttotal: 54.8s\tremaining: 2m 12s\n",
            "293:\tlearn: 0.1982345\ttotal: 54.9s\tremaining: 2m 11s\n",
            "294:\tlearn: 0.1981013\ttotal: 55.1s\tremaining: 2m 11s\n",
            "295:\tlearn: 0.1980629\ttotal: 55.3s\tremaining: 2m 11s\n",
            "296:\tlearn: 0.1980397\ttotal: 55.5s\tremaining: 2m 11s\n",
            "297:\tlearn: 0.1979698\ttotal: 55.7s\tremaining: 2m 11s\n",
            "298:\tlearn: 0.1979488\ttotal: 55.9s\tremaining: 2m 10s\n",
            "299:\tlearn: 0.1979232\ttotal: 56.1s\tremaining: 2m 10s\n",
            "300:\tlearn: 0.1978982\ttotal: 56.3s\tremaining: 2m 10s\n",
            "301:\tlearn: 0.1978792\ttotal: 56.4s\tremaining: 2m 10s\n",
            "302:\tlearn: 0.1978617\ttotal: 56.6s\tremaining: 2m 10s\n",
            "303:\tlearn: 0.1978384\ttotal: 56.8s\tremaining: 2m 10s\n",
            "304:\tlearn: 0.1978178\ttotal: 57s\tremaining: 2m 9s\n",
            "305:\tlearn: 0.1977974\ttotal: 57.2s\tremaining: 2m 9s\n",
            "306:\tlearn: 0.1977791\ttotal: 57.4s\tremaining: 2m 9s\n",
            "307:\tlearn: 0.1977522\ttotal: 57.6s\tremaining: 2m 9s\n",
            "308:\tlearn: 0.1977256\ttotal: 57.8s\tremaining: 2m 9s\n",
            "309:\tlearn: 0.1977056\ttotal: 58s\tremaining: 2m 9s\n",
            "310:\tlearn: 0.1976831\ttotal: 58.2s\tremaining: 2m 8s\n",
            "311:\tlearn: 0.1976632\ttotal: 58.4s\tremaining: 2m 8s\n",
            "312:\tlearn: 0.1976366\ttotal: 58.5s\tremaining: 2m 8s\n",
            "313:\tlearn: 0.1976135\ttotal: 58.7s\tremaining: 2m 8s\n",
            "314:\tlearn: 0.1975884\ttotal: 58.9s\tremaining: 2m 8s\n",
            "315:\tlearn: 0.1975654\ttotal: 59.1s\tremaining: 2m 7s\n",
            "316:\tlearn: 0.1975473\ttotal: 59.3s\tremaining: 2m 7s\n",
            "317:\tlearn: 0.1975253\ttotal: 59.5s\tremaining: 2m 7s\n",
            "318:\tlearn: 0.1974984\ttotal: 59.6s\tremaining: 2m 7s\n",
            "319:\tlearn: 0.1974780\ttotal: 59.8s\tremaining: 2m 7s\n",
            "320:\tlearn: 0.1974590\ttotal: 1m\tremaining: 2m 6s\n",
            "321:\tlearn: 0.1974350\ttotal: 1m\tremaining: 2m 6s\n",
            "322:\tlearn: 0.1974162\ttotal: 1m\tremaining: 2m 6s\n",
            "323:\tlearn: 0.1973935\ttotal: 1m\tremaining: 2m 6s\n",
            "324:\tlearn: 0.1973756\ttotal: 1m\tremaining: 2m 6s\n",
            "325:\tlearn: 0.1973485\ttotal: 1m 1s\tremaining: 2m 6s\n",
            "326:\tlearn: 0.1973224\ttotal: 1m 1s\tremaining: 2m 5s\n",
            "327:\tlearn: 0.1973046\ttotal: 1m 1s\tremaining: 2m 5s\n",
            "328:\tlearn: 0.1972837\ttotal: 1m 1s\tremaining: 2m 5s\n",
            "329:\tlearn: 0.1972594\ttotal: 1m 1s\tremaining: 2m 5s\n",
            "330:\tlearn: 0.1972427\ttotal: 1m 1s\tremaining: 2m 5s\n",
            "331:\tlearn: 0.1972179\ttotal: 1m 2s\tremaining: 2m 5s\n",
            "332:\tlearn: 0.1971998\ttotal: 1m 2s\tremaining: 2m 4s\n",
            "333:\tlearn: 0.1971854\ttotal: 1m 2s\tremaining: 2m 4s\n",
            "334:\tlearn: 0.1971676\ttotal: 1m 2s\tremaining: 2m 4s\n",
            "335:\tlearn: 0.1971446\ttotal: 1m 2s\tremaining: 2m 4s\n",
            "336:\tlearn: 0.1971298\ttotal: 1m 3s\tremaining: 2m 4s\n",
            "337:\tlearn: 0.1971136\ttotal: 1m 3s\tremaining: 2m 3s\n",
            "338:\tlearn: 0.1970883\ttotal: 1m 3s\tremaining: 2m 3s\n",
            "339:\tlearn: 0.1970687\ttotal: 1m 3s\tremaining: 2m 3s\n",
            "340:\tlearn: 0.1970517\ttotal: 1m 3s\tremaining: 2m 3s\n",
            "341:\tlearn: 0.1970217\ttotal: 1m 3s\tremaining: 2m 3s\n",
            "342:\tlearn: 0.1969988\ttotal: 1m 4s\tremaining: 2m 2s\n",
            "343:\tlearn: 0.1969650\ttotal: 1m 4s\tremaining: 2m 2s\n",
            "344:\tlearn: 0.1969437\ttotal: 1m 4s\tremaining: 2m 2s\n",
            "345:\tlearn: 0.1969293\ttotal: 1m 4s\tremaining: 2m 2s\n",
            "346:\tlearn: 0.1969052\ttotal: 1m 4s\tremaining: 2m 2s\n",
            "347:\tlearn: 0.1968888\ttotal: 1m 5s\tremaining: 2m 1s\n",
            "348:\tlearn: 0.1968694\ttotal: 1m 5s\tremaining: 2m 1s\n",
            "349:\tlearn: 0.1967706\ttotal: 1m 5s\tremaining: 2m 1s\n",
            "350:\tlearn: 0.1967427\ttotal: 1m 5s\tremaining: 2m 1s\n",
            "351:\tlearn: 0.1967014\ttotal: 1m 5s\tremaining: 2m 1s\n",
            "352:\tlearn: 0.1966805\ttotal: 1m 6s\tremaining: 2m 1s\n",
            "353:\tlearn: 0.1966118\ttotal: 1m 6s\tremaining: 2m\n",
            "354:\tlearn: 0.1965932\ttotal: 1m 6s\tremaining: 2m\n",
            "355:\tlearn: 0.1965700\ttotal: 1m 6s\tremaining: 2m\n",
            "356:\tlearn: 0.1964986\ttotal: 1m 6s\tremaining: 2m\n",
            "357:\tlearn: 0.1964815\ttotal: 1m 6s\tremaining: 2m\n",
            "358:\tlearn: 0.1964641\ttotal: 1m 7s\tremaining: 1m 59s\n",
            "359:\tlearn: 0.1964460\ttotal: 1m 7s\tremaining: 1m 59s\n",
            "360:\tlearn: 0.1964242\ttotal: 1m 7s\tremaining: 1m 59s\n",
            "361:\tlearn: 0.1963532\ttotal: 1m 7s\tremaining: 1m 59s\n",
            "362:\tlearn: 0.1963275\ttotal: 1m 7s\tremaining: 1m 59s\n",
            "363:\tlearn: 0.1963060\ttotal: 1m 8s\tremaining: 1m 59s\n",
            "364:\tlearn: 0.1962955\ttotal: 1m 8s\tremaining: 1m 58s\n",
            "365:\tlearn: 0.1962780\ttotal: 1m 8s\tremaining: 1m 58s\n",
            "366:\tlearn: 0.1962594\ttotal: 1m 8s\tremaining: 1m 58s\n",
            "367:\tlearn: 0.1962354\ttotal: 1m 8s\tremaining: 1m 58s\n",
            "368:\tlearn: 0.1962184\ttotal: 1m 9s\tremaining: 1m 58s\n",
            "369:\tlearn: 0.1962035\ttotal: 1m 9s\tremaining: 1m 57s\n",
            "370:\tlearn: 0.1961753\ttotal: 1m 9s\tremaining: 1m 57s\n",
            "371:\tlearn: 0.1961603\ttotal: 1m 9s\tremaining: 1m 57s\n",
            "372:\tlearn: 0.1961405\ttotal: 1m 9s\tremaining: 1m 57s\n",
            "373:\tlearn: 0.1961298\ttotal: 1m 9s\tremaining: 1m 57s\n",
            "374:\tlearn: 0.1961020\ttotal: 1m 10s\tremaining: 1m 56s\n",
            "375:\tlearn: 0.1960810\ttotal: 1m 10s\tremaining: 1m 56s\n",
            "376:\tlearn: 0.1960496\ttotal: 1m 10s\tremaining: 1m 56s\n",
            "377:\tlearn: 0.1959788\ttotal: 1m 10s\tremaining: 1m 56s\n",
            "378:\tlearn: 0.1959643\ttotal: 1m 10s\tremaining: 1m 56s\n",
            "379:\tlearn: 0.1959425\ttotal: 1m 11s\tremaining: 1m 55s\n",
            "380:\tlearn: 0.1959208\ttotal: 1m 11s\tremaining: 1m 55s\n",
            "381:\tlearn: 0.1959048\ttotal: 1m 11s\tremaining: 1m 55s\n",
            "382:\tlearn: 0.1958815\ttotal: 1m 11s\tremaining: 1m 55s\n",
            "383:\tlearn: 0.1958671\ttotal: 1m 11s\tremaining: 1m 55s\n",
            "384:\tlearn: 0.1958491\ttotal: 1m 12s\tremaining: 1m 55s\n",
            "385:\tlearn: 0.1958269\ttotal: 1m 12s\tremaining: 1m 54s\n",
            "386:\tlearn: 0.1958105\ttotal: 1m 12s\tremaining: 1m 54s\n",
            "387:\tlearn: 0.1957797\ttotal: 1m 12s\tremaining: 1m 54s\n",
            "388:\tlearn: 0.1957415\ttotal: 1m 12s\tremaining: 1m 54s\n",
            "389:\tlearn: 0.1957217\ttotal: 1m 12s\tremaining: 1m 54s\n",
            "390:\tlearn: 0.1957030\ttotal: 1m 13s\tremaining: 1m 53s\n",
            "391:\tlearn: 0.1956862\ttotal: 1m 13s\tremaining: 1m 53s\n",
            "392:\tlearn: 0.1955768\ttotal: 1m 13s\tremaining: 1m 53s\n",
            "393:\tlearn: 0.1955072\ttotal: 1m 13s\tremaining: 1m 53s\n",
            "394:\tlearn: 0.1954907\ttotal: 1m 13s\tremaining: 1m 53s\n",
            "395:\tlearn: 0.1954190\ttotal: 1m 14s\tremaining: 1m 52s\n",
            "396:\tlearn: 0.1953989\ttotal: 1m 14s\tremaining: 1m 52s\n",
            "397:\tlearn: 0.1953749\ttotal: 1m 14s\tremaining: 1m 52s\n",
            "398:\tlearn: 0.1953580\ttotal: 1m 14s\tremaining: 1m 52s\n",
            "399:\tlearn: 0.1952667\ttotal: 1m 14s\tremaining: 1m 52s\n",
            "400:\tlearn: 0.1951711\ttotal: 1m 15s\tremaining: 1m 52s\n",
            "401:\tlearn: 0.1951537\ttotal: 1m 15s\tremaining: 1m 51s\n",
            "402:\tlearn: 0.1951326\ttotal: 1m 15s\tremaining: 1m 51s\n",
            "403:\tlearn: 0.1950876\ttotal: 1m 15s\tremaining: 1m 51s\n",
            "404:\tlearn: 0.1950718\ttotal: 1m 15s\tremaining: 1m 51s\n",
            "405:\tlearn: 0.1950582\ttotal: 1m 15s\tremaining: 1m 51s\n",
            "406:\tlearn: 0.1950457\ttotal: 1m 16s\tremaining: 1m 50s\n",
            "407:\tlearn: 0.1950204\ttotal: 1m 16s\tremaining: 1m 50s\n",
            "408:\tlearn: 0.1950059\ttotal: 1m 16s\tremaining: 1m 50s\n",
            "409:\tlearn: 0.1949933\ttotal: 1m 16s\tremaining: 1m 50s\n",
            "410:\tlearn: 0.1949789\ttotal: 1m 16s\tremaining: 1m 50s\n",
            "411:\tlearn: 0.1949632\ttotal: 1m 17s\tremaining: 1m 50s\n",
            "412:\tlearn: 0.1949420\ttotal: 1m 17s\tremaining: 1m 49s\n",
            "413:\tlearn: 0.1949248\ttotal: 1m 17s\tremaining: 1m 49s\n",
            "414:\tlearn: 0.1949060\ttotal: 1m 17s\tremaining: 1m 49s\n",
            "415:\tlearn: 0.1948849\ttotal: 1m 17s\tremaining: 1m 49s\n",
            "416:\tlearn: 0.1948564\ttotal: 1m 18s\tremaining: 1m 49s\n",
            "417:\tlearn: 0.1948384\ttotal: 1m 18s\tremaining: 1m 48s\n",
            "418:\tlearn: 0.1948231\ttotal: 1m 18s\tremaining: 1m 48s\n",
            "419:\tlearn: 0.1948035\ttotal: 1m 18s\tremaining: 1m 48s\n",
            "420:\tlearn: 0.1947816\ttotal: 1m 18s\tremaining: 1m 48s\n",
            "421:\tlearn: 0.1947640\ttotal: 1m 18s\tremaining: 1m 48s\n",
            "422:\tlearn: 0.1947426\ttotal: 1m 19s\tremaining: 1m 48s\n",
            "423:\tlearn: 0.1946726\ttotal: 1m 19s\tremaining: 1m 47s\n",
            "424:\tlearn: 0.1946569\ttotal: 1m 19s\tremaining: 1m 47s\n",
            "425:\tlearn: 0.1946400\ttotal: 1m 19s\tremaining: 1m 47s\n",
            "426:\tlearn: 0.1946241\ttotal: 1m 19s\tremaining: 1m 47s\n",
            "427:\tlearn: 0.1946033\ttotal: 1m 20s\tremaining: 1m 47s\n",
            "428:\tlearn: 0.1945670\ttotal: 1m 20s\tremaining: 1m 46s\n",
            "429:\tlearn: 0.1944935\ttotal: 1m 20s\tremaining: 1m 46s\n",
            "430:\tlearn: 0.1944757\ttotal: 1m 20s\tremaining: 1m 46s\n",
            "431:\tlearn: 0.1944609\ttotal: 1m 20s\tremaining: 1m 46s\n",
            "432:\tlearn: 0.1944446\ttotal: 1m 21s\tremaining: 1m 46s\n",
            "433:\tlearn: 0.1944151\ttotal: 1m 21s\tremaining: 1m 45s\n",
            "434:\tlearn: 0.1943928\ttotal: 1m 21s\tremaining: 1m 45s\n",
            "435:\tlearn: 0.1943800\ttotal: 1m 21s\tremaining: 1m 45s\n",
            "436:\tlearn: 0.1943628\ttotal: 1m 21s\tremaining: 1m 45s\n",
            "437:\tlearn: 0.1943455\ttotal: 1m 21s\tremaining: 1m 45s\n",
            "438:\tlearn: 0.1943245\ttotal: 1m 22s\tremaining: 1m 44s\n",
            "439:\tlearn: 0.1943084\ttotal: 1m 22s\tremaining: 1m 44s\n",
            "440:\tlearn: 0.1942925\ttotal: 1m 22s\tremaining: 1m 44s\n",
            "441:\tlearn: 0.1942762\ttotal: 1m 22s\tremaining: 1m 44s\n",
            "442:\tlearn: 0.1942555\ttotal: 1m 22s\tremaining: 1m 44s\n",
            "443:\tlearn: 0.1942379\ttotal: 1m 23s\tremaining: 1m 44s\n",
            "444:\tlearn: 0.1942249\ttotal: 1m 23s\tremaining: 1m 43s\n",
            "445:\tlearn: 0.1942110\ttotal: 1m 23s\tremaining: 1m 43s\n",
            "446:\tlearn: 0.1942001\ttotal: 1m 23s\tremaining: 1m 43s\n",
            "447:\tlearn: 0.1941757\ttotal: 1m 23s\tremaining: 1m 43s\n",
            "448:\tlearn: 0.1941566\ttotal: 1m 24s\tremaining: 1m 43s\n",
            "449:\tlearn: 0.1941321\ttotal: 1m 24s\tremaining: 1m 42s\n",
            "450:\tlearn: 0.1941103\ttotal: 1m 24s\tremaining: 1m 42s\n",
            "451:\tlearn: 0.1940942\ttotal: 1m 24s\tremaining: 1m 42s\n",
            "452:\tlearn: 0.1940804\ttotal: 1m 24s\tremaining: 1m 42s\n",
            "453:\tlearn: 0.1940569\ttotal: 1m 24s\tremaining: 1m 42s\n",
            "454:\tlearn: 0.1940458\ttotal: 1m 25s\tremaining: 1m 41s\n",
            "455:\tlearn: 0.1940294\ttotal: 1m 25s\tremaining: 1m 41s\n",
            "456:\tlearn: 0.1940100\ttotal: 1m 25s\tremaining: 1m 41s\n",
            "457:\tlearn: 0.1939846\ttotal: 1m 25s\tremaining: 1m 41s\n",
            "458:\tlearn: 0.1939629\ttotal: 1m 25s\tremaining: 1m 41s\n",
            "459:\tlearn: 0.1939463\ttotal: 1m 26s\tremaining: 1m 41s\n",
            "460:\tlearn: 0.1939304\ttotal: 1m 26s\tremaining: 1m 40s\n",
            "461:\tlearn: 0.1939156\ttotal: 1m 26s\tremaining: 1m 40s\n",
            "462:\tlearn: 0.1939027\ttotal: 1m 26s\tremaining: 1m 40s\n",
            "463:\tlearn: 0.1938855\ttotal: 1m 26s\tremaining: 1m 40s\n",
            "464:\tlearn: 0.1938734\ttotal: 1m 27s\tremaining: 1m 40s\n",
            "465:\tlearn: 0.1938607\ttotal: 1m 27s\tremaining: 1m 39s\n",
            "466:\tlearn: 0.1938427\ttotal: 1m 27s\tremaining: 1m 39s\n",
            "467:\tlearn: 0.1938294\ttotal: 1m 27s\tremaining: 1m 39s\n",
            "468:\tlearn: 0.1938139\ttotal: 1m 27s\tremaining: 1m 39s\n",
            "469:\tlearn: 0.1937969\ttotal: 1m 27s\tremaining: 1m 39s\n",
            "470:\tlearn: 0.1937837\ttotal: 1m 28s\tremaining: 1m 38s\n",
            "471:\tlearn: 0.1937680\ttotal: 1m 28s\tremaining: 1m 38s\n",
            "472:\tlearn: 0.1937572\ttotal: 1m 28s\tremaining: 1m 38s\n",
            "473:\tlearn: 0.1937483\ttotal: 1m 28s\tremaining: 1m 38s\n",
            "474:\tlearn: 0.1937373\ttotal: 1m 28s\tremaining: 1m 38s\n",
            "475:\tlearn: 0.1937234\ttotal: 1m 29s\tremaining: 1m 38s\n",
            "476:\tlearn: 0.1937081\ttotal: 1m 29s\tremaining: 1m 37s\n",
            "477:\tlearn: 0.1936913\ttotal: 1m 29s\tremaining: 1m 37s\n",
            "478:\tlearn: 0.1936732\ttotal: 1m 29s\tremaining: 1m 37s\n",
            "479:\tlearn: 0.1936581\ttotal: 1m 29s\tremaining: 1m 37s\n",
            "480:\tlearn: 0.1936393\ttotal: 1m 29s\tremaining: 1m 37s\n",
            "481:\tlearn: 0.1936284\ttotal: 1m 30s\tremaining: 1m 36s\n",
            "482:\tlearn: 0.1936185\ttotal: 1m 30s\tremaining: 1m 36s\n",
            "483:\tlearn: 0.1936015\ttotal: 1m 30s\tremaining: 1m 36s\n",
            "484:\tlearn: 0.1935843\ttotal: 1m 30s\tremaining: 1m 36s\n",
            "485:\tlearn: 0.1935675\ttotal: 1m 30s\tremaining: 1m 36s\n",
            "486:\tlearn: 0.1935514\ttotal: 1m 31s\tremaining: 1m 35s\n",
            "487:\tlearn: 0.1935316\ttotal: 1m 31s\tremaining: 1m 35s\n",
            "488:\tlearn: 0.1935136\ttotal: 1m 31s\tremaining: 1m 35s\n",
            "489:\tlearn: 0.1934933\ttotal: 1m 31s\tremaining: 1m 35s\n",
            "490:\tlearn: 0.1934488\ttotal: 1m 31s\tremaining: 1m 35s\n",
            "491:\tlearn: 0.1934375\ttotal: 1m 32s\tremaining: 1m 35s\n",
            "492:\tlearn: 0.1934243\ttotal: 1m 32s\tremaining: 1m 34s\n",
            "493:\tlearn: 0.1934131\ttotal: 1m 32s\tremaining: 1m 34s\n",
            "494:\tlearn: 0.1934012\ttotal: 1m 32s\tremaining: 1m 34s\n",
            "495:\tlearn: 0.1933854\ttotal: 1m 32s\tremaining: 1m 34s\n",
            "496:\tlearn: 0.1933736\ttotal: 1m 32s\tremaining: 1m 34s\n",
            "497:\tlearn: 0.1933525\ttotal: 1m 33s\tremaining: 1m 33s\n",
            "498:\tlearn: 0.1933360\ttotal: 1m 33s\tremaining: 1m 33s\n",
            "499:\tlearn: 0.1933162\ttotal: 1m 33s\tremaining: 1m 33s\n",
            "500:\tlearn: 0.1933023\ttotal: 1m 33s\tremaining: 1m 33s\n",
            "501:\tlearn: 0.1932847\ttotal: 1m 33s\tremaining: 1m 33s\n",
            "502:\tlearn: 0.1932706\ttotal: 1m 34s\tremaining: 1m 32s\n",
            "503:\tlearn: 0.1932541\ttotal: 1m 34s\tremaining: 1m 32s\n",
            "504:\tlearn: 0.1932403\ttotal: 1m 34s\tremaining: 1m 32s\n",
            "505:\tlearn: 0.1932264\ttotal: 1m 34s\tremaining: 1m 32s\n",
            "506:\tlearn: 0.1932090\ttotal: 1m 34s\tremaining: 1m 32s\n",
            "507:\tlearn: 0.1931905\ttotal: 1m 35s\tremaining: 1m 32s\n",
            "508:\tlearn: 0.1931770\ttotal: 1m 35s\tremaining: 1m 31s\n",
            "509:\tlearn: 0.1931620\ttotal: 1m 35s\tremaining: 1m 31s\n",
            "510:\tlearn: 0.1931430\ttotal: 1m 35s\tremaining: 1m 31s\n",
            "511:\tlearn: 0.1931293\ttotal: 1m 35s\tremaining: 1m 31s\n",
            "512:\tlearn: 0.1931086\ttotal: 1m 35s\tremaining: 1m 31s\n",
            "513:\tlearn: 0.1930931\ttotal: 1m 36s\tremaining: 1m 30s\n",
            "514:\tlearn: 0.1930744\ttotal: 1m 36s\tremaining: 1m 30s\n",
            "515:\tlearn: 0.1930570\ttotal: 1m 36s\tremaining: 1m 30s\n",
            "516:\tlearn: 0.1930419\ttotal: 1m 36s\tremaining: 1m 30s\n",
            "517:\tlearn: 0.1930224\ttotal: 1m 36s\tremaining: 1m 30s\n",
            "518:\tlearn: 0.1930046\ttotal: 1m 37s\tremaining: 1m 29s\n",
            "519:\tlearn: 0.1929942\ttotal: 1m 37s\tremaining: 1m 29s\n",
            "520:\tlearn: 0.1929737\ttotal: 1m 37s\tremaining: 1m 29s\n",
            "521:\tlearn: 0.1929600\ttotal: 1m 37s\tremaining: 1m 29s\n",
            "522:\tlearn: 0.1929437\ttotal: 1m 37s\tremaining: 1m 29s\n",
            "523:\tlearn: 0.1929327\ttotal: 1m 38s\tremaining: 1m 29s\n",
            "524:\tlearn: 0.1929213\ttotal: 1m 38s\tremaining: 1m 28s\n",
            "525:\tlearn: 0.1929063\ttotal: 1m 38s\tremaining: 1m 28s\n",
            "526:\tlearn: 0.1928916\ttotal: 1m 38s\tremaining: 1m 28s\n",
            "527:\tlearn: 0.1928771\ttotal: 1m 38s\tremaining: 1m 28s\n",
            "528:\tlearn: 0.1928613\ttotal: 1m 38s\tremaining: 1m 28s\n",
            "529:\tlearn: 0.1928441\ttotal: 1m 39s\tremaining: 1m 27s\n",
            "530:\tlearn: 0.1928078\ttotal: 1m 39s\tremaining: 1m 27s\n",
            "531:\tlearn: 0.1927978\ttotal: 1m 39s\tremaining: 1m 27s\n",
            "532:\tlearn: 0.1927725\ttotal: 1m 39s\tremaining: 1m 27s\n",
            "533:\tlearn: 0.1927497\ttotal: 1m 39s\tremaining: 1m 27s\n",
            "534:\tlearn: 0.1927313\ttotal: 1m 40s\tremaining: 1m 26s\n",
            "535:\tlearn: 0.1927162\ttotal: 1m 40s\tremaining: 1m 26s\n",
            "536:\tlearn: 0.1927053\ttotal: 1m 40s\tremaining: 1m 26s\n",
            "537:\tlearn: 0.1926890\ttotal: 1m 40s\tremaining: 1m 26s\n",
            "538:\tlearn: 0.1926775\ttotal: 1m 40s\tremaining: 1m 26s\n",
            "539:\tlearn: 0.1926636\ttotal: 1m 40s\tremaining: 1m 26s\n",
            "540:\tlearn: 0.1926530\ttotal: 1m 41s\tremaining: 1m 25s\n",
            "541:\tlearn: 0.1926350\ttotal: 1m 41s\tremaining: 1m 25s\n",
            "542:\tlearn: 0.1926173\ttotal: 1m 41s\tremaining: 1m 25s\n",
            "543:\tlearn: 0.1926029\ttotal: 1m 41s\tremaining: 1m 25s\n",
            "544:\tlearn: 0.1925882\ttotal: 1m 41s\tremaining: 1m 25s\n",
            "545:\tlearn: 0.1925700\ttotal: 1m 42s\tremaining: 1m 24s\n",
            "546:\tlearn: 0.1925601\ttotal: 1m 42s\tremaining: 1m 24s\n",
            "547:\tlearn: 0.1925528\ttotal: 1m 42s\tremaining: 1m 24s\n",
            "548:\tlearn: 0.1925462\ttotal: 1m 42s\tremaining: 1m 24s\n",
            "549:\tlearn: 0.1925358\ttotal: 1m 42s\tremaining: 1m 24s\n",
            "550:\tlearn: 0.1924736\ttotal: 1m 43s\tremaining: 1m 23s\n",
            "551:\tlearn: 0.1924574\ttotal: 1m 43s\tremaining: 1m 23s\n",
            "552:\tlearn: 0.1924497\ttotal: 1m 43s\tremaining: 1m 23s\n",
            "553:\tlearn: 0.1924217\ttotal: 1m 43s\tremaining: 1m 23s\n",
            "554:\tlearn: 0.1923864\ttotal: 1m 43s\tremaining: 1m 23s\n",
            "555:\tlearn: 0.1923667\ttotal: 1m 43s\tremaining: 1m 23s\n",
            "556:\tlearn: 0.1923568\ttotal: 1m 44s\tremaining: 1m 22s\n",
            "557:\tlearn: 0.1923450\ttotal: 1m 44s\tremaining: 1m 22s\n",
            "558:\tlearn: 0.1923268\ttotal: 1m 44s\tremaining: 1m 22s\n",
            "559:\tlearn: 0.1922880\ttotal: 1m 44s\tremaining: 1m 22s\n",
            "560:\tlearn: 0.1922806\ttotal: 1m 44s\tremaining: 1m 22s\n",
            "561:\tlearn: 0.1922407\ttotal: 1m 45s\tremaining: 1m 21s\n",
            "562:\tlearn: 0.1922260\ttotal: 1m 45s\tremaining: 1m 21s\n",
            "563:\tlearn: 0.1922133\ttotal: 1m 45s\tremaining: 1m 21s\n",
            "564:\tlearn: 0.1921938\ttotal: 1m 45s\tremaining: 1m 21s\n",
            "565:\tlearn: 0.1921801\ttotal: 1m 45s\tremaining: 1m 21s\n",
            "566:\tlearn: 0.1921630\ttotal: 1m 46s\tremaining: 1m 20s\n",
            "567:\tlearn: 0.1921342\ttotal: 1m 46s\tremaining: 1m 20s\n",
            "568:\tlearn: 0.1921235\ttotal: 1m 46s\tremaining: 1m 20s\n",
            "569:\tlearn: 0.1921031\ttotal: 1m 46s\tremaining: 1m 20s\n",
            "570:\tlearn: 0.1920879\ttotal: 1m 46s\tremaining: 1m 20s\n",
            "571:\tlearn: 0.1920628\ttotal: 1m 46s\tremaining: 1m 20s\n",
            "572:\tlearn: 0.1920488\ttotal: 1m 47s\tremaining: 1m 19s\n",
            "573:\tlearn: 0.1920292\ttotal: 1m 47s\tremaining: 1m 19s\n",
            "574:\tlearn: 0.1920024\ttotal: 1m 47s\tremaining: 1m 19s\n",
            "575:\tlearn: 0.1919832\ttotal: 1m 47s\tremaining: 1m 19s\n",
            "576:\tlearn: 0.1919711\ttotal: 1m 47s\tremaining: 1m 19s\n",
            "577:\tlearn: 0.1919527\ttotal: 1m 48s\tremaining: 1m 18s\n",
            "578:\tlearn: 0.1919413\ttotal: 1m 48s\tremaining: 1m 18s\n",
            "579:\tlearn: 0.1919258\ttotal: 1m 48s\tremaining: 1m 18s\n",
            "580:\tlearn: 0.1919090\ttotal: 1m 48s\tremaining: 1m 18s\n",
            "581:\tlearn: 0.1918954\ttotal: 1m 48s\tremaining: 1m 18s\n",
            "582:\tlearn: 0.1918804\ttotal: 1m 49s\tremaining: 1m 17s\n",
            "583:\tlearn: 0.1918660\ttotal: 1m 49s\tremaining: 1m 17s\n",
            "584:\tlearn: 0.1918489\ttotal: 1m 49s\tremaining: 1m 17s\n",
            "585:\tlearn: 0.1918359\ttotal: 1m 49s\tremaining: 1m 17s\n",
            "586:\tlearn: 0.1918232\ttotal: 1m 49s\tremaining: 1m 17s\n",
            "587:\tlearn: 0.1918020\ttotal: 1m 49s\tremaining: 1m 17s\n",
            "588:\tlearn: 0.1917832\ttotal: 1m 50s\tremaining: 1m 16s\n",
            "589:\tlearn: 0.1917760\ttotal: 1m 50s\tremaining: 1m 16s\n",
            "590:\tlearn: 0.1917621\ttotal: 1m 50s\tremaining: 1m 16s\n",
            "591:\tlearn: 0.1917446\ttotal: 1m 50s\tremaining: 1m 16s\n",
            "592:\tlearn: 0.1917310\ttotal: 1m 50s\tremaining: 1m 16s\n",
            "593:\tlearn: 0.1917073\ttotal: 1m 51s\tremaining: 1m 15s\n",
            "594:\tlearn: 0.1916947\ttotal: 1m 51s\tremaining: 1m 15s\n",
            "595:\tlearn: 0.1916664\ttotal: 1m 51s\tremaining: 1m 15s\n",
            "596:\tlearn: 0.1916349\ttotal: 1m 51s\tremaining: 1m 15s\n",
            "597:\tlearn: 0.1916178\ttotal: 1m 51s\tremaining: 1m 15s\n",
            "598:\tlearn: 0.1916084\ttotal: 1m 51s\tremaining: 1m 14s\n",
            "599:\tlearn: 0.1915956\ttotal: 1m 52s\tremaining: 1m 14s\n",
            "600:\tlearn: 0.1915848\ttotal: 1m 52s\tremaining: 1m 14s\n",
            "601:\tlearn: 0.1915469\ttotal: 1m 52s\tremaining: 1m 14s\n",
            "602:\tlearn: 0.1915332\ttotal: 1m 52s\tremaining: 1m 14s\n",
            "603:\tlearn: 0.1915211\ttotal: 1m 52s\tremaining: 1m 14s\n",
            "604:\tlearn: 0.1915088\ttotal: 1m 53s\tremaining: 1m 13s\n",
            "605:\tlearn: 0.1914939\ttotal: 1m 53s\tremaining: 1m 13s\n",
            "606:\tlearn: 0.1914832\ttotal: 1m 53s\tremaining: 1m 13s\n",
            "607:\tlearn: 0.1914686\ttotal: 1m 53s\tremaining: 1m 13s\n",
            "608:\tlearn: 0.1914512\ttotal: 1m 53s\tremaining: 1m 13s\n",
            "609:\tlearn: 0.1914369\ttotal: 1m 54s\tremaining: 1m 12s\n",
            "610:\tlearn: 0.1914166\ttotal: 1m 54s\tremaining: 1m 12s\n",
            "611:\tlearn: 0.1914026\ttotal: 1m 54s\tremaining: 1m 12s\n",
            "612:\tlearn: 0.1913834\ttotal: 1m 54s\tremaining: 1m 12s\n",
            "613:\tlearn: 0.1913716\ttotal: 1m 54s\tremaining: 1m 12s\n",
            "614:\tlearn: 0.1913562\ttotal: 1m 54s\tremaining: 1m 11s\n",
            "615:\tlearn: 0.1913415\ttotal: 1m 55s\tremaining: 1m 11s\n",
            "616:\tlearn: 0.1913319\ttotal: 1m 55s\tremaining: 1m 11s\n",
            "617:\tlearn: 0.1913119\ttotal: 1m 55s\tremaining: 1m 11s\n",
            "618:\tlearn: 0.1912878\ttotal: 1m 55s\tremaining: 1m 11s\n",
            "619:\tlearn: 0.1912743\ttotal: 1m 55s\tremaining: 1m 11s\n",
            "620:\tlearn: 0.1912593\ttotal: 1m 56s\tremaining: 1m 10s\n",
            "621:\tlearn: 0.1912444\ttotal: 1m 56s\tremaining: 1m 10s\n",
            "622:\tlearn: 0.1912365\ttotal: 1m 56s\tremaining: 1m 10s\n",
            "623:\tlearn: 0.1912226\ttotal: 1m 56s\tremaining: 1m 10s\n",
            "624:\tlearn: 0.1912096\ttotal: 1m 56s\tremaining: 1m 10s\n",
            "625:\tlearn: 0.1911896\ttotal: 1m 56s\tremaining: 1m 9s\n",
            "626:\tlearn: 0.1911777\ttotal: 1m 57s\tremaining: 1m 9s\n",
            "627:\tlearn: 0.1911627\ttotal: 1m 57s\tremaining: 1m 9s\n",
            "628:\tlearn: 0.1911495\ttotal: 1m 57s\tremaining: 1m 9s\n",
            "629:\tlearn: 0.1911273\ttotal: 1m 57s\tremaining: 1m 9s\n",
            "630:\tlearn: 0.1911134\ttotal: 1m 57s\tremaining: 1m 8s\n",
            "631:\tlearn: 0.1911019\ttotal: 1m 58s\tremaining: 1m 8s\n",
            "632:\tlearn: 0.1910886\ttotal: 1m 58s\tremaining: 1m 8s\n",
            "633:\tlearn: 0.1910738\ttotal: 1m 58s\tremaining: 1m 8s\n",
            "634:\tlearn: 0.1910409\ttotal: 1m 58s\tremaining: 1m 8s\n",
            "635:\tlearn: 0.1910225\ttotal: 1m 58s\tremaining: 1m 8s\n",
            "636:\tlearn: 0.1910070\ttotal: 1m 59s\tremaining: 1m 7s\n",
            "637:\tlearn: 0.1909953\ttotal: 1m 59s\tremaining: 1m 7s\n",
            "638:\tlearn: 0.1909863\ttotal: 1m 59s\tremaining: 1m 7s\n",
            "639:\tlearn: 0.1909382\ttotal: 1m 59s\tremaining: 1m 7s\n",
            "640:\tlearn: 0.1909044\ttotal: 1m 59s\tremaining: 1m 7s\n",
            "641:\tlearn: 0.1908950\ttotal: 1m 59s\tremaining: 1m 6s\n",
            "642:\tlearn: 0.1908853\ttotal: 2m\tremaining: 1m 6s\n",
            "643:\tlearn: 0.1908388\ttotal: 2m\tremaining: 1m 6s\n",
            "644:\tlearn: 0.1908065\ttotal: 2m\tremaining: 1m 6s\n",
            "645:\tlearn: 0.1907435\ttotal: 2m\tremaining: 1m 6s\n",
            "646:\tlearn: 0.1907258\ttotal: 2m\tremaining: 1m 5s\n",
            "647:\tlearn: 0.1907067\ttotal: 2m 1s\tremaining: 1m 5s\n",
            "648:\tlearn: 0.1906885\ttotal: 2m 1s\tremaining: 1m 5s\n",
            "649:\tlearn: 0.1906766\ttotal: 2m 1s\tremaining: 1m 5s\n",
            "650:\tlearn: 0.1906280\ttotal: 2m 1s\tremaining: 1m 5s\n",
            "651:\tlearn: 0.1906166\ttotal: 2m 1s\tremaining: 1m 5s\n",
            "652:\tlearn: 0.1905017\ttotal: 2m 2s\tremaining: 1m 4s\n",
            "653:\tlearn: 0.1904886\ttotal: 2m 2s\tremaining: 1m 4s\n",
            "654:\tlearn: 0.1904179\ttotal: 2m 2s\tremaining: 1m 4s\n",
            "655:\tlearn: 0.1904076\ttotal: 2m 2s\tremaining: 1m 4s\n",
            "656:\tlearn: 0.1903884\ttotal: 2m 2s\tremaining: 1m 4s\n",
            "657:\tlearn: 0.1903712\ttotal: 2m 2s\tremaining: 1m 3s\n",
            "658:\tlearn: 0.1903594\ttotal: 2m 3s\tremaining: 1m 3s\n",
            "659:\tlearn: 0.1903435\ttotal: 2m 3s\tremaining: 1m 3s\n",
            "660:\tlearn: 0.1903271\ttotal: 2m 3s\tremaining: 1m 3s\n",
            "661:\tlearn: 0.1903125\ttotal: 2m 3s\tremaining: 1m 3s\n",
            "662:\tlearn: 0.1902969\ttotal: 2m 3s\tremaining: 1m 2s\n",
            "663:\tlearn: 0.1902886\ttotal: 2m 4s\tremaining: 1m 2s\n",
            "664:\tlearn: 0.1902760\ttotal: 2m 4s\tremaining: 1m 2s\n",
            "665:\tlearn: 0.1902596\ttotal: 2m 4s\tremaining: 1m 2s\n",
            "666:\tlearn: 0.1902446\ttotal: 2m 4s\tremaining: 1m 2s\n",
            "667:\tlearn: 0.1902289\ttotal: 2m 4s\tremaining: 1m 2s\n",
            "668:\tlearn: 0.1902158\ttotal: 2m 4s\tremaining: 1m 1s\n",
            "669:\tlearn: 0.1902092\ttotal: 2m 5s\tremaining: 1m 1s\n",
            "670:\tlearn: 0.1901925\ttotal: 2m 5s\tremaining: 1m 1s\n",
            "671:\tlearn: 0.1901741\ttotal: 2m 5s\tremaining: 1m 1s\n",
            "672:\tlearn: 0.1901617\ttotal: 2m 5s\tremaining: 1m 1s\n",
            "673:\tlearn: 0.1901479\ttotal: 2m 5s\tremaining: 1m\n",
            "674:\tlearn: 0.1901338\ttotal: 2m 6s\tremaining: 1m\n",
            "675:\tlearn: 0.1901217\ttotal: 2m 6s\tremaining: 1m\n",
            "676:\tlearn: 0.1901113\ttotal: 2m 6s\tremaining: 1m\n",
            "677:\tlearn: 0.1901012\ttotal: 2m 6s\tremaining: 1m\n",
            "678:\tlearn: 0.1900913\ttotal: 2m 6s\tremaining: 60s\n",
            "679:\tlearn: 0.1900823\ttotal: 2m 7s\tremaining: 59.8s\n",
            "680:\tlearn: 0.1900680\ttotal: 2m 7s\tremaining: 59.6s\n",
            "681:\tlearn: 0.1900535\ttotal: 2m 7s\tremaining: 59.4s\n",
            "682:\tlearn: 0.1900440\ttotal: 2m 7s\tremaining: 59.2s\n",
            "683:\tlearn: 0.1900042\ttotal: 2m 7s\tremaining: 59.1s\n",
            "684:\tlearn: 0.1899929\ttotal: 2m 8s\tremaining: 58.9s\n",
            "685:\tlearn: 0.1899819\ttotal: 2m 8s\tremaining: 58.7s\n",
            "686:\tlearn: 0.1899669\ttotal: 2m 8s\tremaining: 58.5s\n",
            "687:\tlearn: 0.1899499\ttotal: 2m 8s\tremaining: 58.3s\n",
            "688:\tlearn: 0.1899196\ttotal: 2m 8s\tremaining: 58.1s\n",
            "689:\tlearn: 0.1898939\ttotal: 2m 8s\tremaining: 57.9s\n",
            "690:\tlearn: 0.1898864\ttotal: 2m 9s\tremaining: 57.7s\n",
            "691:\tlearn: 0.1898718\ttotal: 2m 9s\tremaining: 57.6s\n",
            "692:\tlearn: 0.1898587\ttotal: 2m 9s\tremaining: 57.4s\n",
            "693:\tlearn: 0.1898504\ttotal: 2m 9s\tremaining: 57.2s\n",
            "694:\tlearn: 0.1898417\ttotal: 2m 9s\tremaining: 57s\n",
            "695:\tlearn: 0.1898297\ttotal: 2m 10s\tremaining: 56.8s\n",
            "696:\tlearn: 0.1898188\ttotal: 2m 10s\tremaining: 56.6s\n",
            "697:\tlearn: 0.1898021\ttotal: 2m 10s\tremaining: 56.4s\n",
            "698:\tlearn: 0.1897836\ttotal: 2m 10s\tremaining: 56.2s\n",
            "699:\tlearn: 0.1897646\ttotal: 2m 10s\tremaining: 56.1s\n",
            "700:\tlearn: 0.1897532\ttotal: 2m 10s\tremaining: 55.9s\n",
            "701:\tlearn: 0.1897378\ttotal: 2m 11s\tremaining: 55.7s\n",
            "702:\tlearn: 0.1896824\ttotal: 2m 11s\tremaining: 55.5s\n",
            "703:\tlearn: 0.1896718\ttotal: 2m 11s\tremaining: 55.3s\n",
            "704:\tlearn: 0.1896599\ttotal: 2m 11s\tremaining: 55.1s\n",
            "705:\tlearn: 0.1896474\ttotal: 2m 11s\tremaining: 54.9s\n",
            "706:\tlearn: 0.1896371\ttotal: 2m 12s\tremaining: 54.7s\n",
            "707:\tlearn: 0.1896221\ttotal: 2m 12s\tremaining: 54.6s\n",
            "708:\tlearn: 0.1895728\ttotal: 2m 12s\tremaining: 54.4s\n",
            "709:\tlearn: 0.1895610\ttotal: 2m 12s\tremaining: 54.2s\n",
            "710:\tlearn: 0.1895481\ttotal: 2m 12s\tremaining: 54s\n",
            "711:\tlearn: 0.1895365\ttotal: 2m 13s\tremaining: 53.8s\n",
            "712:\tlearn: 0.1895227\ttotal: 2m 13s\tremaining: 53.6s\n",
            "713:\tlearn: 0.1895093\ttotal: 2m 13s\tremaining: 53.4s\n",
            "714:\tlearn: 0.1894987\ttotal: 2m 13s\tremaining: 53.2s\n",
            "715:\tlearn: 0.1894389\ttotal: 2m 13s\tremaining: 53.1s\n",
            "716:\tlearn: 0.1893950\ttotal: 2m 13s\tremaining: 52.9s\n",
            "717:\tlearn: 0.1893875\ttotal: 2m 14s\tremaining: 52.7s\n",
            "718:\tlearn: 0.1893736\ttotal: 2m 14s\tremaining: 52.5s\n",
            "719:\tlearn: 0.1893609\ttotal: 2m 14s\tremaining: 52.3s\n",
            "720:\tlearn: 0.1893498\ttotal: 2m 14s\tremaining: 52.1s\n",
            "721:\tlearn: 0.1893373\ttotal: 2m 14s\tremaining: 51.9s\n",
            "722:\tlearn: 0.1893236\ttotal: 2m 15s\tremaining: 51.7s\n",
            "723:\tlearn: 0.1893065\ttotal: 2m 15s\tremaining: 51.6s\n",
            "724:\tlearn: 0.1892987\ttotal: 2m 15s\tremaining: 51.4s\n",
            "725:\tlearn: 0.1892573\ttotal: 2m 15s\tremaining: 51.2s\n",
            "726:\tlearn: 0.1892430\ttotal: 2m 15s\tremaining: 51s\n",
            "727:\tlearn: 0.1892315\ttotal: 2m 16s\tremaining: 50.8s\n",
            "728:\tlearn: 0.1892145\ttotal: 2m 16s\tremaining: 50.6s\n",
            "729:\tlearn: 0.1892072\ttotal: 2m 16s\tremaining: 50.4s\n",
            "730:\tlearn: 0.1891924\ttotal: 2m 16s\tremaining: 50.3s\n",
            "731:\tlearn: 0.1891830\ttotal: 2m 16s\tremaining: 50.1s\n",
            "732:\tlearn: 0.1891710\ttotal: 2m 16s\tremaining: 49.9s\n",
            "733:\tlearn: 0.1891625\ttotal: 2m 17s\tremaining: 49.7s\n",
            "734:\tlearn: 0.1891325\ttotal: 2m 17s\tremaining: 49.5s\n",
            "735:\tlearn: 0.1891246\ttotal: 2m 17s\tremaining: 49.3s\n",
            "736:\tlearn: 0.1891138\ttotal: 2m 17s\tremaining: 49.1s\n",
            "737:\tlearn: 0.1890953\ttotal: 2m 17s\tremaining: 48.9s\n",
            "738:\tlearn: 0.1890837\ttotal: 2m 18s\tremaining: 48.8s\n",
            "739:\tlearn: 0.1890700\ttotal: 2m 18s\tremaining: 48.6s\n",
            "740:\tlearn: 0.1890629\ttotal: 2m 18s\tremaining: 48.4s\n",
            "741:\tlearn: 0.1890483\ttotal: 2m 18s\tremaining: 48.2s\n",
            "742:\tlearn: 0.1890369\ttotal: 2m 18s\tremaining: 48s\n",
            "743:\tlearn: 0.1890275\ttotal: 2m 18s\tremaining: 47.8s\n",
            "744:\tlearn: 0.1890093\ttotal: 2m 19s\tremaining: 47.6s\n",
            "745:\tlearn: 0.1889978\ttotal: 2m 19s\tremaining: 47.5s\n",
            "746:\tlearn: 0.1889863\ttotal: 2m 19s\tremaining: 47.3s\n",
            "747:\tlearn: 0.1889745\ttotal: 2m 19s\tremaining: 47.1s\n",
            "748:\tlearn: 0.1889184\ttotal: 2m 19s\tremaining: 46.9s\n",
            "749:\tlearn: 0.1889054\ttotal: 2m 20s\tremaining: 46.7s\n",
            "750:\tlearn: 0.1888906\ttotal: 2m 20s\tremaining: 46.5s\n",
            "751:\tlearn: 0.1888803\ttotal: 2m 20s\tremaining: 46.3s\n",
            "752:\tlearn: 0.1888698\ttotal: 2m 20s\tremaining: 46.1s\n",
            "753:\tlearn: 0.1888601\ttotal: 2m 20s\tremaining: 46s\n",
            "754:\tlearn: 0.1888212\ttotal: 2m 21s\tremaining: 45.8s\n",
            "755:\tlearn: 0.1888094\ttotal: 2m 21s\tremaining: 45.6s\n",
            "756:\tlearn: 0.1887837\ttotal: 2m 21s\tremaining: 45.4s\n",
            "757:\tlearn: 0.1887741\ttotal: 2m 21s\tremaining: 45.2s\n",
            "758:\tlearn: 0.1887645\ttotal: 2m 21s\tremaining: 45s\n",
            "759:\tlearn: 0.1887403\ttotal: 2m 21s\tremaining: 44.8s\n",
            "760:\tlearn: 0.1887311\ttotal: 2m 22s\tremaining: 44.6s\n",
            "761:\tlearn: 0.1887247\ttotal: 2m 22s\tremaining: 44.5s\n",
            "762:\tlearn: 0.1887120\ttotal: 2m 22s\tremaining: 44.3s\n",
            "763:\tlearn: 0.1887009\ttotal: 2m 22s\tremaining: 44.1s\n",
            "764:\tlearn: 0.1886841\ttotal: 2m 22s\tremaining: 43.9s\n",
            "765:\tlearn: 0.1886690\ttotal: 2m 23s\tremaining: 43.7s\n",
            "766:\tlearn: 0.1886547\ttotal: 2m 23s\tremaining: 43.5s\n",
            "767:\tlearn: 0.1886333\ttotal: 2m 23s\tremaining: 43.3s\n",
            "768:\tlearn: 0.1886254\ttotal: 2m 23s\tremaining: 43.2s\n",
            "769:\tlearn: 0.1886133\ttotal: 2m 23s\tremaining: 43s\n",
            "770:\tlearn: 0.1886017\ttotal: 2m 24s\tremaining: 42.8s\n",
            "771:\tlearn: 0.1885932\ttotal: 2m 24s\tremaining: 42.6s\n",
            "772:\tlearn: 0.1885553\ttotal: 2m 24s\tremaining: 42.4s\n",
            "773:\tlearn: 0.1885455\ttotal: 2m 24s\tremaining: 42.2s\n",
            "774:\tlearn: 0.1885310\ttotal: 2m 24s\tremaining: 42s\n",
            "775:\tlearn: 0.1885130\ttotal: 2m 24s\tremaining: 41.8s\n",
            "776:\tlearn: 0.1884726\ttotal: 2m 25s\tremaining: 41.7s\n",
            "777:\tlearn: 0.1884299\ttotal: 2m 25s\tremaining: 41.5s\n",
            "778:\tlearn: 0.1884170\ttotal: 2m 25s\tremaining: 41.3s\n",
            "779:\tlearn: 0.1884045\ttotal: 2m 25s\tremaining: 41.1s\n",
            "780:\tlearn: 0.1883940\ttotal: 2m 25s\tremaining: 40.9s\n",
            "781:\tlearn: 0.1883863\ttotal: 2m 26s\tremaining: 40.7s\n",
            "782:\tlearn: 0.1883714\ttotal: 2m 26s\tremaining: 40.5s\n",
            "783:\tlearn: 0.1883576\ttotal: 2m 26s\tremaining: 40.4s\n",
            "784:\tlearn: 0.1883456\ttotal: 2m 26s\tremaining: 40.2s\n",
            "785:\tlearn: 0.1883288\ttotal: 2m 26s\tremaining: 40s\n",
            "786:\tlearn: 0.1883223\ttotal: 2m 27s\tremaining: 39.8s\n",
            "787:\tlearn: 0.1883140\ttotal: 2m 27s\tremaining: 39.6s\n",
            "788:\tlearn: 0.1882980\ttotal: 2m 27s\tremaining: 39.4s\n",
            "789:\tlearn: 0.1882720\ttotal: 2m 27s\tremaining: 39.2s\n",
            "790:\tlearn: 0.1882599\ttotal: 2m 27s\tremaining: 39s\n",
            "791:\tlearn: 0.1882521\ttotal: 2m 27s\tremaining: 38.9s\n",
            "792:\tlearn: 0.1882339\ttotal: 2m 28s\tremaining: 38.7s\n",
            "793:\tlearn: 0.1882216\ttotal: 2m 28s\tremaining: 38.5s\n",
            "794:\tlearn: 0.1881794\ttotal: 2m 28s\tremaining: 38.3s\n",
            "795:\tlearn: 0.1881369\ttotal: 2m 28s\tremaining: 38.1s\n",
            "796:\tlearn: 0.1881241\ttotal: 2m 28s\tremaining: 37.9s\n",
            "797:\tlearn: 0.1881108\ttotal: 2m 29s\tremaining: 37.7s\n",
            "798:\tlearn: 0.1881020\ttotal: 2m 29s\tremaining: 37.5s\n",
            "799:\tlearn: 0.1880856\ttotal: 2m 29s\tremaining: 37.4s\n",
            "800:\tlearn: 0.1880705\ttotal: 2m 29s\tremaining: 37.2s\n",
            "801:\tlearn: 0.1880545\ttotal: 2m 29s\tremaining: 37s\n",
            "802:\tlearn: 0.1880461\ttotal: 2m 29s\tremaining: 36.8s\n",
            "803:\tlearn: 0.1880361\ttotal: 2m 30s\tremaining: 36.6s\n",
            "804:\tlearn: 0.1880207\ttotal: 2m 30s\tremaining: 36.4s\n",
            "805:\tlearn: 0.1880057\ttotal: 2m 30s\tremaining: 36.2s\n",
            "806:\tlearn: 0.1879921\ttotal: 2m 30s\tremaining: 36s\n",
            "807:\tlearn: 0.1879829\ttotal: 2m 30s\tremaining: 35.9s\n",
            "808:\tlearn: 0.1879747\ttotal: 2m 31s\tremaining: 35.7s\n",
            "809:\tlearn: 0.1879629\ttotal: 2m 31s\tremaining: 35.5s\n",
            "810:\tlearn: 0.1879522\ttotal: 2m 31s\tremaining: 35.3s\n",
            "811:\tlearn: 0.1879411\ttotal: 2m 31s\tremaining: 35.1s\n",
            "812:\tlearn: 0.1879335\ttotal: 2m 31s\tremaining: 34.9s\n",
            "813:\tlearn: 0.1879215\ttotal: 2m 32s\tremaining: 34.7s\n",
            "814:\tlearn: 0.1879100\ttotal: 2m 32s\tremaining: 34.5s\n",
            "815:\tlearn: 0.1878965\ttotal: 2m 32s\tremaining: 34.4s\n",
            "816:\tlearn: 0.1878841\ttotal: 2m 32s\tremaining: 34.2s\n",
            "817:\tlearn: 0.1878637\ttotal: 2m 32s\tremaining: 34s\n",
            "818:\tlearn: 0.1878227\ttotal: 2m 32s\tremaining: 33.8s\n",
            "819:\tlearn: 0.1877866\ttotal: 2m 33s\tremaining: 33.6s\n",
            "820:\tlearn: 0.1877672\ttotal: 2m 33s\tremaining: 33.4s\n",
            "821:\tlearn: 0.1877523\ttotal: 2m 33s\tremaining: 33.2s\n",
            "822:\tlearn: 0.1877023\ttotal: 2m 33s\tremaining: 33.1s\n",
            "823:\tlearn: 0.1876834\ttotal: 2m 33s\tremaining: 32.9s\n",
            "824:\tlearn: 0.1876661\ttotal: 2m 34s\tremaining: 32.7s\n",
            "825:\tlearn: 0.1876296\ttotal: 2m 34s\tremaining: 32.5s\n",
            "826:\tlearn: 0.1876122\ttotal: 2m 34s\tremaining: 32.4s\n",
            "827:\tlearn: 0.1875971\ttotal: 2m 35s\tremaining: 32.2s\n",
            "828:\tlearn: 0.1875885\ttotal: 2m 35s\tremaining: 32.1s\n",
            "829:\tlearn: 0.1875808\ttotal: 2m 35s\tremaining: 31.9s\n",
            "830:\tlearn: 0.1875695\ttotal: 2m 36s\tremaining: 31.7s\n",
            "831:\tlearn: 0.1875552\ttotal: 2m 36s\tremaining: 31.6s\n",
            "832:\tlearn: 0.1875143\ttotal: 2m 36s\tremaining: 31.4s\n",
            "833:\tlearn: 0.1875059\ttotal: 2m 37s\tremaining: 31.3s\n",
            "834:\tlearn: 0.1874926\ttotal: 2m 37s\tremaining: 31.1s\n",
            "835:\tlearn: 0.1874833\ttotal: 2m 37s\tremaining: 31s\n",
            "836:\tlearn: 0.1874727\ttotal: 2m 38s\tremaining: 30.8s\n",
            "837:\tlearn: 0.1874633\ttotal: 2m 38s\tremaining: 30.6s\n",
            "838:\tlearn: 0.1874495\ttotal: 2m 38s\tremaining: 30.5s\n",
            "839:\tlearn: 0.1874373\ttotal: 2m 39s\tremaining: 30.3s\n",
            "840:\tlearn: 0.1874236\ttotal: 2m 39s\tremaining: 30.2s\n",
            "841:\tlearn: 0.1874111\ttotal: 2m 39s\tremaining: 30s\n",
            "842:\tlearn: 0.1873924\ttotal: 2m 40s\tremaining: 29.8s\n",
            "843:\tlearn: 0.1873790\ttotal: 2m 40s\tremaining: 29.7s\n",
            "844:\tlearn: 0.1873665\ttotal: 2m 40s\tremaining: 29.5s\n",
            "845:\tlearn: 0.1873497\ttotal: 2m 41s\tremaining: 29.4s\n",
            "846:\tlearn: 0.1873355\ttotal: 2m 41s\tremaining: 29.2s\n",
            "847:\tlearn: 0.1873168\ttotal: 2m 41s\tremaining: 29s\n",
            "848:\tlearn: 0.1873016\ttotal: 2m 42s\tremaining: 28.9s\n",
            "849:\tlearn: 0.1872919\ttotal: 2m 42s\tremaining: 28.7s\n",
            "850:\tlearn: 0.1872762\ttotal: 2m 43s\tremaining: 28.5s\n",
            "851:\tlearn: 0.1872658\ttotal: 2m 43s\tremaining: 28.4s\n",
            "852:\tlearn: 0.1872544\ttotal: 2m 43s\tremaining: 28.2s\n",
            "853:\tlearn: 0.1872459\ttotal: 2m 44s\tremaining: 28.1s\n",
            "854:\tlearn: 0.1872320\ttotal: 2m 44s\tremaining: 27.9s\n",
            "855:\tlearn: 0.1872173\ttotal: 2m 44s\tremaining: 27.7s\n",
            "856:\tlearn: 0.1872028\ttotal: 2m 45s\tremaining: 27.5s\n",
            "857:\tlearn: 0.1871907\ttotal: 2m 45s\tremaining: 27.4s\n",
            "858:\tlearn: 0.1871812\ttotal: 2m 45s\tremaining: 27.2s\n",
            "859:\tlearn: 0.1871706\ttotal: 2m 45s\tremaining: 27s\n",
            "860:\tlearn: 0.1871602\ttotal: 2m 45s\tremaining: 26.8s\n",
            "861:\tlearn: 0.1871527\ttotal: 2m 46s\tremaining: 26.6s\n",
            "862:\tlearn: 0.1871406\ttotal: 2m 46s\tremaining: 26.4s\n",
            "863:\tlearn: 0.1871225\ttotal: 2m 46s\tremaining: 26.2s\n",
            "864:\tlearn: 0.1871086\ttotal: 2m 46s\tremaining: 26s\n",
            "865:\tlearn: 0.1870885\ttotal: 2m 46s\tremaining: 25.8s\n",
            "866:\tlearn: 0.1870782\ttotal: 2m 47s\tremaining: 25.6s\n",
            "867:\tlearn: 0.1870636\ttotal: 2m 47s\tremaining: 25.4s\n",
            "868:\tlearn: 0.1870499\ttotal: 2m 47s\tremaining: 25.2s\n",
            "869:\tlearn: 0.1870423\ttotal: 2m 47s\tremaining: 25s\n",
            "870:\tlearn: 0.1870248\ttotal: 2m 47s\tremaining: 24.8s\n",
            "871:\tlearn: 0.1870157\ttotal: 2m 47s\tremaining: 24.6s\n",
            "872:\tlearn: 0.1869990\ttotal: 2m 48s\tremaining: 24.5s\n",
            "873:\tlearn: 0.1869841\ttotal: 2m 48s\tremaining: 24.3s\n",
            "874:\tlearn: 0.1869750\ttotal: 2m 48s\tremaining: 24.1s\n",
            "875:\tlearn: 0.1869653\ttotal: 2m 48s\tremaining: 23.9s\n",
            "876:\tlearn: 0.1869557\ttotal: 2m 48s\tremaining: 23.7s\n",
            "877:\tlearn: 0.1869428\ttotal: 2m 49s\tremaining: 23.5s\n",
            "878:\tlearn: 0.1869284\ttotal: 2m 49s\tremaining: 23.3s\n",
            "879:\tlearn: 0.1869169\ttotal: 2m 49s\tremaining: 23.1s\n",
            "880:\tlearn: 0.1869002\ttotal: 2m 49s\tremaining: 22.9s\n",
            "881:\tlearn: 0.1868858\ttotal: 2m 49s\tremaining: 22.7s\n",
            "882:\tlearn: 0.1868698\ttotal: 2m 50s\tremaining: 22.5s\n",
            "883:\tlearn: 0.1868601\ttotal: 2m 50s\tremaining: 22.3s\n",
            "884:\tlearn: 0.1868491\ttotal: 2m 50s\tremaining: 22.1s\n",
            "885:\tlearn: 0.1868404\ttotal: 2m 50s\tremaining: 21.9s\n",
            "886:\tlearn: 0.1868300\ttotal: 2m 50s\tremaining: 21.8s\n",
            "887:\tlearn: 0.1868121\ttotal: 2m 50s\tremaining: 21.6s\n",
            "888:\tlearn: 0.1867985\ttotal: 2m 51s\tremaining: 21.4s\n",
            "889:\tlearn: 0.1867884\ttotal: 2m 51s\tremaining: 21.2s\n",
            "890:\tlearn: 0.1867814\ttotal: 2m 51s\tremaining: 21s\n",
            "891:\tlearn: 0.1867745\ttotal: 2m 51s\tremaining: 20.8s\n",
            "892:\tlearn: 0.1867649\ttotal: 2m 51s\tremaining: 20.6s\n",
            "893:\tlearn: 0.1867519\ttotal: 2m 52s\tremaining: 20.4s\n",
            "894:\tlearn: 0.1867422\ttotal: 2m 52s\tremaining: 20.2s\n",
            "895:\tlearn: 0.1867350\ttotal: 2m 52s\tremaining: 20s\n",
            "896:\tlearn: 0.1867245\ttotal: 2m 52s\tremaining: 19.8s\n",
            "897:\tlearn: 0.1867152\ttotal: 2m 52s\tremaining: 19.6s\n",
            "898:\tlearn: 0.1867070\ttotal: 2m 53s\tremaining: 19.4s\n",
            "899:\tlearn: 0.1866638\ttotal: 2m 53s\tremaining: 19.2s\n",
            "900:\tlearn: 0.1866499\ttotal: 2m 53s\tremaining: 19.1s\n",
            "901:\tlearn: 0.1866347\ttotal: 2m 53s\tremaining: 18.9s\n",
            "902:\tlearn: 0.1866257\ttotal: 2m 53s\tremaining: 18.7s\n",
            "903:\tlearn: 0.1866140\ttotal: 2m 53s\tremaining: 18.5s\n",
            "904:\tlearn: 0.1866129\ttotal: 2m 54s\tremaining: 18.3s\n",
            "905:\tlearn: 0.1866018\ttotal: 2m 54s\tremaining: 18.1s\n",
            "906:\tlearn: 0.1865886\ttotal: 2m 54s\tremaining: 17.9s\n",
            "907:\tlearn: 0.1865747\ttotal: 2m 54s\tremaining: 17.7s\n",
            "908:\tlearn: 0.1865687\ttotal: 2m 54s\tremaining: 17.5s\n",
            "909:\tlearn: 0.1865594\ttotal: 2m 55s\tremaining: 17.3s\n",
            "910:\tlearn: 0.1865510\ttotal: 2m 55s\tremaining: 17.1s\n",
            "911:\tlearn: 0.1865410\ttotal: 2m 55s\tremaining: 16.9s\n",
            "912:\tlearn: 0.1865291\ttotal: 2m 55s\tremaining: 16.7s\n",
            "913:\tlearn: 0.1865192\ttotal: 2m 55s\tremaining: 16.5s\n",
            "914:\tlearn: 0.1865085\ttotal: 2m 55s\tremaining: 16.3s\n",
            "915:\tlearn: 0.1864973\ttotal: 2m 56s\tremaining: 16.2s\n",
            "916:\tlearn: 0.1864869\ttotal: 2m 56s\tremaining: 16s\n",
            "917:\tlearn: 0.1864745\ttotal: 2m 56s\tremaining: 15.8s\n",
            "918:\tlearn: 0.1864647\ttotal: 2m 56s\tremaining: 15.6s\n",
            "919:\tlearn: 0.1864500\ttotal: 2m 56s\tremaining: 15.4s\n",
            "920:\tlearn: 0.1864330\ttotal: 2m 57s\tremaining: 15.2s\n",
            "921:\tlearn: 0.1864180\ttotal: 2m 57s\tremaining: 15s\n",
            "922:\tlearn: 0.1864026\ttotal: 2m 57s\tremaining: 14.8s\n",
            "923:\tlearn: 0.1863909\ttotal: 2m 57s\tremaining: 14.6s\n",
            "924:\tlearn: 0.1863781\ttotal: 2m 57s\tremaining: 14.4s\n",
            "925:\tlearn: 0.1863708\ttotal: 2m 58s\tremaining: 14.2s\n",
            "926:\tlearn: 0.1863594\ttotal: 2m 58s\tremaining: 14s\n",
            "927:\tlearn: 0.1863521\ttotal: 2m 58s\tremaining: 13.8s\n",
            "928:\tlearn: 0.1863438\ttotal: 2m 58s\tremaining: 13.6s\n",
            "929:\tlearn: 0.1863295\ttotal: 2m 58s\tremaining: 13.5s\n",
            "930:\tlearn: 0.1863243\ttotal: 2m 58s\tremaining: 13.3s\n",
            "931:\tlearn: 0.1863162\ttotal: 2m 59s\tremaining: 13.1s\n",
            "932:\tlearn: 0.1863061\ttotal: 2m 59s\tremaining: 12.9s\n",
            "933:\tlearn: 0.1862932\ttotal: 2m 59s\tremaining: 12.7s\n",
            "934:\tlearn: 0.1862761\ttotal: 2m 59s\tremaining: 12.5s\n",
            "935:\tlearn: 0.1862682\ttotal: 2m 59s\tremaining: 12.3s\n",
            "936:\tlearn: 0.1862580\ttotal: 3m\tremaining: 12.1s\n",
            "937:\tlearn: 0.1862438\ttotal: 3m\tremaining: 11.9s\n",
            "938:\tlearn: 0.1862329\ttotal: 3m\tremaining: 11.7s\n",
            "939:\tlearn: 0.1862247\ttotal: 3m\tremaining: 11.5s\n",
            "940:\tlearn: 0.1862166\ttotal: 3m\tremaining: 11.3s\n",
            "941:\tlearn: 0.1862042\ttotal: 3m 1s\tremaining: 11.1s\n",
            "942:\tlearn: 0.1861948\ttotal: 3m 1s\tremaining: 11s\n",
            "943:\tlearn: 0.1861792\ttotal: 3m 1s\tremaining: 10.8s\n",
            "944:\tlearn: 0.1861676\ttotal: 3m 1s\tremaining: 10.6s\n",
            "945:\tlearn: 0.1861579\ttotal: 3m 1s\tremaining: 10.4s\n",
            "946:\tlearn: 0.1861513\ttotal: 3m 2s\tremaining: 10.2s\n",
            "947:\tlearn: 0.1861399\ttotal: 3m 2s\tremaining: 9.99s\n",
            "948:\tlearn: 0.1861236\ttotal: 3m 2s\tremaining: 9.8s\n",
            "949:\tlearn: 0.1861108\ttotal: 3m 2s\tremaining: 9.61s\n",
            "950:\tlearn: 0.1861014\ttotal: 3m 2s\tremaining: 9.41s\n",
            "951:\tlearn: 0.1860945\ttotal: 3m 2s\tremaining: 9.22s\n",
            "952:\tlearn: 0.1860819\ttotal: 3m 3s\tremaining: 9.03s\n",
            "953:\tlearn: 0.1860723\ttotal: 3m 3s\tremaining: 8.84s\n",
            "954:\tlearn: 0.1860656\ttotal: 3m 3s\tremaining: 8.65s\n",
            "955:\tlearn: 0.1860501\ttotal: 3m 3s\tremaining: 8.45s\n",
            "956:\tlearn: 0.1860404\ttotal: 3m 3s\tremaining: 8.26s\n",
            "957:\tlearn: 0.1860296\ttotal: 3m 4s\tremaining: 8.07s\n",
            "958:\tlearn: 0.1860176\ttotal: 3m 4s\tremaining: 7.88s\n",
            "959:\tlearn: 0.1860104\ttotal: 3m 4s\tremaining: 7.68s\n",
            "960:\tlearn: 0.1860002\ttotal: 3m 4s\tremaining: 7.49s\n",
            "961:\tlearn: 0.1859924\ttotal: 3m 4s\tremaining: 7.3s\n",
            "962:\tlearn: 0.1859828\ttotal: 3m 4s\tremaining: 7.11s\n",
            "963:\tlearn: 0.1859723\ttotal: 3m 5s\tremaining: 6.91s\n",
            "964:\tlearn: 0.1859657\ttotal: 3m 5s\tremaining: 6.72s\n",
            "965:\tlearn: 0.1859570\ttotal: 3m 5s\tremaining: 6.53s\n",
            "966:\tlearn: 0.1859483\ttotal: 3m 5s\tremaining: 6.34s\n",
            "967:\tlearn: 0.1859391\ttotal: 3m 5s\tremaining: 6.14s\n",
            "968:\tlearn: 0.1859249\ttotal: 3m 6s\tremaining: 5.95s\n",
            "969:\tlearn: 0.1859136\ttotal: 3m 6s\tremaining: 5.76s\n",
            "970:\tlearn: 0.1858956\ttotal: 3m 6s\tremaining: 5.57s\n",
            "971:\tlearn: 0.1858863\ttotal: 3m 6s\tremaining: 5.38s\n",
            "972:\tlearn: 0.1858713\ttotal: 3m 6s\tremaining: 5.18s\n",
            "973:\tlearn: 0.1858545\ttotal: 3m 7s\tremaining: 4.99s\n",
            "974:\tlearn: 0.1858495\ttotal: 3m 7s\tremaining: 4.8s\n",
            "975:\tlearn: 0.1858319\ttotal: 3m 7s\tremaining: 4.61s\n",
            "976:\tlearn: 0.1858173\ttotal: 3m 7s\tremaining: 4.42s\n",
            "977:\tlearn: 0.1858080\ttotal: 3m 7s\tremaining: 4.22s\n",
            "978:\tlearn: 0.1857974\ttotal: 3m 7s\tremaining: 4.03s\n",
            "979:\tlearn: 0.1857882\ttotal: 3m 8s\tremaining: 3.84s\n",
            "980:\tlearn: 0.1857874\ttotal: 3m 8s\tremaining: 3.65s\n",
            "981:\tlearn: 0.1857654\ttotal: 3m 8s\tremaining: 3.46s\n",
            "982:\tlearn: 0.1857584\ttotal: 3m 8s\tremaining: 3.26s\n",
            "983:\tlearn: 0.1857442\ttotal: 3m 8s\tremaining: 3.07s\n",
            "984:\tlearn: 0.1857336\ttotal: 3m 9s\tremaining: 2.88s\n",
            "985:\tlearn: 0.1857207\ttotal: 3m 9s\tremaining: 2.69s\n",
            "986:\tlearn: 0.1857081\ttotal: 3m 9s\tremaining: 2.5s\n",
            "987:\tlearn: 0.1856994\ttotal: 3m 9s\tremaining: 2.3s\n",
            "988:\tlearn: 0.1856887\ttotal: 3m 9s\tremaining: 2.11s\n",
            "989:\tlearn: 0.1856779\ttotal: 3m 10s\tremaining: 1.92s\n",
            "990:\tlearn: 0.1856696\ttotal: 3m 10s\tremaining: 1.73s\n",
            "991:\tlearn: 0.1856599\ttotal: 3m 10s\tremaining: 1.53s\n",
            "992:\tlearn: 0.1856482\ttotal: 3m 10s\tremaining: 1.34s\n",
            "993:\tlearn: 0.1856353\ttotal: 3m 10s\tremaining: 1.15s\n",
            "994:\tlearn: 0.1856251\ttotal: 3m 10s\tremaining: 959ms\n",
            "995:\tlearn: 0.1856128\ttotal: 3m 11s\tremaining: 768ms\n",
            "996:\tlearn: 0.1856038\ttotal: 3m 11s\tremaining: 576ms\n",
            "997:\tlearn: 0.1855869\ttotal: 3m 11s\tremaining: 384ms\n",
            "998:\tlearn: 0.1855742\ttotal: 3m 11s\tremaining: 192ms\n",
            "999:\tlearn: 0.1855515\ttotal: 3m 11s\tremaining: 0us\n"
          ],
          "name": "stdout"
        },
        {
          "output_type": "execute_result",
          "data": {
            "text/plain": [
              "<catboost.core.CatBoostClassifier at 0x7ff1b7959978>"
            ]
          },
          "metadata": {
            "tags": []
          },
          "execution_count": 37
        }
      ]
    },
    {
      "cell_type": "code",
      "metadata": {
        "colab": {
          "base_uri": "https://localhost:8080/",
          "height": 903
        },
        "id": "0I9BPM3LZuEy",
        "outputId": "869c8205-8b30-4ca4-f54c-c28473bde406"
      },
      "source": [
        "model_error(classifier,X_test,y_test)"
      ],
      "execution_count": null,
      "outputs": [
        {
          "output_type": "stream",
          "text": [
            "RMSE of model:  0.3185596696976796\n",
            "\n",
            "Accuracy:  0.8985197368421053\n",
            "\n",
            "Classification Report:                precision    recall  f1-score   support\n",
            "\n",
            "           0       0.86      0.95      0.90     67100\n",
            "           1       0.94      0.85      0.89     66660\n",
            "\n",
            "    accuracy                           0.90    133760\n",
            "   macro avg       0.90      0.90      0.90    133760\n",
            "weighted avg       0.90      0.90      0.90    133760\n",
            "\n",
            "\n",
            "Confusion Matrix: \n",
            " [[63564  3536]\n",
            " [10038 56622]]\n",
            "\n",
            "ROC_AUC_Score:  0.8983587375130956\n"
          ],
          "name": "stdout"
        },
        {
          "output_type": "display_data",
          "data": {
            "image/png": "[encoded data removed]",
            "text/plain": [
              "<Figure size 720x720 with 2 Axes>"
            ]
          },
          "metadata": {
            "tags": []
          }
        }
      ]
    },
    {
      "cell_type": "code",
      "metadata": {
        "id": "Gt_Rbd1aZt7U"
      },
      "source": [
        ""
      ],
      "execution_count": null,
      "outputs": []
    }
  ]
}