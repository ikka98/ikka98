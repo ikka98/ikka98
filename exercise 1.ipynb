{
 "cells": [
  {
   "cell_type": "markdown",
   "id": "cc662c84",
   "metadata": {},
   "source": [
    "1.\tHow to check if a string contains only digits? "
   ]
  },
  {
   "cell_type": "code",
   "execution_count": 1,
   "id": "7704bc22",
   "metadata": {},
   "outputs": [
    {
     "name": "stdout",
     "output_type": "stream",
     "text": [
      "Initial Strings :  1234556\n",
      "String1 contains all numbers\n"
     ]
    }
   ],
   "source": [
    "\n",
    "string1 = '1234556'\n",
    " \n",
    "\n",
    "print (\"Initial Strings : \",string1)\n",
    " \n",
    "\n",
    "if string1.isdigit():\n",
    "    print (\"String1 contains all numbers\")\n",
    "else:\n",
    "    print (\"String1 doesn't contains all numbers\")"
   ]
  },
  {
   "cell_type": "markdown",
   "id": "e129835c",
   "metadata": {},
   "source": [
    "2.\tHow to find duplicate characters in a String? "
   ]
  },
  {
   "cell_type": "code",
   "execution_count": 7,
   "id": "b88f822d",
   "metadata": {},
   "outputs": [
    {
     "name": "stdout",
     "output_type": "stream",
     "text": [
      "n o\n"
     ]
    }
   ],
   "source": [
    "\n",
    "string = \"anonymous\"\n",
    "\n",
    "duplicates = []\n",
    "for char in string:\n",
    "   \n",
    "   if string.count(char) > 1:\n",
    "    \n",
    "    if char not in duplicates:\n",
    "        duplicates.append(char)\n",
    "print(*duplicates)"
   ]
  },
  {
   "cell_type": "markdown",
   "id": "b4e63c97",
   "metadata": {},
   "source": [
    "3.\tHow to count a number of vowels and consonants in a given String? "
   ]
  },
  {
   "cell_type": "code",
   "execution_count": 9,
   "id": "5713d692",
   "metadata": {},
   "outputs": [
    {
     "name": "stdout",
     "output_type": "stream",
     "text": [
      "Enter a string: riddance\n",
      "Vowels:  3\n",
      "Consonants:  5\n"
     ]
    }
   ],
   "source": [
    "\n",
    "vowels = ['a', 'e', 'i', 'o', 'u']\n",
    "\n",
    "\n",
    "str = input(\"Enter a string: \").lower()\n",
    "\n",
    "\n",
    "v_ctr = 0\n",
    "c_ctr = 0\n",
    "\n",
    "\n",
    "for x in str:\n",
    "    \n",
    "    \n",
    "    if x in vowels:\n",
    "        v_ctr += 1\n",
    "    elif x != ' ':\n",
    "        c_ctr += 1\n",
    "\n",
    "\n",
    "print(\"Vowels: \", v_ctr)\n",
    "print(\"Consonants: \", c_ctr)"
   ]
  },
  {
   "cell_type": "markdown",
   "id": "82a0e347",
   "metadata": {},
   "source": [
    "4.\tHow to count the occurrence of a given character in String? "
   ]
  },
  {
   "cell_type": "code",
   "execution_count": 11,
   "id": "09f2e72d",
   "metadata": {},
   "outputs": [
    {
     "name": "stdout",
     "output_type": "stream",
     "text": [
      "Count of r in pressure is :  2\n"
     ]
    }
   ],
   "source": [
    "test_str = \"pressure\"\n",
    "  \n",
    "\n",
    "count = 0\n",
    "  \n",
    "for i in test_str:\n",
    "    if i == 's':\n",
    "        count = count + 1\n",
    "\n",
    "print (\"Count of r in pressure is : \"\n",
    "                            ,count)"
   ]
  },
  {
   "cell_type": "markdown",
   "id": "b3fa2678",
   "metadata": {},
   "source": [
    "5.\tHow to find all permutations of String? "
   ]
  },
  {
   "cell_type": "code",
   "execution_count": 15,
   "id": "b76bee4d",
   "metadata": {},
   "outputs": [
    {
     "name": "stdout",
     "output_type": "stream",
     "text": [
      "Initial string eye\n",
      "Resultant permutations ['eye', 'eey', 'yee', 'yee', 'eye', 'eey']\n"
     ]
    }
   ],
   "source": [
    "str='eye'\n",
    "\n",
    "print(\"Initial string\", str)\n",
    " \n",
    "\n",
    "result = []\n",
    " \n",
    "def permute(data, i, length):\n",
    "    if i == length:\n",
    "        result.append(''.join(data) )\n",
    "    else:\n",
    "        for j in range(i, length):\n",
    "        \n",
    "            data[i], data[j] = data[j], data[i]\n",
    "            permute(data, i + 1, length)\n",
    "            data[i], data[j] = data[j], data[i] \n",
    "permute(list(str), 0, len(str))\n",
    " \n",
    "\n",
    "print(\"Resultant permutations\", result)"
   ]
  },
  {
   "cell_type": "markdown",
   "id": "5d96393d",
   "metadata": {},
   "source": [
    "6.\tHow to find & count any given pattern from a text, \n",
    "e.g. ‘EDUCATION’, find number of ‘CAT' occurrence in the text?\n"
   ]
  },
  {
   "cell_type": "code",
   "execution_count": 16,
   "id": "cb88640b",
   "metadata": {},
   "outputs": [
    {
     "name": "stdout",
     "output_type": "stream",
     "text": [
      "Count: 2\n"
     ]
    }
   ],
   "source": [
    "def count(sub, s): \n",
    "    M = len(sub) \n",
    "    N = len(s) \n",
    "    res = 0\n",
    "\n",
    " \n",
    "    for i in range(N - M + 1): \n",
    "\n",
    "     \n",
    "        j = 0\n",
    "        while(j < M): \n",
    "            if (s[i + j] != sub[j]): \n",
    "                break\n",
    "            j += 1\n",
    "\n",
    "        if (j == M): \n",
    "            res += 1\n",
    "            j = 0\n",
    "    return res \n",
    "\n",
    "\n",
    "string = \"abadabadu\"\n",
    "substring = \"ba\"\n",
    "print(\"Count:\", count(substring, string))"
   ]
  },
  {
   "cell_type": "markdown",
   "id": "f5719bc7",
   "metadata": {},
   "source": [
    "7.\tHow to remove duplicates from an array in place?"
   ]
  },
  {
   "cell_type": "code",
   "execution_count": 20,
   "id": "8109de07",
   "metadata": {},
   "outputs": [
    {
     "name": "stdout",
     "output_type": "stream",
     "text": [
      "The original list is :  [1, 3, 5, 6, 3, 5, 6, 1]\n",
      "The list after removing duplicates :  [1, 3, 5, 6]\n"
     ]
    }
   ],
   "source": [
    "test_list = [1, 3, 5, 6, 3, 5, 6, 1]\n",
    "print (\"The original list is : \" ,test_list)\n",
    "  \n",
    "\n",
    "res = []\n",
    "for i in test_list:\n",
    "    if i not in res:\n",
    "        res.append(i)\n",
    "        \n",
    "print (\"The list after removing duplicates : \" , res)"
   ]
  },
  {
   "cell_type": "markdown",
   "id": "f0775864",
   "metadata": {},
   "source": [
    "8.\tHow to reverse a String?"
   ]
  },
  {
   "cell_type": "code",
   "execution_count": 26,
   "id": "6aa4570c",
   "metadata": {},
   "outputs": [
    {
     "name": "stdout",
     "output_type": "stream",
     "text": [
      "The original string  is : loop\n",
      "The reversed string(using loops) is : pool\n"
     ]
    }
   ],
   "source": [
    "def reverse(s):\n",
    "    str = \"\"\n",
    "    for i in s:\n",
    "        str = i + str\n",
    "    return str\n",
    "  \n",
    "s = \"loop\"\n",
    "  \n",
    "print (\"The original string  is : \",end=\"\")\n",
    "print (s)\n",
    "  \n",
    "print (\"The reversed string(using loops) is : \",end=\"\")\n",
    "print (reverse(s))"
   ]
  },
  {
   "cell_type": "markdown",
   "id": "048a1968",
   "metadata": {},
   "source": [
    "9.\tHow to find the highest repeating world from a given file?"
   ]
  },
  {
   "cell_type": "code",
   "execution_count": 28,
   "id": "48060b0a",
   "metadata": {},
   "outputs": [
    {
     "name": "stdout",
     "output_type": "stream",
     "text": [
      "Most repeated word: and\n",
      "Frequency:  4\n"
     ]
    }
   ],
   "source": [
    "\n",
    "file = open(\"emma.txt\",\"r\")\n",
    "frequent_word = \"\"\n",
    "frequency = 0 \n",
    "words = []\n",
    " \n",
    "\n",
    "for line in file:\n",
    "    \n",
    "    line_word = line.lower().replace(',','').replace('.','').split(\" \"); \n",
    "     \n",
    "   \n",
    "    for w in line_word: \n",
    "        words.append(w); \n",
    "         \n",
    "\n",
    "for i in range(0, len(words)): \n",
    "     \n",
    "    \n",
    "    count = 1; \n",
    "     \n",
    "     \n",
    "    for j in range(i+1, len(words)): \n",
    "        if(words[i] == words[j]): \n",
    "            count = count + 1; \n",
    " \n",
    "    \n",
    "    if(count > frequency): \n",
    "        frequency = count; \n",
    "        frequent_word = words[i]; \n",
    "\n",
    "print(\"Most repeated word: \" + frequent_word)\n",
    "print(\"Frequency: \" ,frequency)\n",
    "file.close();"
   ]
  },
  {
   "cell_type": "markdown",
   "id": "e7c75c4a",
   "metadata": {},
   "source": [
    " 10.\tHow to check if the given number is a prime number?"
   ]
  },
  {
   "cell_type": "code",
   "execution_count": 29,
   "id": "31c5ea89",
   "metadata": {},
   "outputs": [
    {
     "name": "stdout",
     "output_type": "stream",
     "text": [
      "11 is a prime number\n"
     ]
    }
   ],
   "source": [
    "  \n",
    "num = 11\n",
    "  \n",
    "\n",
    "if num > 1:\n",
    "  \n",
    "    \n",
    "    for i in range(2, int(num/2)+1):\n",
    "  \n",
    "       \n",
    "        if (num % i) == 0:\n",
    "            print(num, \"is not a prime number\")\n",
    "            break\n",
    "    else:\n",
    "        print(num, \"is a prime number\")\n",
    "\n",
    "else:\n",
    "    print(num, \"is not a prime number\")"
   ]
  },
  {
   "cell_type": "markdown",
   "id": "d414e226",
   "metadata": {},
   "source": [
    "11.\tHow do you find all prime factors of a given number?"
   ]
  },
  {
   "cell_type": "code",
   "execution_count": 39,
   "id": "ea0bd047",
   "metadata": {},
   "outputs": [
    {
     "name": "stdout",
     "output_type": "stream",
     "text": [
      "Enter the number for calculating the prime factors :\n",
      "50\n",
      "2\n",
      "5\n",
      "5\n"
     ]
    }
   ],
   "source": [
    "import math\n",
    "def primefactors(n):\n",
    "   \n",
    "   while n % 2 == 0:\n",
    "      print (2),\n",
    "      n = n / 2\n",
    "    \n",
    "  \n",
    "   for i in range(3,int(math.sqrt(n))+1,2):\n",
    "     \n",
    "      while (n % i == 0):\n",
    "         print (i)\n",
    "         n = n / i\n",
    "    \n",
    "   if n > 2:\n",
    "      print (n)\n",
    " \n",
    "n = int(input(\"Enter the number for calculating the prime factors :\\n\"))\n",
    "primefactors(n)"
   ]
  },
  {
   "cell_type": "markdown",
   "id": "1a73568f",
   "metadata": {},
   "source": [
    "12.\tWrite a Program to transpose a Matrix?"
   ]
  },
  {
   "cell_type": "code",
   "execution_count": 40,
   "id": "622de395",
   "metadata": {},
   "outputs": [
    {
     "name": "stdout",
     "output_type": "stream",
     "text": [
      "[1, 2]\n",
      "[3, 4]\n",
      "[5, 6]\n",
      "\n",
      "\n",
      "[1, 3, 5]\n",
      "[2, 4, 6]\n"
     ]
    }
   ],
   "source": [
    "m = [[1,2],[3,4],[5,6]]\n",
    "for row in m :\n",
    "    print(row)\n",
    "rez = [[m[j][i] for j in range(len(m))] for i in range(len(m[0]))]\n",
    "print(\"\\n\")\n",
    "for row in rez:\n",
    "    print(row)"
   ]
  },
  {
   "cell_type": "markdown",
   "id": "5844deff",
   "metadata": {},
   "source": [
    "13.\tWrite a Program to add or subtract two Matrices?"
   ]
  },
  {
   "cell_type": "code",
   "execution_count": 42,
   "id": "3a449a9f",
   "metadata": {},
   "outputs": [
    {
     "name": "stdout",
     "output_type": "stream",
     "text": [
      "[17, 15, 4]\n",
      "[10, 12, 9]\n",
      "[11, 13, 18]\n"
     ]
    }
   ],
   "source": [
    "\n",
    "\n",
    "X = [[12,7,3],\n",
    "    [4 ,5,6],\n",
    "    [7 ,8,9]]\n",
    "\n",
    "Y = [[5,8,1],\n",
    "    [6,7,3],\n",
    "    [4,5,9]]\n",
    "\n",
    "result = [[X[i][j] + Y[i][j]  for j in range(len(X[0]))] for i in range(len(X))]\n",
    "\n",
    "for r in result:\n",
    "    print(r)"
   ]
  },
  {
   "cell_type": "markdown",
   "id": "dc371a32",
   "metadata": {},
   "source": [
    "14.\tHow to implement the Bubble Sort algorithm?"
   ]
  },
  {
   "cell_type": "code",
   "execution_count": 43,
   "id": "e22fda0c",
   "metadata": {},
   "outputs": [
    {
     "name": "stdout",
     "output_type": "stream",
     "text": [
      "Sorted array is:\n",
      " 11  12  22  25  34  64  90 "
     ]
    }
   ],
   "source": [
    "\n",
    " \n",
    "def bubbleSort(arr):\n",
    "    n = len(arr)\n",
    " \n",
    "    \n",
    "    for i in range(n-1):\n",
    "    \n",
    "        \n",
    "        for j in range(0, n-i-1):\n",
    " \n",
    "           \n",
    "            if arr[j] > arr[j + 1] :\n",
    "                arr[j], arr[j + 1] = arr[j + 1], arr[j]\n",
    " \n",
    "\n",
    "arr = [64, 34, 25, 12, 22, 11, 90]\n",
    " \n",
    "bubbleSort(arr)\n",
    " \n",
    "print (\"Sorted array is:\")\n",
    "for i in range(len(arr)):\n",
    "    print (\"% d\" % arr[i],end=\" \")"
   ]
  },
  {
   "cell_type": "markdown",
   "id": "d61a4aab",
   "metadata": {},
   "source": [
    "15.\tFind the words and its count for a given text file?"
   ]
  },
  {
   "cell_type": "code",
   "execution_count": 47,
   "id": "972adb2b",
   "metadata": {},
   "outputs": [
    {
     "name": "stdout",
     "output_type": "stream",
     "text": [
      "emma : 1\n",
      "charlotte : 1\n",
      "duerre : 1\n",
      "watson : 2\n",
      "(born : 1\n",
      "15 : 1\n",
      "april : 1\n",
      "1990) : 1\n",
      "is : 2\n",
      "an : 1\n",
      "english : 1\n",
      "actress : 1\n",
      "and : 4\n",
      "activist. : 1\n",
      "she : 1\n",
      "known : 1\n",
      "for : 2\n",
      "her : 2\n",
      "roles : 1\n",
      "in : 3\n",
      "both : 1\n",
      "blockbusters : 1\n",
      "independent : 1\n",
      "films, : 1\n",
      "as : 2\n",
      "well : 1\n",
      "women's : 1\n",
      "rights : 1\n",
      "work. : 1\n",
      "has : 1\n",
      "been : 1\n",
      "ranked : 1\n",
      "among : 1\n",
      "the : 3\n",
      "world's : 1\n",
      "highest-paid : 1\n",
      "actresses : 1\n",
      "by : 2\n",
      "forbes : 1\n",
      "vanity : 1\n",
      "fair, : 1\n",
      "was : 1\n",
      "named : 1\n",
      "one : 1\n",
      "of : 1\n",
      "100 : 1\n",
      "most : 1\n",
      "influential : 1\n",
      "people : 1\n",
      "world : 1\n",
      "time : 1\n",
      "magazine : 1\n",
      "2015. : 1\n"
     ]
    }
   ],
   "source": [
    "text = open(\"emma.txt\", \"r\")\n",
    "  \n",
    "\n",
    "d = dict()\n",
    "  \n",
    "\n",
    "for line in text:\n",
    "    \n",
    "    line = line.strip()\n",
    "  \n",
    "\n",
    "    line = line.lower()\n",
    "  \n",
    "    \n",
    "    words = line.split(\" \")\n",
    "  \n",
    "    \n",
    "    for word in words:\n",
    "        \n",
    "        if word in d:\n",
    "            \n",
    "            d[word] = d[word] + 1\n",
    "        else:\n",
    "            \n",
    "            d[word] = 1\n",
    "  \n",
    "\n",
    "for key in list(d.keys()):\n",
    "    print(key, \":\", d[key])"
   ]
  }
 ],
 "metadata": {
  "kernelspec": {
   "display_name": "Python 3 (ipykernel)",
   "language": "python",
   "name": "python3"
  },
  "language_info": {
   "codemirror_mode": {
    "name": "ipython",
    "version": 3
   },
   "file_extension": ".py",
   "mimetype": "text/x-python",
   "name": "python",
   "nbconvert_exporter": "python",
   "pygments_lexer": "ipython3",
   "version": "3.9.7"
  }
 },
 "nbformat": 4,
 "nbformat_minor": 5
}
